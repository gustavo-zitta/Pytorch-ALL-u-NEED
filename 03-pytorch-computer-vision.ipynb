{
 "cells": [
  {
   "cell_type": "markdown",
   "id": "3ba91b0e",
   "metadata": {
    "id": "fu4j26_T5W92",
    "papermill": {
     "duration": 0.022168,
     "end_time": "2023-07-31T18:55:24.085878",
     "exception": false,
     "start_time": "2023-07-31T18:55:24.063710",
     "status": "completed"
    },
    "tags": []
   },
   "source": [
    "# PyTorch Computer Vision\n",
    "\n",
    "\n",
    "| PyTorch module | What does it do? |\n",
    "| ----- | ----- |\n",
    "| [`torchvision`](https://pytorch.org/vision/stable/index.html) | Contains datasets, model architectures and image transformations often used for computer vision problems. |\n",
    "| [`torchvision.datasets`](https://pytorch.org/vision/stable/datasets.html) | Here you'll find many example computer vision datasets for a range of problems from image classification, object detection, image captioning, video classification and more. It also contains [a series of base classes for making custom datasets](https://pytorch.org/vision/stable/datasets.html#base-classes-for-custom-datasets). |\n",
    "| [`torchvision.models`](https://pytorch.org/vision/stable/models.html) | This module contains well-performing and commonly used computer vision model architectures implemented in PyTorch, you can use these with your own problems. |\n",
    "| [`torchvision.transforms`](https://pytorch.org/vision/stable/transforms.html) | Often images need to be transformed (turned into numbers/processed/augmented) before being used with a model, common image transformations are found here. |\n",
    "| [`torch.utils.data.Dataset`](https://pytorch.org/docs/stable/data.html#torch.utils.data.Dataset) | Base dataset class for PyTorch.  |\n",
    "| [`torch.utils.data.DataLoader`](https://pytorch.org/docs/stable/data.html#module-torch.utils.data) | Creates a Python iteralbe over a dataset (created with `torch.utils.data.Dataset`). |"
   ]
  },
  {
   "cell_type": "code",
   "execution_count": 1,
   "id": "68191914",
   "metadata": {
    "execution": {
     "iopub.execute_input": "2023-07-31T18:55:24.128559Z",
     "iopub.status.busy": "2023-07-31T18:55:24.128069Z",
     "iopub.status.idle": "2023-07-31T18:55:27.869341Z",
     "shell.execute_reply": "2023-07-31T18:55:27.866932Z"
    },
    "executionInfo": {
     "elapsed": 5437,
     "status": "ok",
     "timestamp": 1690387537555,
     "user": {
      "displayName": "Gustavo Robl Zitta",
      "userId": "12496481005659581268"
     },
     "user_tz": 180
    },
    "id": "auSptWnt5iZk",
    "outputId": "1a043daf-263b-4594-cda8-3608b9eee399",
    "papermill": {
     "duration": 3.765163,
     "end_time": "2023-07-31T18:55:27.871619",
     "exception": false,
     "start_time": "2023-07-31T18:55:24.106456",
     "status": "completed"
    },
    "tags": []
   },
   "outputs": [
    {
     "name": "stdout",
     "output_type": "stream",
     "text": [
      "PyTorch version: 2.0.0\n",
      "torchvision version: 0.15.1\n"
     ]
    }
   ],
   "source": [
    "import torch\n",
    "from torch import nn\n",
    "\n",
    "import torchvision\n",
    "from torchvision import datasets\n",
    "from torchvision.transforms import ToTensor\n",
    "\n",
    "import matplotlib.pyplot as plt\n",
    "print(f\"PyTorch version: {torch.__version__}\\ntorchvision version: {torchvision.__version__}\")"
   ]
  },
  {
   "cell_type": "markdown",
   "id": "adee1e23",
   "metadata": {
    "id": "Q6SuLpy56vJh",
    "papermill": {
     "duration": 0.01943,
     "end_time": "2023-07-31T18:55:27.911759",
     "exception": false,
     "start_time": "2023-07-31T18:55:27.892329",
     "status": "completed"
    },
    "tags": []
   },
   "source": [
    "## 1. Getting a dataset"
   ]
  },
  {
   "cell_type": "code",
   "execution_count": 2,
   "id": "9d750692",
   "metadata": {
    "execution": {
     "iopub.execute_input": "2023-07-31T18:55:27.953276Z",
     "iopub.status.busy": "2023-07-31T18:55:27.952103Z",
     "iopub.status.idle": "2023-07-31T18:55:29.276012Z",
     "shell.execute_reply": "2023-07-31T18:55:29.275041Z"
    },
    "executionInfo": {
     "elapsed": 1721,
     "status": "ok",
     "timestamp": 1690387539274,
     "user": {
      "displayName": "Gustavo Robl Zitta",
      "userId": "12496481005659581268"
     },
     "user_tz": 180
    },
    "id": "-iQIs5eL8AEM",
    "outputId": "6280c49e-161f-4cb3-8984-cd953ab3ca2b",
    "papermill": {
     "duration": 1.346957,
     "end_time": "2023-07-31T18:55:29.278386",
     "exception": false,
     "start_time": "2023-07-31T18:55:27.931429",
     "status": "completed"
    },
    "tags": []
   },
   "outputs": [
    {
     "name": "stdout",
     "output_type": "stream",
     "text": [
      "Downloading http://fashion-mnist.s3-website.eu-central-1.amazonaws.com/train-images-idx3-ubyte.gz\n",
      "Downloading http://fashion-mnist.s3-website.eu-central-1.amazonaws.com/train-images-idx3-ubyte.gz to data/FashionMNIST/raw/train-images-idx3-ubyte.gz\n"
     ]
    },
    {
     "name": "stderr",
     "output_type": "stream",
     "text": [
      "100%|██████████| 26421880/26421880 [00:00<00:00, 115871057.66it/s]\n"
     ]
    },
    {
     "name": "stdout",
     "output_type": "stream",
     "text": [
      "Extracting data/FashionMNIST/raw/train-images-idx3-ubyte.gz to data/FashionMNIST/raw\n",
      "\n",
      "Downloading http://fashion-mnist.s3-website.eu-central-1.amazonaws.com/train-labels-idx1-ubyte.gz\n",
      "Downloading http://fashion-mnist.s3-website.eu-central-1.amazonaws.com/train-labels-idx1-ubyte.gz to data/FashionMNIST/raw/train-labels-idx1-ubyte.gz\n"
     ]
    },
    {
     "name": "stderr",
     "output_type": "stream",
     "text": [
      "100%|██████████| 29515/29515 [00:00<00:00, 4590606.39it/s]\n"
     ]
    },
    {
     "name": "stdout",
     "output_type": "stream",
     "text": [
      "Extracting data/FashionMNIST/raw/train-labels-idx1-ubyte.gz to data/FashionMNIST/raw\n",
      "\n",
      "Downloading http://fashion-mnist.s3-website.eu-central-1.amazonaws.com/t10k-images-idx3-ubyte.gz\n",
      "Downloading http://fashion-mnist.s3-website.eu-central-1.amazonaws.com/t10k-images-idx3-ubyte.gz to data/FashionMNIST/raw/t10k-images-idx3-ubyte.gz\n"
     ]
    },
    {
     "name": "stderr",
     "output_type": "stream",
     "text": [
      "100%|██████████| 4422102/4422102 [00:00<00:00, 70811979.27it/s]\n"
     ]
    },
    {
     "name": "stdout",
     "output_type": "stream",
     "text": [
      "Extracting data/FashionMNIST/raw/t10k-images-idx3-ubyte.gz to data/FashionMNIST/raw\n",
      "\n",
      "Downloading http://fashion-mnist.s3-website.eu-central-1.amazonaws.com/t10k-labels-idx1-ubyte.gz\n",
      "Downloading http://fashion-mnist.s3-website.eu-central-1.amazonaws.com/t10k-labels-idx1-ubyte.gz to data/FashionMNIST/raw/t10k-labels-idx1-ubyte.gz\n"
     ]
    },
    {
     "name": "stderr",
     "output_type": "stream",
     "text": [
      "100%|██████████| 5148/5148 [00:00<00:00, 12423634.63it/s]\n"
     ]
    },
    {
     "name": "stdout",
     "output_type": "stream",
     "text": [
      "Extracting data/FashionMNIST/raw/t10k-labels-idx1-ubyte.gz to data/FashionMNIST/raw\n",
      "\n"
     ]
    }
   ],
   "source": [
    "# Setup training data\n",
    "train_data = datasets.FashionMNIST(\n",
    "    root=\"data\", # where to download data to?\n",
    "    train=True, # get training data\n",
    "    download=True, # download data if it doesn't exist on disk\n",
    "    transform=ToTensor(), # images come as PIL format, we want to turn into Torch tensors\n",
    "    target_transform=None # you can transform labels as well\n",
    ")\n",
    "\n",
    "# Setup testing data\n",
    "test_data = datasets.FashionMNIST(\n",
    "    root=\"data\",\n",
    "    train=False, # get test data\n",
    "    download=True,\n",
    "    transform=ToTensor()\n",
    ")"
   ]
  },
  {
   "cell_type": "code",
   "execution_count": 3,
   "id": "86dae0b2",
   "metadata": {
    "execution": {
     "iopub.execute_input": "2023-07-31T18:55:29.323206Z",
     "iopub.status.busy": "2023-07-31T18:55:29.322891Z",
     "iopub.status.idle": "2023-07-31T18:55:29.377146Z",
     "shell.execute_reply": "2023-07-31T18:55:29.376282Z"
    },
    "executionInfo": {
     "elapsed": 589,
     "status": "ok",
     "timestamp": 1690387539859,
     "user": {
      "displayName": "Gustavo Robl Zitta",
      "userId": "12496481005659581268"
     },
     "user_tz": 180
    },
    "id": "wM08TCb2-n8K",
    "outputId": "370d0322-99ae-4fc0-bfb1-8c6faad6ab18",
    "papermill": {
     "duration": 0.078742,
     "end_time": "2023-07-31T18:55:29.379234",
     "exception": false,
     "start_time": "2023-07-31T18:55:29.300492",
     "status": "completed"
    },
    "tags": []
   },
   "outputs": [
    {
     "data": {
      "text/plain": [
       "(tensor([[[0.0000, 0.0000, 0.0000, 0.0000, 0.0000, 0.0000, 0.0000, 0.0000,\n",
       "           0.0000, 0.0000, 0.0000, 0.0000, 0.0000, 0.0000, 0.0000, 0.0000,\n",
       "           0.0000, 0.0000, 0.0000, 0.0000, 0.0000, 0.0000, 0.0000, 0.0000,\n",
       "           0.0000, 0.0000, 0.0000, 0.0000],\n",
       "          [0.0000, 0.0000, 0.0000, 0.0000, 0.0000, 0.0000, 0.0000, 0.0000,\n",
       "           0.0000, 0.0000, 0.0000, 0.0000, 0.0000, 0.0000, 0.0000, 0.0000,\n",
       "           0.0000, 0.0000, 0.0000, 0.0000, 0.0000, 0.0000, 0.0000, 0.0000,\n",
       "           0.0000, 0.0000, 0.0000, 0.0000],\n",
       "          [0.0000, 0.0000, 0.0000, 0.0000, 0.0000, 0.0000, 0.0000, 0.0000,\n",
       "           0.0000, 0.0000, 0.0000, 0.0000, 0.0000, 0.0000, 0.0000, 0.0000,\n",
       "           0.0000, 0.0000, 0.0000, 0.0000, 0.0000, 0.0000, 0.0000, 0.0000,\n",
       "           0.0000, 0.0000, 0.0000, 0.0000],\n",
       "          [0.0000, 0.0000, 0.0000, 0.0000, 0.0000, 0.0000, 0.0000, 0.0000,\n",
       "           0.0000, 0.0000, 0.0000, 0.0000, 0.0039, 0.0000, 0.0000, 0.0510,\n",
       "           0.2863, 0.0000, 0.0000, 0.0039, 0.0157, 0.0000, 0.0000, 0.0000,\n",
       "           0.0000, 0.0039, 0.0039, 0.0000],\n",
       "          [0.0000, 0.0000, 0.0000, 0.0000, 0.0000, 0.0000, 0.0000, 0.0000,\n",
       "           0.0000, 0.0000, 0.0000, 0.0000, 0.0118, 0.0000, 0.1412, 0.5333,\n",
       "           0.4980, 0.2431, 0.2118, 0.0000, 0.0000, 0.0000, 0.0039, 0.0118,\n",
       "           0.0157, 0.0000, 0.0000, 0.0118],\n",
       "          [0.0000, 0.0000, 0.0000, 0.0000, 0.0000, 0.0000, 0.0000, 0.0000,\n",
       "           0.0000, 0.0000, 0.0000, 0.0000, 0.0235, 0.0000, 0.4000, 0.8000,\n",
       "           0.6902, 0.5255, 0.5647, 0.4824, 0.0902, 0.0000, 0.0000, 0.0000,\n",
       "           0.0000, 0.0471, 0.0392, 0.0000],\n",
       "          [0.0000, 0.0000, 0.0000, 0.0000, 0.0000, 0.0000, 0.0000, 0.0000,\n",
       "           0.0000, 0.0000, 0.0000, 0.0000, 0.0000, 0.0000, 0.6078, 0.9255,\n",
       "           0.8118, 0.6980, 0.4196, 0.6118, 0.6314, 0.4275, 0.2510, 0.0902,\n",
       "           0.3020, 0.5098, 0.2824, 0.0588],\n",
       "          [0.0000, 0.0000, 0.0000, 0.0000, 0.0000, 0.0000, 0.0000, 0.0000,\n",
       "           0.0000, 0.0000, 0.0000, 0.0039, 0.0000, 0.2706, 0.8118, 0.8745,\n",
       "           0.8549, 0.8471, 0.8471, 0.6392, 0.4980, 0.4745, 0.4784, 0.5725,\n",
       "           0.5529, 0.3451, 0.6745, 0.2588],\n",
       "          [0.0000, 0.0000, 0.0000, 0.0000, 0.0000, 0.0000, 0.0000, 0.0000,\n",
       "           0.0000, 0.0039, 0.0039, 0.0039, 0.0000, 0.7843, 0.9098, 0.9098,\n",
       "           0.9137, 0.8980, 0.8745, 0.8745, 0.8431, 0.8353, 0.6431, 0.4980,\n",
       "           0.4824, 0.7686, 0.8980, 0.0000],\n",
       "          [0.0000, 0.0000, 0.0000, 0.0000, 0.0000, 0.0000, 0.0000, 0.0000,\n",
       "           0.0000, 0.0000, 0.0000, 0.0000, 0.0000, 0.7176, 0.8824, 0.8471,\n",
       "           0.8745, 0.8941, 0.9216, 0.8902, 0.8784, 0.8706, 0.8784, 0.8667,\n",
       "           0.8745, 0.9608, 0.6784, 0.0000],\n",
       "          [0.0000, 0.0000, 0.0000, 0.0000, 0.0000, 0.0000, 0.0000, 0.0000,\n",
       "           0.0000, 0.0000, 0.0000, 0.0000, 0.0000, 0.7569, 0.8941, 0.8549,\n",
       "           0.8353, 0.7765, 0.7059, 0.8314, 0.8235, 0.8275, 0.8353, 0.8745,\n",
       "           0.8627, 0.9529, 0.7922, 0.0000],\n",
       "          [0.0000, 0.0000, 0.0000, 0.0000, 0.0000, 0.0000, 0.0000, 0.0000,\n",
       "           0.0000, 0.0039, 0.0118, 0.0000, 0.0471, 0.8588, 0.8627, 0.8314,\n",
       "           0.8549, 0.7529, 0.6627, 0.8902, 0.8157, 0.8549, 0.8784, 0.8314,\n",
       "           0.8863, 0.7725, 0.8196, 0.2039],\n",
       "          [0.0000, 0.0000, 0.0000, 0.0000, 0.0000, 0.0000, 0.0000, 0.0000,\n",
       "           0.0000, 0.0000, 0.0235, 0.0000, 0.3882, 0.9569, 0.8706, 0.8627,\n",
       "           0.8549, 0.7961, 0.7765, 0.8667, 0.8431, 0.8353, 0.8706, 0.8627,\n",
       "           0.9608, 0.4667, 0.6549, 0.2196],\n",
       "          [0.0000, 0.0000, 0.0000, 0.0000, 0.0000, 0.0000, 0.0000, 0.0000,\n",
       "           0.0000, 0.0157, 0.0000, 0.0000, 0.2157, 0.9255, 0.8941, 0.9020,\n",
       "           0.8941, 0.9412, 0.9098, 0.8353, 0.8549, 0.8745, 0.9176, 0.8510,\n",
       "           0.8510, 0.8196, 0.3608, 0.0000],\n",
       "          [0.0000, 0.0000, 0.0039, 0.0157, 0.0235, 0.0275, 0.0078, 0.0000,\n",
       "           0.0000, 0.0000, 0.0000, 0.0000, 0.9294, 0.8863, 0.8510, 0.8745,\n",
       "           0.8706, 0.8588, 0.8706, 0.8667, 0.8471, 0.8745, 0.8980, 0.8431,\n",
       "           0.8549, 1.0000, 0.3020, 0.0000],\n",
       "          [0.0000, 0.0118, 0.0000, 0.0000, 0.0000, 0.0000, 0.0000, 0.0000,\n",
       "           0.0000, 0.2431, 0.5686, 0.8000, 0.8941, 0.8118, 0.8353, 0.8667,\n",
       "           0.8549, 0.8157, 0.8275, 0.8549, 0.8784, 0.8745, 0.8588, 0.8431,\n",
       "           0.8784, 0.9569, 0.6235, 0.0000],\n",
       "          [0.0000, 0.0000, 0.0000, 0.0000, 0.0706, 0.1725, 0.3216, 0.4196,\n",
       "           0.7412, 0.8941, 0.8627, 0.8706, 0.8510, 0.8863, 0.7843, 0.8039,\n",
       "           0.8275, 0.9020, 0.8784, 0.9176, 0.6902, 0.7373, 0.9804, 0.9725,\n",
       "           0.9137, 0.9333, 0.8431, 0.0000],\n",
       "          [0.0000, 0.2235, 0.7333, 0.8157, 0.8784, 0.8667, 0.8784, 0.8157,\n",
       "           0.8000, 0.8392, 0.8157, 0.8196, 0.7843, 0.6235, 0.9608, 0.7569,\n",
       "           0.8078, 0.8745, 1.0000, 1.0000, 0.8667, 0.9176, 0.8667, 0.8275,\n",
       "           0.8627, 0.9098, 0.9647, 0.0000],\n",
       "          [0.0118, 0.7922, 0.8941, 0.8784, 0.8667, 0.8275, 0.8275, 0.8392,\n",
       "           0.8039, 0.8039, 0.8039, 0.8627, 0.9412, 0.3137, 0.5882, 1.0000,\n",
       "           0.8980, 0.8667, 0.7373, 0.6039, 0.7490, 0.8235, 0.8000, 0.8196,\n",
       "           0.8706, 0.8941, 0.8824, 0.0000],\n",
       "          [0.3843, 0.9137, 0.7765, 0.8235, 0.8706, 0.8980, 0.8980, 0.9176,\n",
       "           0.9765, 0.8627, 0.7608, 0.8431, 0.8510, 0.9451, 0.2549, 0.2863,\n",
       "           0.4157, 0.4588, 0.6588, 0.8588, 0.8667, 0.8431, 0.8510, 0.8745,\n",
       "           0.8745, 0.8784, 0.8980, 0.1137],\n",
       "          [0.2941, 0.8000, 0.8314, 0.8000, 0.7569, 0.8039, 0.8275, 0.8824,\n",
       "           0.8471, 0.7255, 0.7725, 0.8078, 0.7765, 0.8353, 0.9412, 0.7647,\n",
       "           0.8902, 0.9608, 0.9373, 0.8745, 0.8549, 0.8314, 0.8196, 0.8706,\n",
       "           0.8627, 0.8667, 0.9020, 0.2627],\n",
       "          [0.1882, 0.7961, 0.7176, 0.7608, 0.8353, 0.7725, 0.7255, 0.7451,\n",
       "           0.7608, 0.7529, 0.7922, 0.8392, 0.8588, 0.8667, 0.8627, 0.9255,\n",
       "           0.8824, 0.8471, 0.7804, 0.8078, 0.7294, 0.7098, 0.6941, 0.6745,\n",
       "           0.7098, 0.8039, 0.8078, 0.4510],\n",
       "          [0.0000, 0.4784, 0.8588, 0.7569, 0.7020, 0.6706, 0.7176, 0.7686,\n",
       "           0.8000, 0.8235, 0.8353, 0.8118, 0.8275, 0.8235, 0.7843, 0.7686,\n",
       "           0.7608, 0.7490, 0.7647, 0.7490, 0.7765, 0.7529, 0.6902, 0.6118,\n",
       "           0.6549, 0.6941, 0.8235, 0.3608],\n",
       "          [0.0000, 0.0000, 0.2902, 0.7412, 0.8314, 0.7490, 0.6863, 0.6745,\n",
       "           0.6863, 0.7098, 0.7255, 0.7373, 0.7412, 0.7373, 0.7569, 0.7765,\n",
       "           0.8000, 0.8196, 0.8235, 0.8235, 0.8275, 0.7373, 0.7373, 0.7608,\n",
       "           0.7529, 0.8471, 0.6667, 0.0000],\n",
       "          [0.0078, 0.0000, 0.0000, 0.0000, 0.2588, 0.7843, 0.8706, 0.9294,\n",
       "           0.9373, 0.9490, 0.9647, 0.9529, 0.9569, 0.8667, 0.8627, 0.7569,\n",
       "           0.7490, 0.7020, 0.7137, 0.7137, 0.7098, 0.6902, 0.6510, 0.6588,\n",
       "           0.3882, 0.2275, 0.0000, 0.0000],\n",
       "          [0.0000, 0.0000, 0.0000, 0.0000, 0.0000, 0.0000, 0.0000, 0.1569,\n",
       "           0.2392, 0.1725, 0.2824, 0.1608, 0.1373, 0.0000, 0.0000, 0.0000,\n",
       "           0.0000, 0.0000, 0.0000, 0.0000, 0.0000, 0.0000, 0.0000, 0.0000,\n",
       "           0.0000, 0.0000, 0.0000, 0.0000],\n",
       "          [0.0000, 0.0000, 0.0000, 0.0000, 0.0000, 0.0000, 0.0000, 0.0000,\n",
       "           0.0000, 0.0000, 0.0000, 0.0000, 0.0000, 0.0000, 0.0000, 0.0000,\n",
       "           0.0000, 0.0000, 0.0000, 0.0000, 0.0000, 0.0000, 0.0000, 0.0000,\n",
       "           0.0000, 0.0000, 0.0000, 0.0000],\n",
       "          [0.0000, 0.0000, 0.0000, 0.0000, 0.0000, 0.0000, 0.0000, 0.0000,\n",
       "           0.0000, 0.0000, 0.0000, 0.0000, 0.0000, 0.0000, 0.0000, 0.0000,\n",
       "           0.0000, 0.0000, 0.0000, 0.0000, 0.0000, 0.0000, 0.0000, 0.0000,\n",
       "           0.0000, 0.0000, 0.0000, 0.0000]]]),\n",
       " 9)"
      ]
     },
     "execution_count": 3,
     "metadata": {},
     "output_type": "execute_result"
    }
   ],
   "source": [
    "image, label = train_data[0]\n",
    "image, label"
   ]
  },
  {
   "cell_type": "markdown",
   "id": "ec5ae383",
   "metadata": {
    "id": "3CWwhGV5_ZEs",
    "papermill": {
     "duration": 0.021866,
     "end_time": "2023-07-31T18:55:29.422720",
     "exception": false,
     "start_time": "2023-07-31T18:55:29.400854",
     "status": "completed"
    },
    "tags": []
   },
   "source": [
    "### Input and output shapes of a computer vision model"
   ]
  },
  {
   "cell_type": "code",
   "execution_count": 4,
   "id": "d02ada2b",
   "metadata": {
    "execution": {
     "iopub.execute_input": "2023-07-31T18:55:29.467650Z",
     "iopub.status.busy": "2023-07-31T18:55:29.467309Z",
     "iopub.status.idle": "2023-07-31T18:55:29.474072Z",
     "shell.execute_reply": "2023-07-31T18:55:29.473170Z"
    },
    "executionInfo": {
     "elapsed": 8,
     "status": "ok",
     "timestamp": 1690387539860,
     "user": {
      "displayName": "Gustavo Robl Zitta",
      "userId": "12496481005659581268"
     },
     "user_tz": 180
    },
    "id": "ShZoMd-IAXbw",
    "outputId": "be45392b-5f05-4cf9-9568-b87f9c07c9ca",
    "papermill": {
     "duration": 0.031513,
     "end_time": "2023-07-31T18:55:29.476390",
     "exception": false,
     "start_time": "2023-07-31T18:55:29.444877",
     "status": "completed"
    },
    "tags": []
   },
   "outputs": [
    {
     "data": {
      "text/plain": [
       "(60000, 60000, 10000, 10000)"
      ]
     },
     "execution_count": 4,
     "metadata": {},
     "output_type": "execute_result"
    }
   ],
   "source": [
    "# How many samples are there?\n",
    "len(train_data.data), len(train_data.targets), len(test_data.data), len(test_data.targets)"
   ]
  },
  {
   "cell_type": "code",
   "execution_count": 5,
   "id": "4b7a11bd",
   "metadata": {
    "execution": {
     "iopub.execute_input": "2023-07-31T18:55:29.521796Z",
     "iopub.status.busy": "2023-07-31T18:55:29.520984Z",
     "iopub.status.idle": "2023-07-31T18:55:29.527372Z",
     "shell.execute_reply": "2023-07-31T18:55:29.526455Z"
    },
    "executionInfo": {
     "elapsed": 8,
     "status": "ok",
     "timestamp": 1690387539860,
     "user": {
      "displayName": "Gustavo Robl Zitta",
      "userId": "12496481005659581268"
     },
     "user_tz": 180
    },
    "id": "rE8eeDz0AXvp",
    "outputId": "ec1d66b1-1519-400a-8f70-7c6ae331e066",
    "papermill": {
     "duration": 0.031058,
     "end_time": "2023-07-31T18:55:29.529336",
     "exception": false,
     "start_time": "2023-07-31T18:55:29.498278",
     "status": "completed"
    },
    "tags": []
   },
   "outputs": [
    {
     "data": {
      "text/plain": [
       "['T-shirt/top',\n",
       " 'Trouser',\n",
       " 'Pullover',\n",
       " 'Dress',\n",
       " 'Coat',\n",
       " 'Sandal',\n",
       " 'Shirt',\n",
       " 'Sneaker',\n",
       " 'Bag',\n",
       " 'Ankle boot']"
      ]
     },
     "execution_count": 5,
     "metadata": {},
     "output_type": "execute_result"
    }
   ],
   "source": [
    "# See classes\n",
    "class_names = train_data.classes\n",
    "class_names"
   ]
  },
  {
   "cell_type": "markdown",
   "id": "72441b03",
   "metadata": {
    "id": "y1o5E86BA8JR",
    "papermill": {
     "duration": 0.022556,
     "end_time": "2023-07-31T18:55:29.573874",
     "exception": false,
     "start_time": "2023-07-31T18:55:29.551318",
     "status": "completed"
    },
    "tags": []
   },
   "source": [
    "### Visualizing our data"
   ]
  },
  {
   "cell_type": "code",
   "execution_count": 6,
   "id": "aef253de",
   "metadata": {
    "execution": {
     "iopub.execute_input": "2023-07-31T18:55:29.620257Z",
     "iopub.status.busy": "2023-07-31T18:55:29.619901Z",
     "iopub.status.idle": "2023-07-31T18:55:29.947450Z",
     "shell.execute_reply": "2023-07-31T18:55:29.946466Z"
    },
    "executionInfo": {
     "elapsed": 6,
     "status": "ok",
     "timestamp": 1690387539860,
     "user": {
      "displayName": "Gustavo Robl Zitta",
      "userId": "12496481005659581268"
     },
     "user_tz": 180
    },
    "id": "D4JgfS8DBBJi",
    "outputId": "f14f8148-cbf4-42dc-c76b-e4c2a2069c37",
    "papermill": {
     "duration": 0.35354,
     "end_time": "2023-07-31T18:55:29.949936",
     "exception": false,
     "start_time": "2023-07-31T18:55:29.596396",
     "status": "completed"
    },
    "tags": []
   },
   "outputs": [
    {
     "name": "stdout",
     "output_type": "stream",
     "text": [
      "Image shape: torch.Size([1, 28, 28])\n"
     ]
    },
    {
     "data": {
      "image/png": "[encoded data removed]",
      "text/plain": [
       "<Figure size 640x480 with 1 Axes>"
      ]
     },
     "metadata": {},
     "output_type": "display_data"
    }
   ],
   "source": [
    "import matplotlib.pyplot as plt\n",
    "image, label = train_data[0]\n",
    "print(f\"Image shape: {image.shape}\")\n",
    "plt.imshow(image.squeeze()) # image shape is [1, 28, 28] (colour channels, height, width)\n",
    "plt.title(label);"
   ]
  },
  {
   "cell_type": "code",
   "execution_count": 7,
   "id": "70388cba",
   "metadata": {
    "execution": {
     "iopub.execute_input": "2023-07-31T18:55:29.997356Z",
     "iopub.status.busy": "2023-07-31T18:55:29.997020Z",
     "iopub.status.idle": "2023-07-31T18:55:31.121188Z",
     "shell.execute_reply": "2023-07-31T18:55:31.120331Z"
    },
    "executionInfo": {
     "elapsed": 3019,
     "status": "ok",
     "timestamp": 1690387542875,
     "user": {
      "displayName": "Gustavo Robl Zitta",
      "userId": "12496481005659581268"
     },
     "user_tz": 180
    },
    "id": "FmEcrL5_BBbT",
    "outputId": "58e1e22c-44ca-4c4f-9a40-c59cea826a83",
    "papermill": {
     "duration": 1.15003,
     "end_time": "2023-07-31T18:55:31.123249",
     "exception": false,
     "start_time": "2023-07-31T18:55:29.973219",
     "status": "completed"
    },
    "tags": []
   },
   "outputs": [
    {
     "data": {
      "image/png": "[encoded data removed]",
      "text/plain": [
       "<Figure size 900x900 with 16 Axes>"
      ]
     },
     "metadata": {},
     "output_type": "display_data"
    }
   ],
   "source": [
    "# Plot more images\n",
    "torch.manual_seed(42)\n",
    "fig = plt.figure(figsize=(9, 9))\n",
    "rows, cols = 4, 4\n",
    "for i in range(1, rows * cols + 1):\n",
    "    random_idx = torch.randint(0, len(train_data), size=[1]).item()\n",
    "    img, label = train_data[random_idx]\n",
    "    fig.add_subplot(rows, cols, i)\n",
    "    plt.imshow(img.squeeze(), cmap=\"gray\")\n",
    "    plt.title(class_names[label])\n",
    "    plt.axis(False);"
   ]
  },
  {
   "cell_type": "markdown",
   "id": "3ee9180d",
   "metadata": {
    "id": "T3C68XKlDt1l",
    "papermill": {
     "duration": 0.023561,
     "end_time": "2023-07-31T18:55:31.170543",
     "exception": false,
     "start_time": "2023-07-31T18:55:31.146982",
     "status": "completed"
    },
    "tags": []
   },
   "source": [
    "## 2. Prepare DataLoader"
   ]
  },
  {
   "cell_type": "code",
   "execution_count": 8,
   "id": "d842501c",
   "metadata": {
    "execution": {
     "iopub.execute_input": "2023-07-31T18:55:31.219242Z",
     "iopub.status.busy": "2023-07-31T18:55:31.218235Z",
     "iopub.status.idle": "2023-07-31T18:55:31.226424Z",
     "shell.execute_reply": "2023-07-31T18:55:31.225382Z"
    },
    "executionInfo": {
     "elapsed": 5,
     "status": "ok",
     "timestamp": 1690387542875,
     "user": {
      "displayName": "Gustavo Robl Zitta",
      "userId": "12496481005659581268"
     },
     "user_tz": 180
    },
    "id": "svsNiamEDuve",
    "outputId": "e753f1b2-fb35-4b9e-d4f0-8ac09392477f",
    "papermill": {
     "duration": 0.03479,
     "end_time": "2023-07-31T18:55:31.228453",
     "exception": false,
     "start_time": "2023-07-31T18:55:31.193663",
     "status": "completed"
    },
    "tags": []
   },
   "outputs": [
    {
     "name": "stdout",
     "output_type": "stream",
     "text": [
      "Dataloaders: (<torch.utils.data.dataloader.DataLoader object at 0x7b9f8cc3aa70>, <torch.utils.data.dataloader.DataLoader object at 0x7ba0354bd3c0>)\n",
      "Length of train dataloader: 1875 batches of 32\n",
      "Length of test dataloader: 313 batches of 32\n"
     ]
    }
   ],
   "source": [
    "from torch.utils.data import DataLoader\n",
    "\n",
    "# Setup the batch size hyperparameter\n",
    "BATCH_SIZE = 32\n",
    "\n",
    "# Turn datasets into iterables (batches)\n",
    "train_dataloader = DataLoader(train_data, # dataset to turn into iterable\n",
    "    batch_size=BATCH_SIZE, # how many samples per batch?\n",
    "    shuffle=True # shuffle data every epoch?\n",
    ")\n",
    "\n",
    "test_dataloader = DataLoader(test_data,\n",
    "    batch_size=BATCH_SIZE,\n",
    "    shuffle=False # don't necessarily have to shuffle the testing data\n",
    ")\n",
    "\n",
    "# Let's check out what we've created\n",
    "print(f\"Dataloaders: {train_dataloader, test_dataloader}\")\n",
    "print(f\"Length of train dataloader: {len(train_dataloader)} batches of {BATCH_SIZE}\")\n",
    "print(f\"Length of test dataloader: {len(test_dataloader)} batches of {BATCH_SIZE}\")"
   ]
  },
  {
   "cell_type": "code",
   "execution_count": 9,
   "id": "b864d181",
   "metadata": {
    "execution": {
     "iopub.execute_input": "2023-07-31T18:55:31.276929Z",
     "iopub.status.busy": "2023-07-31T18:55:31.276090Z",
     "iopub.status.idle": "2023-07-31T18:55:31.300048Z",
     "shell.execute_reply": "2023-07-31T18:55:31.299117Z"
    },
    "executionInfo": {
     "elapsed": 1166,
     "status": "ok",
     "timestamp": 1690387544038,
     "user": {
      "displayName": "Gustavo Robl Zitta",
      "userId": "12496481005659581268"
     },
     "user_tz": 180
    },
    "id": "YL7Hd25nEoE0",
    "outputId": "09c3aaf0-2cc8-423e-dd4f-5a8c11b36728",
    "papermill": {
     "duration": 0.050387,
     "end_time": "2023-07-31T18:55:31.302051",
     "exception": false,
     "start_time": "2023-07-31T18:55:31.251664",
     "status": "completed"
    },
    "tags": []
   },
   "outputs": [
    {
     "data": {
      "text/plain": [
       "(torch.Size([32, 1, 28, 28]), torch.Size([32]))"
      ]
     },
     "execution_count": 9,
     "metadata": {},
     "output_type": "execute_result"
    }
   ],
   "source": [
    "# Check out what's inside the training dataloader\n",
    "train_features_batch, train_labels_batch = next(iter(train_dataloader))\n",
    "train_features_batch.shape, train_labels_batch.shape"
   ]
  },
  {
   "cell_type": "code",
   "execution_count": 10,
   "id": "4f994aff",
   "metadata": {
    "execution": {
     "iopub.execute_input": "2023-07-31T18:55:31.351685Z",
     "iopub.status.busy": "2023-07-31T18:55:31.350813Z",
     "iopub.status.idle": "2023-07-31T18:55:31.531235Z",
     "shell.execute_reply": "2023-07-31T18:55:31.530303Z"
    },
    "executionInfo": {
     "elapsed": 14,
     "status": "ok",
     "timestamp": 1690387544040,
     "user": {
      "displayName": "Gustavo Robl Zitta",
      "userId": "12496481005659581268"
     },
     "user_tz": 180
    },
    "id": "wcntod0CFjPE",
    "outputId": "c9c8c211-1ba0-42ea-f518-f64153a9f33d",
    "papermill": {
     "duration": 0.207387,
     "end_time": "2023-07-31T18:55:31.533393",
     "exception": false,
     "start_time": "2023-07-31T18:55:31.326006",
     "status": "completed"
    },
    "tags": []
   },
   "outputs": [
    {
     "name": "stdout",
     "output_type": "stream",
     "text": [
      "Image size: torch.Size([1, 28, 28])\n",
      "Label: 6, label size: torch.Size([])\n"
     ]
    },
    {
     "data": {
      "image/png": "[encoded data removed]",
      "text/plain": [
       "<Figure size 640x480 with 1 Axes>"
      ]
     },
     "metadata": {},
     "output_type": "display_data"
    }
   ],
   "source": [
    "# Show a sample\n",
    "torch.manual_seed(42)\n",
    "random_idx = torch.randint(0, len(train_features_batch), size=[1]).item()\n",
    "img, label = train_features_batch[random_idx], train_labels_batch[random_idx]\n",
    "plt.imshow(img.squeeze(), cmap=\"gray\")\n",
    "plt.title(class_names[label])\n",
    "plt.axis(\"Off\");\n",
    "print(f\"Image size: {img.shape}\")\n",
    "print(f\"Label: {label}, label size: {label.shape}\")"
   ]
  },
  {
   "cell_type": "markdown",
   "id": "2f309b2f",
   "metadata": {
    "id": "USgiKctWGcL3",
    "papermill": {
     "duration": 0.024677,
     "end_time": "2023-07-31T18:55:31.582629",
     "exception": false,
     "start_time": "2023-07-31T18:55:31.557952",
     "status": "completed"
    },
    "tags": []
   },
   "source": [
    "## 3. Model 0: Build a baseline model"
   ]
  },
  {
   "cell_type": "code",
   "execution_count": 11,
   "id": "82dc23ba",
   "metadata": {
    "execution": {
     "iopub.execute_input": "2023-07-31T18:55:31.632787Z",
     "iopub.status.busy": "2023-07-31T18:55:31.632433Z",
     "iopub.status.idle": "2023-07-31T18:55:31.638867Z",
     "shell.execute_reply": "2023-07-31T18:55:31.637943Z"
    },
    "executionInfo": {
     "elapsed": 12,
     "status": "ok",
     "timestamp": 1690387544040,
     "user": {
      "displayName": "Gustavo Robl Zitta",
      "userId": "12496481005659581268"
     },
     "user_tz": 180
    },
    "id": "Uj_5rcIrG_9x",
    "outputId": "015823b8-430e-4bfb-978f-1bc88d566704",
    "papermill": {
     "duration": 0.033882,
     "end_time": "2023-07-31T18:55:31.641058",
     "exception": false,
     "start_time": "2023-07-31T18:55:31.607176",
     "status": "completed"
    },
    "tags": []
   },
   "outputs": [
    {
     "name": "stdout",
     "output_type": "stream",
     "text": [
      "Shape before flattening: torch.Size([1, 28, 28]) -> [color_channels, height, width]\n",
      "Shape after flattening: torch.Size([1, 784]) -> [color_channels, height*width]\n"
     ]
    }
   ],
   "source": [
    "# Create a flatten layer\n",
    "flatten_model = nn.Flatten() # all nn modules function as a model (can do a forward pass)\n",
    "\n",
    "# Get a single sample\n",
    "x = train_features_batch[0]\n",
    "\n",
    "# Flatten the sample\n",
    "output = flatten_model(x) # perform forward pass\n",
    "\n",
    "# Print out what happened\n",
    "print(f\"Shape before flattening: {x.shape} -> [color_channels, height, width]\")\n",
    "print(f\"Shape after flattening: {output.shape} -> [color_channels, height*width]\")\n",
    "\n",
    "# Try uncommenting below and see what happens\n",
    "# print(x)\n",
    "# print(output)"
   ]
  },
  {
   "cell_type": "code",
   "execution_count": 12,
   "id": "42809f5a",
   "metadata": {
    "execution": {
     "iopub.execute_input": "2023-07-31T18:55:31.691611Z",
     "iopub.status.busy": "2023-07-31T18:55:31.690864Z",
     "iopub.status.idle": "2023-07-31T18:55:31.697223Z",
     "shell.execute_reply": "2023-07-31T18:55:31.696240Z"
    },
    "id": "wSO0IWLwHdbT",
    "papermill": {
     "duration": 0.033957,
     "end_time": "2023-07-31T18:55:31.699209",
     "exception": false,
     "start_time": "2023-07-31T18:55:31.665252",
     "status": "completed"
    },
    "tags": []
   },
   "outputs": [],
   "source": [
    "from torch import nn\n",
    "class FashionMNISTModelV0(nn.Module):\n",
    "    def __init__(self, input_shape: int, hidden_units: int, output_shape: int):\n",
    "        super().__init__()\n",
    "        self.layer_stack = nn.Sequential(\n",
    "            nn.Flatten(), # neural networks like their inputs in vector form\n",
    "            nn.Linear(in_features=input_shape, out_features=hidden_units), # in_features = number of features in a data sample (784 pixels)\n",
    "            nn.Linear(in_features=hidden_units, out_features=output_shape)\n",
    "        )\n",
    "\n",
    "    def forward(self, x):\n",
    "        return self.layer_stack(x)"
   ]
  },
  {
   "cell_type": "code",
   "execution_count": 13,
   "id": "88e6a3ed",
   "metadata": {
    "execution": {
     "iopub.execute_input": "2023-07-31T18:55:31.749787Z",
     "iopub.status.busy": "2023-07-31T18:55:31.749132Z",
     "iopub.status.idle": "2023-07-31T18:55:31.760096Z",
     "shell.execute_reply": "2023-07-31T18:55:31.759166Z"
    },
    "executionInfo": {
     "elapsed": 10,
     "status": "ok",
     "timestamp": 1690387544040,
     "user": {
      "displayName": "Gustavo Robl Zitta",
      "userId": "12496481005659581268"
     },
     "user_tz": 180
    },
    "id": "KfIx9lF3J2z6",
    "outputId": "885e95da-b78b-4373-ca2f-fa32633c78bc",
    "papermill": {
     "duration": 0.038752,
     "end_time": "2023-07-31T18:55:31.762109",
     "exception": false,
     "start_time": "2023-07-31T18:55:31.723357",
     "status": "completed"
    },
    "tags": []
   },
   "outputs": [
    {
     "data": {
      "text/plain": [
       "FashionMNISTModelV0(\n",
       "  (layer_stack): Sequential(\n",
       "    (0): Flatten(start_dim=1, end_dim=-1)\n",
       "    (1): Linear(in_features=784, out_features=10, bias=True)\n",
       "    (2): Linear(in_features=10, out_features=10, bias=True)\n",
       "  )\n",
       ")"
      ]
     },
     "execution_count": 13,
     "metadata": {},
     "output_type": "execute_result"
    }
   ],
   "source": [
    "torch.manual_seed(42)\n",
    "\n",
    "# Need to setup model with input parameters\n",
    "model_0 = FashionMNISTModelV0(input_shape=784, # one for every pixel (28x28)\n",
    "    hidden_units=10, # how many units in the hiden layer\n",
    "    output_shape=len(train_data.classes) # one for every class\n",
    ")\n",
    "model_0.to(\"cpu\") # keep model on CPU to begin with"
   ]
  },
  {
   "cell_type": "markdown",
   "id": "ed24e467",
   "metadata": {
    "id": "4lz_WD8xNqHf",
    "papermill": {
     "duration": 0.024533,
     "end_time": "2023-07-31T18:55:31.811311",
     "exception": false,
     "start_time": "2023-07-31T18:55:31.786778",
     "status": "completed"
    },
    "tags": []
   },
   "source": [
    "### Setup loss, optimizer and evaluation metrics"
   ]
  },
  {
   "cell_type": "code",
   "execution_count": 14,
   "id": "18248f77",
   "metadata": {
    "execution": {
     "iopub.execute_input": "2023-07-31T18:55:31.861946Z",
     "iopub.status.busy": "2023-07-31T18:55:31.861601Z",
     "iopub.status.idle": "2023-07-31T18:55:32.072296Z",
     "shell.execute_reply": "2023-07-31T18:55:32.071391Z"
    },
    "executionInfo": {
     "elapsed": 9,
     "status": "ok",
     "timestamp": 1690387544041,
     "user": {
      "displayName": "Gustavo Robl Zitta",
      "userId": "12496481005659581268"
     },
     "user_tz": 180
    },
    "id": "1GJYqn5cOZnK",
    "outputId": "9df2b675-ba18-485d-a48f-9c5c1e94edc1",
    "papermill": {
     "duration": 0.242707,
     "end_time": "2023-07-31T18:55:32.078574",
     "exception": false,
     "start_time": "2023-07-31T18:55:31.835867",
     "status": "completed"
    },
    "tags": []
   },
   "outputs": [
    {
     "name": "stdout",
     "output_type": "stream",
     "text": [
      "Downloading helper_functions.py\n"
     ]
    }
   ],
   "source": [
    "import requests\n",
    "from pathlib import Path\n",
    "\n",
    "# Download helper functions from Learn PyTorch repo (if not already downloaded)\n",
    "if Path(\"helper_functions.py\").is_file():\n",
    "  print(\"helper_functions.py already exists, skipping download\")\n",
    "else:\n",
    "  print(\"Downloading helper_functions.py\")\n",
    "  # Note: you need the \"raw\" GitHub URL for this to work\n",
    "  request = requests.get(\"https://raw.githubusercontent.com/mrdbourke/pytorch-deep-learning/main/helper_functions.py\")\n",
    "  with open(\"helper_functions.py\", \"wb\") as f:\n",
    "    f.write(request.content)"
   ]
  },
  {
   "cell_type": "code",
   "execution_count": 15,
   "id": "26878b6b",
   "metadata": {
    "execution": {
     "iopub.execute_input": "2023-07-31T18:55:32.151229Z",
     "iopub.status.busy": "2023-07-31T18:55:32.150901Z",
     "iopub.status.idle": "2023-07-31T18:55:32.220165Z",
     "shell.execute_reply": "2023-07-31T18:55:32.219248Z"
    },
    "id": "1ohxj7JXPj5M",
    "papermill": {
     "duration": 0.097486,
     "end_time": "2023-07-31T18:55:32.222530",
     "exception": false,
     "start_time": "2023-07-31T18:55:32.125044",
     "status": "completed"
    },
    "tags": []
   },
   "outputs": [],
   "source": [
    "# Import accuracy metric\n",
    "from helper_functions import accuracy_fn # Note: could also use torchmetrics.Accuracy(task = 'multiclass', num_classes=len(class_names)).to(device)\n",
    "\n",
    "# Setup loss function and optimizer\n",
    "loss_fn = nn.CrossEntropyLoss() # this is also called \"criterion\"/\"cost function\" in some places\n",
    "optimizer = torch.optim.SGD(params=model_0.parameters(), lr=0.1)"
   ]
  },
  {
   "cell_type": "markdown",
   "id": "1779e52d",
   "metadata": {
    "id": "nydDAGBbPxTe",
    "papermill": {
     "duration": 0.024783,
     "end_time": "2023-07-31T18:55:32.272822",
     "exception": false,
     "start_time": "2023-07-31T18:55:32.248039",
     "status": "completed"
    },
    "tags": []
   },
   "source": [
    "### Creating a function to time our experiments"
   ]
  },
  {
   "cell_type": "code",
   "execution_count": 16,
   "id": "476f107c",
   "metadata": {
    "execution": {
     "iopub.execute_input": "2023-07-31T18:55:32.323619Z",
     "iopub.status.busy": "2023-07-31T18:55:32.322762Z",
     "iopub.status.idle": "2023-07-31T18:55:32.329183Z",
     "shell.execute_reply": "2023-07-31T18:55:32.328371Z"
    },
    "id": "bUhVyQ6xRxpT",
    "papermill": {
     "duration": 0.034029,
     "end_time": "2023-07-31T18:55:32.331157",
     "exception": false,
     "start_time": "2023-07-31T18:55:32.297128",
     "status": "completed"
    },
    "tags": []
   },
   "outputs": [],
   "source": [
    "from timeit import default_timer as timer\n",
    "def print_train_time(start: float, end: float, device: torch.device = None):\n",
    "    \"\"\"Prints difference between start and end time.\n",
    "\n",
    "    Args:\n",
    "        start (float): Start time of computation (preferred in timeit format).\n",
    "        end (float): End time of computation.\n",
    "        device ([type], optional): Device that compute is running on. Defaults to None.\n",
    "\n",
    "    Returns:\n",
    "        float: time between start and end in seconds (higher is longer).\n",
    "    \"\"\"\n",
    "    total_time = end - start\n",
    "    print(f\"Train time on {device}: {total_time:.3f} seconds\")\n",
    "    return total_time"
   ]
  },
  {
   "cell_type": "markdown",
   "id": "27a9fb4f",
   "metadata": {
    "id": "Pr7xDCBoSAXj",
    "papermill": {
     "duration": 0.024416,
     "end_time": "2023-07-31T18:55:32.379862",
     "exception": false,
     "start_time": "2023-07-31T18:55:32.355446",
     "status": "completed"
    },
    "tags": []
   },
   "source": [
    "### Creating a training loop and training a model on batches of data\n",
    "\n",
    "Let's step through it:\n",
    "1. Loop through epochs.\n",
    "2. Loop through training batches, perform training steps, calculate the train loss *per batch*.\n",
    "3. Loop through testing batches, perform testing steps, calculate the test loss *per batch*.\n",
    "4. Print out what's happening.\n",
    "5. Time it all (for fun)."
   ]
  },
  {
   "cell_type": "code",
   "execution_count": 17,
   "id": "044d5d51",
   "metadata": {
    "execution": {
     "iopub.execute_input": "2023-07-31T18:55:32.430842Z",
     "iopub.status.busy": "2023-07-31T18:55:32.430509Z",
     "iopub.status.idle": "2023-07-31T18:55:59.471908Z",
     "shell.execute_reply": "2023-07-31T18:55:59.470867Z"
    },
    "executionInfo": {
     "elapsed": 47242,
     "status": "ok",
     "timestamp": 1690387591276,
     "user": {
      "displayName": "Gustavo Robl Zitta",
      "userId": "12496481005659581268"
     },
     "user_tz": 180
    },
    "id": "X4_5dxkPS5Vn",
    "outputId": "71db1e43-7841-4f56-92b8-da5fd2737db8",
    "papermill": {
     "duration": 27.072029,
     "end_time": "2023-07-31T18:55:59.476201",
     "exception": false,
     "start_time": "2023-07-31T18:55:32.404172",
     "status": "completed"
    },
    "tags": []
   },
   "outputs": [
    {
     "data": {
      "application/vnd.jupyter.widget-view+json": {
       "model_id": "5cf96497ef34400399f9e5261ce81990",
       "version_major": 2,
       "version_minor": 0
      },
      "text/plain": [
       "  0%|          | 0/3 [00:00<?, ?it/s]"
      ]
     },
     "metadata": {},
     "output_type": "display_data"
    },
    {
     "name": "stdout",
     "output_type": "stream",
     "text": [
      "Epoch: 0\n",
      "-------\n",
      "Looked at 0/60000 samples\n",
      "Looked at 12800/60000 samples\n",
      "Looked at 25600/60000 samples\n",
      "Looked at 38400/60000 samples\n",
      "Looked at 51200/60000 samples\n",
      "\n",
      "Train loss: 0.59039 | Test loss: 0.50954, Test acc: 82.04%\n",
      "\n",
      "Epoch: 1\n",
      "-------\n",
      "Looked at 0/60000 samples\n",
      "Looked at 12800/60000 samples\n",
      "Looked at 25600/60000 samples\n",
      "Looked at 38400/60000 samples\n",
      "Looked at 51200/60000 samples\n",
      "\n",
      "Train loss: 0.47633 | Test loss: 0.47989, Test acc: 83.20%\n",
      "\n",
      "Epoch: 2\n",
      "-------\n",
      "Looked at 0/60000 samples\n",
      "Looked at 12800/60000 samples\n",
      "Looked at 25600/60000 samples\n",
      "Looked at 38400/60000 samples\n",
      "Looked at 51200/60000 samples\n",
      "\n",
      "Train loss: 0.45503 | Test loss: 0.47664, Test acc: 83.43%\n",
      "\n",
      "Train time on cpu: 26.934 seconds\n"
     ]
    }
   ],
   "source": [
    "# Import tqdm for progress bar\n",
    "from tqdm.auto import tqdm\n",
    "\n",
    "# Set the seed and start the timer\n",
    "torch.manual_seed(42)\n",
    "train_time_start_on_cpu = timer()\n",
    "\n",
    "# Set the number of epochs (we'll keep this small for faster training times)\n",
    "epochs = 3\n",
    "\n",
    "# Create training and testing loop\n",
    "for epoch in tqdm(range(epochs)):\n",
    "    print(f\"Epoch: {epoch}\\n-------\")\n",
    "    ### Training\n",
    "    train_loss = 0\n",
    "    # Add a loop to loop through training batches\n",
    "    for batch, (X, y) in enumerate(train_dataloader):\n",
    "        model_0.train()\n",
    "        # 1. Forward pass\n",
    "        y_pred = model_0(X)\n",
    "\n",
    "        # 2. Calculate loss (per batch)\n",
    "        loss = loss_fn(y_pred, y)\n",
    "        train_loss += loss # accumulatively add up the loss per epoch\n",
    "\n",
    "        # 3. Optimizer zero grad\n",
    "        optimizer.zero_grad()\n",
    "\n",
    "        # 4. Loss backward\n",
    "        loss.backward()\n",
    "\n",
    "        # 5. Optimizer step\n",
    "        optimizer.step()\n",
    "\n",
    "        # Print out how many samples have been seen\n",
    "        if batch % 400 == 0:\n",
    "            print(f\"Looked at {batch * len(X)}/{len(train_dataloader.dataset)} samples\")\n",
    "\n",
    "    # Divide total train loss by length of train dataloader (average loss per batch per epoch)\n",
    "    train_loss /= len(train_dataloader)\n",
    "\n",
    "    ### Testing\n",
    "    # Setup variables for accumulatively adding up loss and accuracy\n",
    "    test_loss, test_acc = 0, 0\n",
    "    model_0.eval()\n",
    "    with torch.inference_mode():\n",
    "        for X, y in test_dataloader:\n",
    "            # 1. Forward pass\n",
    "            test_pred = model_0(X)\n",
    "\n",
    "            # 2. Calculate loss (accumatively)\n",
    "            test_loss += loss_fn(test_pred, y) # accumulatively add up the loss per epoch\n",
    "\n",
    "            # 3. Calculate accuracy (preds need to be same as y_true)\n",
    "            test_acc += accuracy_fn(y_true=y, y_pred=test_pred.argmax(dim=1))\n",
    "\n",
    "        # Calculations on test metrics need to happen inside torch.inference_mode()\n",
    "        # Divide total test loss by length of test dataloader (per batch)\n",
    "        test_loss /= len(test_dataloader)\n",
    "\n",
    "        # Divide total accuracy by length of test dataloader (per batch)\n",
    "        test_acc /= len(test_dataloader)\n",
    "\n",
    "    ## Print out what's happening\n",
    "    print(f\"\\nTrain loss: {train_loss:.5f} | Test loss: {test_loss:.5f}, Test acc: {test_acc:.2f}%\\n\")\n",
    "\n",
    "# Calculate training time\n",
    "train_time_end_on_cpu = timer()\n",
    "total_train_time_model_0 = print_train_time(start=train_time_start_on_cpu,\n",
    "                                           end=train_time_end_on_cpu,\n",
    "                                           device=str(next(model_0.parameters()).device))"
   ]
  },
  {
   "cell_type": "markdown",
   "id": "a93963bc",
   "metadata": {
    "id": "eBktoVWkYpIx",
    "papermill": {
     "duration": 0.025862,
     "end_time": "2023-07-31T18:55:59.529746",
     "exception": false,
     "start_time": "2023-07-31T18:55:59.503884",
     "status": "completed"
    },
    "tags": []
   },
   "source": [
    "## Make predictions and get Model 0 results"
   ]
  },
  {
   "cell_type": "code",
   "execution_count": 18,
   "id": "86a28855",
   "metadata": {
    "execution": {
     "iopub.execute_input": "2023-07-31T18:55:59.583790Z",
     "iopub.status.busy": "2023-07-31T18:55:59.583425Z",
     "iopub.status.idle": "2023-07-31T18:55:59.590392Z",
     "shell.execute_reply": "2023-07-31T18:55:59.589458Z"
    },
    "executionInfo": {
     "elapsed": 5,
     "status": "ok",
     "timestamp": 1690387591276,
     "user": {
      "displayName": "Gustavo Robl Zitta",
      "userId": "12496481005659581268"
     },
     "user_tz": 180
    },
    "id": "E886cKkXJ3Y2",
    "outputId": "a5d684c7-26dc-4b94-e8d3-d5f442940e3a",
    "papermill": {
     "duration": 0.0369,
     "end_time": "2023-07-31T18:55:59.592445",
     "exception": false,
     "start_time": "2023-07-31T18:55:59.555545",
     "status": "completed"
    },
    "tags": []
   },
   "outputs": [
    {
     "data": {
      "text/plain": [
       "'cuda'"
      ]
     },
     "execution_count": 18,
     "metadata": {},
     "output_type": "execute_result"
    }
   ],
   "source": [
    "import torch\n",
    "device = \"cuda\" if torch.cuda.is_available() else \"cpu\"\n",
    "device"
   ]
  },
  {
   "cell_type": "code",
   "execution_count": 19,
   "id": "b2903e6f",
   "metadata": {
    "execution": {
     "iopub.execute_input": "2023-07-31T18:55:59.648902Z",
     "iopub.status.busy": "2023-07-31T18:55:59.648600Z",
     "iopub.status.idle": "2023-07-31T18:56:05.137555Z",
     "shell.execute_reply": "2023-07-31T18:56:05.136536Z"
    },
    "executionInfo": {
     "elapsed": 10837,
     "status": "ok",
     "timestamp": 1690387602110,
     "user": {
      "displayName": "Gustavo Robl Zitta",
      "userId": "12496481005659581268"
     },
     "user_tz": 180
    },
    "id": "0rdH1B8QebC9",
    "outputId": "5eecd402-8fde-4d9e-884b-6717ba88030b",
    "papermill": {
     "duration": 5.51998,
     "end_time": "2023-07-31T18:56:05.139963",
     "exception": false,
     "start_time": "2023-07-31T18:55:59.619983",
     "status": "completed"
    },
    "tags": []
   },
   "outputs": [
    {
     "data": {
      "application/vnd.jupyter.widget-view+json": {
       "model_id": "279b970178d14b56a38ea910e3df5bf5",
       "version_major": 2,
       "version_minor": 0
      },
      "text/plain": [
       "  0%|          | 0/313 [00:00<?, ?it/s]"
      ]
     },
     "metadata": {},
     "output_type": "display_data"
    },
    {
     "data": {
      "text/plain": [
       "{'model_name': 'FashionMNISTModelV0',\n",
       " 'model_loss': 0.47663888335227966,\n",
       " 'model_acc': 83.42651757188499}"
      ]
     },
     "execution_count": 19,
     "metadata": {},
     "output_type": "execute_result"
    }
   ],
   "source": [
    "torch.manual_seed(42)\n",
    "def eval_model(model: torch.nn.Module,\n",
    "               data_loader: torch.utils.data.DataLoader,\n",
    "               loss_fn: torch.nn.Module,\n",
    "               accuracy_fn,\n",
    "               device=device):\n",
    "\n",
    "  loss, acc = 0,0\n",
    "  model.eval()\n",
    "  with torch.inference_mode():\n",
    "    for X,y in tqdm(data_loader):\n",
    "      X,y = X.to(device),y.to(device)\n",
    "      y_pred = model(X).to(device)\n",
    "      loss+= loss_fn(y_pred,y)\n",
    "      acc += accuracy_fn(y_true=y, y_pred=y_pred.argmax(dim=1))\n",
    "\n",
    "    loss/=len(data_loader)\n",
    "    acc/=len(data_loader)\n",
    "\n",
    "  return {\"model_name\": model.__class__.__name__, # only works when model was created with a class\n",
    "            \"model_loss\": loss.item(),\n",
    "            \"model_acc\": acc}\n",
    "\n",
    "model_0_results = eval_model(model=model_0.to(device), data_loader=test_dataloader, loss_fn = loss_fn, accuracy_fn=accuracy_fn)\n",
    "model_0_results"
   ]
  },
  {
   "cell_type": "markdown",
   "id": "4cb2bce7",
   "metadata": {
    "id": "t2c3O8pNfyXj",
    "papermill": {
     "duration": 0.028529,
     "end_time": "2023-07-31T18:56:05.195779",
     "exception": false,
     "start_time": "2023-07-31T18:56:05.167250",
     "status": "completed"
    },
    "tags": []
   },
   "source": [
    "## Setup device agnostic-code (for using a GPU if there is one)"
   ]
  },
  {
   "cell_type": "code",
   "execution_count": 20,
   "id": "78c523f4",
   "metadata": {
    "execution": {
     "iopub.execute_input": "2023-07-31T18:56:05.249633Z",
     "iopub.status.busy": "2023-07-31T18:56:05.249301Z",
     "iopub.status.idle": "2023-07-31T18:56:05.255471Z",
     "shell.execute_reply": "2023-07-31T18:56:05.254608Z"
    },
    "executionInfo": {
     "elapsed": 11,
     "status": "ok",
     "timestamp": 1690387602515,
     "user": {
      "displayName": "Gustavo Robl Zitta",
      "userId": "12496481005659581268"
     },
     "user_tz": 180
    },
    "id": "QfYe3bsTg-cv",
    "outputId": "cf967e95-a419-4b26-a452-4c117aa31e1d",
    "papermill": {
     "duration": 0.035432,
     "end_time": "2023-07-31T18:56:05.257339",
     "exception": false,
     "start_time": "2023-07-31T18:56:05.221907",
     "status": "completed"
    },
    "tags": []
   },
   "outputs": [
    {
     "data": {
      "text/plain": [
       "'cuda'"
      ]
     },
     "execution_count": 20,
     "metadata": {},
     "output_type": "execute_result"
    }
   ],
   "source": [
    "import torch\n",
    "device = \"cuda\" if torch.cuda.is_available() else \"cpu\"\n",
    "device"
   ]
  },
  {
   "cell_type": "markdown",
   "id": "285cec57",
   "metadata": {
    "id": "vmfYpC5niH1p",
    "papermill": {
     "duration": 0.026175,
     "end_time": "2023-07-31T18:56:05.309962",
     "exception": false,
     "start_time": "2023-07-31T18:56:05.283787",
     "status": "completed"
    },
    "tags": []
   },
   "source": [
    "## Model 1: Building a better model with non-linearity"
   ]
  },
  {
   "cell_type": "code",
   "execution_count": 21,
   "id": "2e86b0b1",
   "metadata": {
    "execution": {
     "iopub.execute_input": "2023-07-31T18:56:05.365017Z",
     "iopub.status.busy": "2023-07-31T18:56:05.364183Z",
     "iopub.status.idle": "2023-07-31T18:56:05.370852Z",
     "shell.execute_reply": "2023-07-31T18:56:05.369994Z"
    },
    "id": "TGic-3N-iVSa",
    "papermill": {
     "duration": 0.036852,
     "end_time": "2023-07-31T18:56:05.372872",
     "exception": false,
     "start_time": "2023-07-31T18:56:05.336020",
     "status": "completed"
    },
    "tags": []
   },
   "outputs": [],
   "source": [
    "# Create a model with non-linear and linear layers\n",
    "class FashionMNISTModelV1(nn.Module):\n",
    "    def __init__(self, input_shape: int, hidden_units: int, output_shape: int):\n",
    "        super().__init__()\n",
    "        self.layer_stack = nn.Sequential(\n",
    "            nn.Flatten(), # flatten inputs into single vector\n",
    "            nn.Linear(in_features=input_shape, out_features=hidden_units),\n",
    "            nn.ReLU(),\n",
    "            nn.Linear(in_features=hidden_units, out_features=output_shape),\n",
    "            nn.ReLU()\n",
    "        )\n",
    "\n",
    "    def forward(self, x: torch.Tensor):\n",
    "        return self.layer_stack(x)"
   ]
  },
  {
   "cell_type": "code",
   "execution_count": 22,
   "id": "458cd1ae",
   "metadata": {
    "execution": {
     "iopub.execute_input": "2023-07-31T18:56:05.428261Z",
     "iopub.status.busy": "2023-07-31T18:56:05.427223Z",
     "iopub.status.idle": "2023-07-31T18:56:05.436567Z",
     "shell.execute_reply": "2023-07-31T18:56:05.435450Z"
    },
    "executionInfo": {
     "elapsed": 9,
     "status": "ok",
     "timestamp": 1690387602515,
     "user": {
      "displayName": "Gustavo Robl Zitta",
      "userId": "12496481005659581268"
     },
     "user_tz": 180
    },
    "id": "2stvOzkOjgql",
    "outputId": "b836d8ab-22d3-4045-cb23-f9c7dc02d076",
    "papermill": {
     "duration": 0.039386,
     "end_time": "2023-07-31T18:56:05.438533",
     "exception": false,
     "start_time": "2023-07-31T18:56:05.399147",
     "status": "completed"
    },
    "tags": []
   },
   "outputs": [
    {
     "data": {
      "text/plain": [
       "device(type='cuda', index=0)"
      ]
     },
     "execution_count": 22,
     "metadata": {},
     "output_type": "execute_result"
    }
   ],
   "source": [
    "torch.manual_seed(42)\n",
    "model_1 = FashionMNISTModelV1(input_shape=784, # number of input features\n",
    "    hidden_units=10,\n",
    "    output_shape=len(class_names) # number of output classes desired\n",
    ").to(device) # send model to GPU if it's available\n",
    "next(model_1.parameters()).device # check model devicetorch.manual_seed(4)"
   ]
  },
  {
   "cell_type": "code",
   "execution_count": 23,
   "id": "2c8f4adb",
   "metadata": {
    "execution": {
     "iopub.execute_input": "2023-07-31T18:56:05.493670Z",
     "iopub.status.busy": "2023-07-31T18:56:05.493318Z",
     "iopub.status.idle": "2023-07-31T18:56:05.498216Z",
     "shell.execute_reply": "2023-07-31T18:56:05.497341Z"
    },
    "id": "xaqxTNqal2Bz",
    "papermill": {
     "duration": 0.034684,
     "end_time": "2023-07-31T18:56:05.500200",
     "exception": false,
     "start_time": "2023-07-31T18:56:05.465516",
     "status": "completed"
    },
    "tags": []
   },
   "outputs": [],
   "source": [
    "from helper_functions import accuracy_fn\n",
    "loss_fn = nn.CrossEntropyLoss()\n",
    "optimizer = torch.optim.SGD(model_1.parameters(), lr=0.1)\n"
   ]
  },
  {
   "cell_type": "code",
   "execution_count": 24,
   "id": "d87fc532",
   "metadata": {
    "execution": {
     "iopub.execute_input": "2023-07-31T18:56:05.555698Z",
     "iopub.status.busy": "2023-07-31T18:56:05.554789Z",
     "iopub.status.idle": "2023-07-31T18:56:05.563231Z",
     "shell.execute_reply": "2023-07-31T18:56:05.562389Z"
    },
    "id": "Nj95tYLHzQoq",
    "papermill": {
     "duration": 0.038244,
     "end_time": "2023-07-31T18:56:05.565262",
     "exception": false,
     "start_time": "2023-07-31T18:56:05.527018",
     "status": "completed"
    },
    "tags": []
   },
   "outputs": [],
   "source": [
    "def train_step(model: torch.nn.Module,\n",
    "               data_loader: torch.utils.data.DataLoader,\n",
    "               loss_fn: torch.nn.Module,\n",
    "               optimizer: torch.optim.Optimizer,\n",
    "               accuracy_fn,\n",
    "               device: torch.device = device):\n",
    "    train_loss, train_acc = 0, 0\n",
    "    model.to(device)\n",
    "    for batch, (X, y) in enumerate(data_loader):\n",
    "        # Send data to GPU\n",
    "        X, y = X.to(device), y.to(device)\n",
    "\n",
    "        # 1. Forward pass\n",
    "        y_pred = model(X)\n",
    "\n",
    "        # 2. Calculate loss\n",
    "        loss = loss_fn(y_pred, y)\n",
    "        train_loss += loss\n",
    "        train_acc += accuracy_fn(y_true=y,\n",
    "                                 y_pred=y_pred.argmax(dim=1)) # Go from logits -> pred labels\n",
    "\n",
    "        # 3. Optimizer zero grad\n",
    "        optimizer.zero_grad()\n",
    "\n",
    "        # 4. Loss backward\n",
    "        loss.backward()\n",
    "\n",
    "        # 5. Optimizer step\n",
    "        optimizer.step()\n",
    "\n",
    "    # Calculate loss and accuracy per epoch and print out what's happening\n",
    "    train_loss /= len(data_loader)\n",
    "    train_acc /= len(data_loader)\n",
    "\n",
    "    print(f\"Train loss: {train_loss:.5f} | Train accuracy: {train_acc:.2f}%\")"
   ]
  },
  {
   "cell_type": "markdown",
   "id": "84680242",
   "metadata": {
    "id": "a8Ckx_Edmh5G",
    "papermill": {
     "duration": 0.027086,
     "end_time": "2023-07-31T18:56:05.619089",
     "exception": false,
     "start_time": "2023-07-31T18:56:05.592003",
     "status": "completed"
    },
    "tags": []
   },
   "source": [
    "### Functionizing training and test loops"
   ]
  },
  {
   "cell_type": "code",
   "execution_count": 25,
   "id": "e24d49fc",
   "metadata": {
    "execution": {
     "iopub.execute_input": "2023-07-31T18:56:05.676753Z",
     "iopub.status.busy": "2023-07-31T18:56:05.676376Z",
     "iopub.status.idle": "2023-07-31T18:56:05.687356Z",
     "shell.execute_reply": "2023-07-31T18:56:05.686473Z"
    },
    "id": "0B9AI9kZpwmU",
    "papermill": {
     "duration": 0.042648,
     "end_time": "2023-07-31T18:56:05.689327",
     "exception": false,
     "start_time": "2023-07-31T18:56:05.646679",
     "status": "completed"
    },
    "tags": []
   },
   "outputs": [],
   "source": [
    "def train_step(model: torch.nn.Module,\n",
    "               data_loader: torch.utils.data.DataLoader,\n",
    "               loss_fn: torch.nn.Module,\n",
    "               optimizer: torch.optim.Optimizer,\n",
    "               accuracy_fn,\n",
    "               device: torch.device = device):\n",
    "    train_loss, train_acc = 0, 0\n",
    "    model.to(device)\n",
    "    for batch, (X, y) in enumerate(data_loader):\n",
    "        # Send data to GPU\n",
    "        X, y = X.to(device), y.to(device)\n",
    "\n",
    "        # 1. Forward pass\n",
    "        y_pred = model(X)\n",
    "\n",
    "        # 2. Calculate loss\n",
    "        loss = loss_fn(y_pred, y)\n",
    "        train_loss += loss\n",
    "        train_acc += accuracy_fn(y_true=y,\n",
    "                                 y_pred=y_pred.argmax(dim=1)) # Go from logits -> pred labels\n",
    "\n",
    "        # 3. Optimizer zero grad\n",
    "        optimizer.zero_grad()\n",
    "\n",
    "        # 4. Loss backward\n",
    "        loss.backward()\n",
    "\n",
    "        # 5. Optimizer step\n",
    "        optimizer.step()\n",
    "\n",
    "    # Calculate loss and accuracy per epoch and print out what's happening\n",
    "    train_loss /= len(data_loader)\n",
    "    train_acc /= len(data_loader)\n",
    "    print(f\"Train loss: {train_loss:.5f} | Train accuracy: {train_acc:.2f}%\")\n",
    "\n",
    "def test_step(data_loader: torch.utils.data.DataLoader,\n",
    "              model: torch.nn.Module,\n",
    "              loss_fn: torch.nn.Module,\n",
    "              accuracy_fn,\n",
    "              device: torch.device = device):\n",
    "    test_loss, test_acc = 0, 0\n",
    "    model.to(device)\n",
    "    model.eval() # put model in eval mode\n",
    "    # Turn on inference context manager\n",
    "    with torch.inference_mode():\n",
    "        for X, y in data_loader:\n",
    "            # Send data to GPU\n",
    "            X, y = X.to(device), y.to(device)\n",
    "\n",
    "            # 1. Forward pass\n",
    "            test_pred = model(X)\n",
    "\n",
    "            # 2. Calculate loss and accuracy\n",
    "            test_loss += loss_fn(test_pred, y)\n",
    "            test_acc += accuracy_fn(y_true=y,\n",
    "                y_pred=test_pred.argmax(dim=1) # Go from logits -> pred labels\n",
    "            )\n",
    "\n",
    "        # Adjust metrics and print out\n",
    "        test_loss /= len(data_loader)\n",
    "        test_acc /= len(data_loader)\n",
    "        print(f\"Test loss: {test_loss:.5f} | Test accuracy: {test_acc:.2f}%\\n\")"
   ]
  },
  {
   "cell_type": "code",
   "execution_count": 26,
   "id": "00100fb4",
   "metadata": {
    "execution": {
     "iopub.execute_input": "2023-07-31T18:56:05.744674Z",
     "iopub.status.busy": "2023-07-31T18:56:05.743757Z",
     "iopub.status.idle": "2023-07-31T18:56:34.575296Z",
     "shell.execute_reply": "2023-07-31T18:56:34.574397Z"
    },
    "executionInfo": {
     "elapsed": 41098,
     "status": "ok",
     "timestamp": 1690387643606,
     "user": {
      "displayName": "Gustavo Robl Zitta",
      "userId": "12496481005659581268"
     },
     "user_tz": 180
    },
    "id": "twhzjVBMCogn",
    "outputId": "43a8719f-efdd-439a-a2c9-2272fa9e05e5",
    "papermill": {
     "duration": 28.863446,
     "end_time": "2023-07-31T18:56:34.579563",
     "exception": false,
     "start_time": "2023-07-31T18:56:05.716117",
     "status": "completed"
    },
    "tags": []
   },
   "outputs": [
    {
     "data": {
      "application/vnd.jupyter.widget-view+json": {
       "model_id": "b1af32138e13416ab222e41c77755c99",
       "version_major": 2,
       "version_minor": 0
      },
      "text/plain": [
       "  0%|          | 0/3 [00:00<?, ?it/s]"
      ]
     },
     "metadata": {},
     "output_type": "display_data"
    },
    {
     "name": "stdout",
     "output_type": "stream",
     "text": [
      "Epoch: 0\n",
      "---------\n",
      "Train loss: 1.09199 | Train accuracy: 61.34%\n",
      "Test loss: 0.95636 | Test accuracy: 65.00%\n",
      "\n",
      "Epoch: 1\n",
      "---------\n",
      "Train loss: 0.78101 | Train accuracy: 71.93%\n",
      "Test loss: 0.72227 | Test accuracy: 73.91%\n",
      "\n",
      "Epoch: 2\n",
      "---------\n",
      "Train loss: 0.67027 | Train accuracy: 75.94%\n",
      "Test loss: 0.68500 | Test accuracy: 75.02%\n",
      "\n",
      "Train time on cuda: 28.823 seconds\n"
     ]
    }
   ],
   "source": [
    "torch.manual_seed(42)\n",
    "\n",
    "# Measure time\n",
    "from timeit import default_timer as timer\n",
    "train_time_start_on_gpu = timer()\n",
    "\n",
    "epochs = 3\n",
    "for epoch in tqdm(range(epochs)):\n",
    "    print(f\"Epoch: {epoch}\\n---------\")\n",
    "    train_step(data_loader=train_dataloader,\n",
    "        model=model_1,\n",
    "        loss_fn=loss_fn,\n",
    "        optimizer=optimizer,\n",
    "        accuracy_fn=accuracy_fn\n",
    "    )\n",
    "    test_step(data_loader=test_dataloader,\n",
    "        model=model_1,\n",
    "        loss_fn=loss_fn,\n",
    "        accuracy_fn=accuracy_fn\n",
    "    )\n",
    "\n",
    "train_time_end_on_gpu = timer()\n",
    "total_train_time_model_1 = print_train_time(start=train_time_start_on_gpu,\n",
    "                                            end=train_time_end_on_gpu,\n",
    "                                            device=device)"
   ]
  },
  {
   "cell_type": "code",
   "execution_count": 27,
   "id": "174fed30",
   "metadata": {
    "execution": {
     "iopub.execute_input": "2023-07-31T18:56:34.638480Z",
     "iopub.status.busy": "2023-07-31T18:56:34.637395Z",
     "iopub.status.idle": "2023-07-31T18:56:35.801580Z",
     "shell.execute_reply": "2023-07-31T18:56:35.800446Z"
    },
    "executionInfo": {
     "elapsed": 1506,
     "status": "ok",
     "timestamp": 1690387645106,
     "user": {
      "displayName": "Gustavo Robl Zitta",
      "userId": "12496481005659581268"
     },
     "user_tz": 180
    },
    "id": "4KUyoWFAFZEM",
    "outputId": "b3602700-bad8-4e19-a2d8-e0829538e567",
    "papermill": {
     "duration": 1.195633,
     "end_time": "2023-07-31T18:56:35.803736",
     "exception": false,
     "start_time": "2023-07-31T18:56:34.608103",
     "status": "completed"
    },
    "tags": []
   },
   "outputs": [
    {
     "data": {
      "application/vnd.jupyter.widget-view+json": {
       "model_id": "e85c9e50e69b416a8a583f7dd0d417c3",
       "version_major": 2,
       "version_minor": 0
      },
      "text/plain": [
       "  0%|          | 0/313 [00:00<?, ?it/s]"
      ]
     },
     "metadata": {},
     "output_type": "display_data"
    },
    {
     "data": {
      "text/plain": [
       "{'model_name': 'FashionMNISTModelV1',\n",
       " 'model_loss': 0.6850008964538574,\n",
       " 'model_acc': 75.01996805111821}"
      ]
     },
     "execution_count": 27,
     "metadata": {},
     "output_type": "execute_result"
    }
   ],
   "source": [
    "torch.manual_seed(42)\n",
    "\n",
    "# Note: This will error due to `eval_model()` not using device agnostic code\n",
    "model_1_results = eval_model(model=model_1,\n",
    "    data_loader=test_dataloader,\n",
    "    loss_fn=loss_fn,\n",
    "    accuracy_fn=accuracy_fn)\n",
    "model_1_results"
   ]
  },
  {
   "cell_type": "markdown",
   "id": "e686b48c",
   "metadata": {
    "id": "8HzmoHoSHFbX",
    "papermill": {
     "duration": 0.028559,
     "end_time": "2023-07-31T18:56:35.861353",
     "exception": false,
     "start_time": "2023-07-31T18:56:35.832794",
     "status": "completed"
    },
    "tags": []
   },
   "source": [
    "## 7. Model 2: Building a Convolutional Neural Network (CNN)\n",
    "\n",
    "obs: Resolução Espacial da Saída = [(Dimensão da Entrada - Dimensão do Kernel + 2 * Padding) / Stride] + 1"
   ]
  },
  {
   "cell_type": "code",
   "execution_count": 28,
   "id": "ac649beb",
   "metadata": {
    "execution": {
     "iopub.execute_input": "2023-07-31T18:56:35.920220Z",
     "iopub.status.busy": "2023-07-31T18:56:35.919901Z",
     "iopub.status.idle": "2023-07-31T18:56:35.936202Z",
     "shell.execute_reply": "2023-07-31T18:56:35.935205Z"
    },
    "executionInfo": {
     "elapsed": 15,
     "status": "ok",
     "timestamp": 1690387645106,
     "user": {
      "displayName": "Gustavo Robl Zitta",
      "userId": "12496481005659581268"
     },
     "user_tz": 180
    },
    "id": "bU8F0dN_P6je",
    "outputId": "555c4909-e10f-4f3a-f1e8-cf1d84445994",
    "papermill": {
     "duration": 0.048117,
     "end_time": "2023-07-31T18:56:35.938190",
     "exception": false,
     "start_time": "2023-07-31T18:56:35.890073",
     "status": "completed"
    },
    "tags": []
   },
   "outputs": [
    {
     "data": {
      "text/plain": [
       "FashionMNISTModelV2(\n",
       "  (block_1): Sequential(\n",
       "    (0): Conv2d(1, 10, kernel_size=(3, 3), stride=(1, 1), padding=(1, 1))\n",
       "    (1): ReLU()\n",
       "    (2): Conv2d(10, 10, kernel_size=(3, 3), stride=(1, 1), padding=(1, 1))\n",
       "    (3): ReLU()\n",
       "    (4): MaxPool2d(kernel_size=2, stride=2, padding=0, dilation=1, ceil_mode=False)\n",
       "  )\n",
       "  (block_2): Sequential(\n",
       "    (0): Conv2d(10, 10, kernel_size=(3, 3), stride=(1, 1), padding=(1, 1))\n",
       "    (1): ReLU()\n",
       "    (2): Conv2d(10, 10, kernel_size=(3, 3), stride=(1, 1), padding=(1, 1))\n",
       "    (3): ReLU()\n",
       "    (4): MaxPool2d(kernel_size=2, stride=2, padding=0, dilation=1, ceil_mode=False)\n",
       "  )\n",
       "  (classifier): Sequential(\n",
       "    (0): Flatten(start_dim=1, end_dim=-1)\n",
       "    (1): Linear(in_features=490, out_features=10, bias=True)\n",
       "  )\n",
       ")"
      ]
     },
     "execution_count": 28,
     "metadata": {},
     "output_type": "execute_result"
    }
   ],
   "source": [
    "# Create a convolutional neural network\n",
    "class FashionMNISTModelV2(nn.Module):\n",
    "    \"\"\"\n",
    "    Model architecture copying TinyVGG from:\n",
    "    https://poloclub.github.io/cnn-explainer/\n",
    "    \"\"\"\n",
    "    def __init__(self, input_shape: int, hidden_units: int, output_shape: int):\n",
    "        super().__init__()\n",
    "        self.block_1 = nn.Sequential(\n",
    "            nn.Conv2d(in_channels=input_shape,\n",
    "                      out_channels=hidden_units,\n",
    "                      kernel_size=3, # how big is the square that's going over the image?\n",
    "                      stride=1, # default\n",
    "                      padding=1),# options = \"valid\" (no padding) or \"same\" (output has same shape as input) or int for specific number\n",
    "            nn.ReLU(),\n",
    "            nn.Conv2d(in_channels=hidden_units,\n",
    "                      out_channels=hidden_units,\n",
    "                      kernel_size=3,\n",
    "                      stride=1,\n",
    "                      padding=1),\n",
    "            nn.ReLU(),\n",
    "            nn.MaxPool2d(kernel_size=2,\n",
    "                         stride=2) # default stride value is same as kernel_size\n",
    "        )\n",
    "        self.block_2 = nn.Sequential(\n",
    "            nn.Conv2d(hidden_units, hidden_units, 3, padding=1),\n",
    "            nn.ReLU(),\n",
    "            nn.Conv2d(hidden_units, hidden_units, 3, padding=1),\n",
    "            nn.ReLU(),\n",
    "            nn.MaxPool2d(2)\n",
    "        )\n",
    "        self.classifier = nn.Sequential(\n",
    "            nn.Flatten(),\n",
    "            # Where did this in_features shape come from?\n",
    "            # It's because each layer of our network compresses and changes the shape of our inputs data.\n",
    "            nn.Linear(in_features=hidden_units*7*7,\n",
    "                      out_features=output_shape)\n",
    "        )\n",
    "\n",
    "    def forward(self, x: torch.Tensor):\n",
    "        x = self.block_1(x)\n",
    "        # print(x.shape)\n",
    "        x = self.block_2(x)\n",
    "        # print(x.shape)\n",
    "        x = self.classifier(x)\n",
    "        # print(x.shape)\n",
    "        return x\n",
    "\n",
    "torch.manual_seed(42)\n",
    "model_2 = FashionMNISTModelV2(input_shape=1,\n",
    "    hidden_units=10,\n",
    "    output_shape=len(class_names)).to(device)\n",
    "model_2"
   ]
  },
  {
   "cell_type": "markdown",
   "id": "051ec30a",
   "metadata": {
    "id": "d60laEsESiGg",
    "papermill": {
     "duration": 0.027682,
     "end_time": "2023-07-31T18:56:35.994592",
     "exception": false,
     "start_time": "2023-07-31T18:56:35.966910",
     "status": "completed"
    },
    "tags": []
   },
   "source": [
    "### Stepping through `nn.Conv2d()`"
   ]
  },
  {
   "cell_type": "code",
   "execution_count": 29,
   "id": "bb4f6bc6",
   "metadata": {
    "execution": {
     "iopub.execute_input": "2023-07-31T18:56:36.053891Z",
     "iopub.status.busy": "2023-07-31T18:56:36.052978Z",
     "iopub.status.idle": "2023-07-31T18:56:36.067948Z",
     "shell.execute_reply": "2023-07-31T18:56:36.066981Z"
    },
    "executionInfo": {
     "elapsed": 14,
     "status": "ok",
     "timestamp": 1690387645106,
     "user": {
      "displayName": "Gustavo Robl Zitta",
      "userId": "12496481005659581268"
     },
     "user_tz": 180
    },
    "id": "e9ULRe95S01u",
    "outputId": "b11e6793-d483-49af-a17f-ffce056f3f46",
    "papermill": {
     "duration": 0.04765,
     "end_time": "2023-07-31T18:56:36.070360",
     "exception": false,
     "start_time": "2023-07-31T18:56:36.022710",
     "status": "completed"
    },
    "tags": []
   },
   "outputs": [
    {
     "name": "stdout",
     "output_type": "stream",
     "text": [
      "Image batch shape: torch.Size([32, 3, 64, 64]) -> [batch_size, color_channels, height, width]\n",
      "Single image shape: torch.Size([3, 64, 64]) -> [color_channels, height, width]\n",
      "Single image pixel values:\n",
      "tensor([[[ 1.9269,  1.4873,  0.9007,  ...,  1.8446, -1.1845,  1.3835],\n",
      "         [ 1.4451,  0.8564,  2.2181,  ...,  0.3399,  0.7200,  0.4114],\n",
      "         [ 1.9312,  1.0119, -1.4364,  ..., -0.5558,  0.7043,  0.7099],\n",
      "         ...,\n",
      "         [-0.5610, -0.4830,  0.4770,  ..., -0.2713, -0.9537, -0.6737],\n",
      "         [ 0.3076, -0.1277,  0.0366,  ..., -2.0060,  0.2824, -0.8111],\n",
      "         [-1.5486,  0.0485, -0.7712,  ..., -0.1403,  0.9416, -0.0118]],\n",
      "\n",
      "        [[-0.5197,  1.8524,  1.8365,  ...,  0.8935, -1.5114, -0.8515],\n",
      "         [ 2.0818,  1.0677, -1.4277,  ...,  1.6612, -2.6223, -0.4319],\n",
      "         [-0.1010, -0.4388, -1.9775,  ...,  0.2106,  0.2536, -0.7318],\n",
      "         ...,\n",
      "         [ 0.2779,  0.7342, -0.3736,  ..., -0.4601,  0.1815,  0.1850],\n",
      "         [ 0.7205, -0.2833,  0.0937,  ..., -0.1002, -2.3609,  2.2465],\n",
      "         [-1.3242, -0.1973,  0.2920,  ...,  0.5409,  0.6940,  1.8563]],\n",
      "\n",
      "        [[-0.7978,  1.0261,  1.1465,  ...,  1.2134,  0.9354, -0.0780],\n",
      "         [-1.4647, -1.9571,  0.1017,  ..., -1.9986, -0.7409,  0.7011],\n",
      "         [-1.3938,  0.8466, -1.7191,  ..., -1.1867,  0.1320,  0.3407],\n",
      "         ...,\n",
      "         [ 0.8206, -0.3745,  1.2499,  ..., -0.0676,  0.0385,  0.6335],\n",
      "         [-0.5589, -0.3393,  0.2347,  ...,  2.1181,  2.4569,  1.3083],\n",
      "         [-0.4092,  1.5199,  0.2401,  ..., -0.2558,  0.7870,  0.9924]]])\n"
     ]
    }
   ],
   "source": [
    "torch.manual_seed(42)\n",
    "\n",
    "# Create sample batch of random numbers with same size as image batch\n",
    "images = torch.randn(size=(32, 3, 64, 64)) # [batch_size, color_channels, height, width]\n",
    "test_image = images[0] # get a single image for testing\n",
    "print(f\"Image batch shape: {images.shape} -> [batch_size, color_channels, height, width]\")\n",
    "print(f\"Single image shape: {test_image.shape} -> [color_channels, height, width]\")\n",
    "print(f\"Single image pixel values:\\n{test_image}\")"
   ]
  },
  {
   "cell_type": "code",
   "execution_count": 30,
   "id": "6babe96d",
   "metadata": {
    "execution": {
     "iopub.execute_input": "2023-07-31T18:56:36.129445Z",
     "iopub.status.busy": "2023-07-31T18:56:36.128542Z",
     "iopub.status.idle": "2023-07-31T18:56:36.145165Z",
     "shell.execute_reply": "2023-07-31T18:56:36.144200Z"
    },
    "executionInfo": {
     "elapsed": 12,
     "status": "ok",
     "timestamp": 1690387645107,
     "user": {
      "displayName": "Gustavo Robl Zitta",
      "userId": "12496481005659581268"
     },
     "user_tz": 180
    },
    "id": "D8kSvuJycpTH",
    "outputId": "d14290f5-d72b-4909-e05f-dd052e0a12b5",
    "papermill": {
     "duration": 0.048309,
     "end_time": "2023-07-31T18:56:36.147165",
     "exception": false,
     "start_time": "2023-07-31T18:56:36.098856",
     "status": "completed"
    },
    "tags": []
   },
   "outputs": [
    {
     "data": {
      "text/plain": [
       "tensor([[[ 1.5396,  0.0516,  0.6454,  ..., -0.3673,  0.8711,  0.4256],\n",
       "         [ 0.3662,  1.0114, -0.5997,  ...,  0.8983,  0.2809, -0.2741],\n",
       "         [ 1.2664, -1.4054,  0.3727,  ..., -0.3409,  1.2191, -0.0463],\n",
       "         ...,\n",
       "         [-0.1541,  0.5132, -0.3624,  ..., -0.2360, -0.4609, -0.0035],\n",
       "         [ 0.2981, -0.2432,  1.5012,  ..., -0.6289, -0.7283, -0.5767],\n",
       "         [-0.0386, -0.0781, -0.0388,  ...,  0.2842,  0.4228, -0.1802]],\n",
       "\n",
       "        [[-0.2840, -0.0319, -0.4455,  ..., -0.7956,  1.5599, -1.2449],\n",
       "         [ 0.2753, -0.1262, -0.6541,  ..., -0.2211,  0.1999, -0.8856],\n",
       "         [-0.5404, -1.5489,  0.0249,  ..., -0.5932, -1.0913, -0.3849],\n",
       "         ...,\n",
       "         [ 0.3870, -0.4064, -0.8236,  ...,  0.1734, -0.4330, -0.4951],\n",
       "         [-0.1984, -0.6386,  1.0263,  ..., -0.9401, -0.0585, -0.7833],\n",
       "         [-0.6306, -0.2052, -0.3694,  ..., -1.3248,  0.2456, -0.7134]],\n",
       "\n",
       "        [[ 0.4414,  0.5100,  0.4846,  ..., -0.8484,  0.2638,  1.1258],\n",
       "         [ 0.8117,  0.3191, -0.0157,  ...,  1.2686,  0.2319,  0.5003],\n",
       "         [ 0.3212,  0.0485, -0.2581,  ...,  0.2258,  0.2587, -0.8804],\n",
       "         ...,\n",
       "         [-0.1144, -0.1869,  0.0160,  ..., -0.8346,  0.0974,  0.8421],\n",
       "         [ 0.2941,  0.4417,  0.5866,  ..., -0.1224,  0.4814, -0.4799],\n",
       "         [ 0.6059, -0.0415, -0.2028,  ...,  0.1170,  0.2521, -0.4372]],\n",
       "\n",
       "        ...,\n",
       "\n",
       "        [[-0.2560, -0.0477,  0.6380,  ...,  0.6436,  0.7553, -0.7055],\n",
       "         [ 1.5595, -0.2209, -0.9486,  ..., -0.4876,  0.7754,  0.0750],\n",
       "         [-0.0797,  0.2471,  1.1300,  ...,  0.1505,  0.2354,  0.9576],\n",
       "         ...,\n",
       "         [ 1.1065,  0.6839,  1.2183,  ...,  0.3015, -0.1910, -0.1902],\n",
       "         [-0.3486, -0.7173, -0.3582,  ...,  0.4917,  0.7219,  0.1513],\n",
       "         [ 0.0119,  0.1017,  0.7839,  ..., -0.3752, -0.8127, -0.1257]],\n",
       "\n",
       "        [[ 0.3841,  1.1322,  0.1620,  ...,  0.7010,  0.0109,  0.6058],\n",
       "         [ 0.1664,  0.1873,  1.5924,  ...,  0.3733,  0.9096, -0.5399],\n",
       "         [ 0.4094, -0.0861, -0.7935,  ..., -0.1285, -0.9932, -0.3013],\n",
       "         ...,\n",
       "         [ 0.2688, -0.5630, -1.1902,  ...,  0.4493,  0.5404, -0.0103],\n",
       "         [ 0.0535,  0.4411,  0.5313,  ...,  0.0148, -1.0056,  0.3759],\n",
       "         [ 0.3031, -0.1590, -0.1316,  ..., -0.5384, -0.4271, -0.4876]],\n",
       "\n",
       "        [[-1.1865, -0.7280, -1.2331,  ..., -0.9013, -0.0542, -1.5949],\n",
       "         [-0.6345, -0.5920,  0.5326,  ..., -1.0395, -0.7963, -0.0647],\n",
       "         [-0.1132,  0.5166,  0.2569,  ...,  0.5595, -1.6881,  0.9485],\n",
       "         ...,\n",
       "         [-0.0254, -0.2669,  0.1927,  ..., -0.2917,  0.1088, -0.4807],\n",
       "         [-0.2609, -0.2328,  0.1404,  ..., -0.1325, -0.8436, -0.7524],\n",
       "         [-1.1399, -0.1751, -0.8705,  ...,  0.1589,  0.3377,  0.3493]]],\n",
       "       grad_fn=<SqueezeBackward1>)"
      ]
     },
     "execution_count": 30,
     "metadata": {},
     "output_type": "execute_result"
    }
   ],
   "source": [
    "torch.manual_seed(42)\n",
    "\n",
    "# Create a convolutional layer with same dimensions as TinyVGG\n",
    "# (try changing any of the parameters and see what happens)\n",
    "conv_layer = nn.Conv2d(in_channels=3,\n",
    "                       out_channels=10,\n",
    "                       kernel_size=3,\n",
    "                       stride=1,\n",
    "                       padding=0) # also try using \"valid\" or \"same\" here\n",
    "\n",
    "# Pass the data through the convolutional layer\n",
    "conv_layer(test_image) # Note: If running PyTorch <1.11.0, this will error because of shape issues (nn.Conv.2d() expects a 4d tensor as input)"
   ]
  },
  {
   "cell_type": "code",
   "execution_count": 31,
   "id": "24d446e3",
   "metadata": {
    "execution": {
     "iopub.execute_input": "2023-07-31T18:56:36.206387Z",
     "iopub.status.busy": "2023-07-31T18:56:36.205601Z",
     "iopub.status.idle": "2023-07-31T18:56:36.211846Z",
     "shell.execute_reply": "2023-07-31T18:56:36.210951Z"
    },
    "executionInfo": {
     "elapsed": 9,
     "status": "ok",
     "timestamp": 1690387645107,
     "user": {
      "displayName": "Gustavo Robl Zitta",
      "userId": "12496481005659581268"
     },
     "user_tz": 180
    },
    "id": "xDDq0uPUeNRJ",
    "outputId": "363a6b2b-c3e2-4ff5-f454-5786b6992b80",
    "papermill": {
     "duration": 0.037507,
     "end_time": "2023-07-31T18:56:36.213761",
     "exception": false,
     "start_time": "2023-07-31T18:56:36.176254",
     "status": "completed"
    },
    "tags": []
   },
   "outputs": [
    {
     "data": {
      "text/plain": [
       "torch.Size([1, 3, 64, 64])"
      ]
     },
     "execution_count": 31,
     "metadata": {},
     "output_type": "execute_result"
    }
   ],
   "source": [
    "# Add extra dimension to test image\n",
    "test_image.unsqueeze(dim=0).shape"
   ]
  },
  {
   "cell_type": "code",
   "execution_count": 32,
   "id": "328a3faa",
   "metadata": {
    "execution": {
     "iopub.execute_input": "2023-07-31T18:56:36.274381Z",
     "iopub.status.busy": "2023-07-31T18:56:36.273339Z",
     "iopub.status.idle": "2023-07-31T18:56:36.280995Z",
     "shell.execute_reply": "2023-07-31T18:56:36.279996Z"
    },
    "executionInfo": {
     "elapsed": 7,
     "status": "ok",
     "timestamp": 1690387645107,
     "user": {
      "displayName": "Gustavo Robl Zitta",
      "userId": "12496481005659581268"
     },
     "user_tz": 180
    },
    "id": "DqlRdQdGj22k",
    "outputId": "138d9872-42f9-49f1-d030-e35b27590d7f",
    "papermill": {
     "duration": 0.040375,
     "end_time": "2023-07-31T18:56:36.282972",
     "exception": false,
     "start_time": "2023-07-31T18:56:36.242597",
     "status": "completed"
    },
    "tags": []
   },
   "outputs": [
    {
     "data": {
      "text/plain": [
       "torch.Size([1, 10, 62, 62])"
      ]
     },
     "execution_count": 32,
     "metadata": {},
     "output_type": "execute_result"
    }
   ],
   "source": [
    "# Pass test image with extra dimension through conv_layer\n",
    "conv_layer(test_image.unsqueeze(dim=0)).shape"
   ]
  },
  {
   "cell_type": "code",
   "execution_count": 33,
   "id": "82c2558d",
   "metadata": {
    "execution": {
     "iopub.execute_input": "2023-07-31T18:56:36.343300Z",
     "iopub.status.busy": "2023-07-31T18:56:36.342516Z",
     "iopub.status.idle": "2023-07-31T18:56:36.389309Z",
     "shell.execute_reply": "2023-07-31T18:56:36.388326Z"
    },
    "executionInfo": {
     "elapsed": 545,
     "status": "ok",
     "timestamp": 1690387645647,
     "user": {
      "displayName": "Gustavo Robl Zitta",
      "userId": "12496481005659581268"
     },
     "user_tz": 180
    },
    "id": "2rGjH86Oj39Y",
    "outputId": "440cdf9a-53fa-45e3-c598-89d4cbf25785",
    "papermill": {
     "duration": 0.07879,
     "end_time": "2023-07-31T18:56:36.391292",
     "exception": false,
     "start_time": "2023-07-31T18:56:36.312502",
     "status": "completed"
    },
    "tags": []
   },
   "outputs": [
    {
     "data": {
      "text/plain": [
       "torch.Size([1, 10, 30, 30])"
      ]
     },
     "execution_count": 33,
     "metadata": {},
     "output_type": "execute_result"
    }
   ],
   "source": [
    "torch.manual_seed(42)\n",
    "# Create a new conv_layer with different values (try setting these to whatever you like)\n",
    "conv_layer_2 = nn.Conv2d(in_channels=3, # same number of color channels as our input image\n",
    "                         out_channels=10,\n",
    "                         kernel_size=(5, 5), # kernel is usually a square so a tuple also works\n",
    "                         stride=2,\n",
    "                         padding=0)\n",
    "\n",
    "# Pass single image through new conv_layer_2 (this calls nn.Conv2d()'s forward() method on the input)\n",
    "conv_layer_2(test_image.unsqueeze(dim=0)).shape"
   ]
  },
  {
   "cell_type": "markdown",
   "id": "6c80a4e8",
   "metadata": {
    "id": "8bHZOCW5j5bs",
    "papermill": {
     "duration": 0.029625,
     "end_time": "2023-07-31T18:56:36.450061",
     "exception": false,
     "start_time": "2023-07-31T18:56:36.420436",
     "status": "completed"
    },
    "tags": []
   },
   "source": [
    "### Stepping through `nn.MaxPool2d()`"
   ]
  },
  {
   "cell_type": "code",
   "execution_count": 34,
   "id": "ed8427e5",
   "metadata": {
    "execution": {
     "iopub.execute_input": "2023-07-31T18:56:36.511365Z",
     "iopub.status.busy": "2023-07-31T18:56:36.510699Z",
     "iopub.status.idle": "2023-07-31T18:56:36.520703Z",
     "shell.execute_reply": "2023-07-31T18:56:36.519099Z"
    },
    "executionInfo": {
     "elapsed": 8,
     "status": "ok",
     "timestamp": 1690387645648,
     "user": {
      "displayName": "Gustavo Robl Zitta",
      "userId": "12496481005659581268"
     },
     "user_tz": 180
    },
    "id": "eFx0jjIAj-pV",
    "outputId": "044bf92b-4827-4063-c865-da02f576bf6c",
    "papermill": {
     "duration": 0.042957,
     "end_time": "2023-07-31T18:56:36.522713",
     "exception": false,
     "start_time": "2023-07-31T18:56:36.479756",
     "status": "completed"
    },
    "tags": []
   },
   "outputs": [
    {
     "name": "stdout",
     "output_type": "stream",
     "text": [
      "Test image original shape: torch.Size([3, 64, 64])\n",
      "Test image with unsqueezed dimension: torch.Size([1, 3, 64, 64])\n",
      "Shape after going through conv_layer(): torch.Size([1, 10, 62, 62])\n",
      "Shape after going through conv_layer() and max_pool_layer(): torch.Size([1, 10, 31, 31])\n"
     ]
    }
   ],
   "source": [
    "# Print out original image shape without and with unsqueezed dimension\n",
    "print(f\"Test image original shape: {test_image.shape}\")\n",
    "print(f\"Test image with unsqueezed dimension: {test_image.unsqueeze(dim=0).shape}\")\n",
    "\n",
    "# Create a sample nn.MaxPoo2d() layer\n",
    "max_pool_layer = nn.MaxPool2d(kernel_size=2)\n",
    "\n",
    "# Pass data through just the conv_layer\n",
    "test_image_through_conv = conv_layer(test_image.unsqueeze(dim=0))\n",
    "print(f\"Shape after going through conv_layer(): {test_image_through_conv.shape}\")\n",
    "\n",
    "# Pass data through the max pool layer\n",
    "test_image_through_conv_and_max_pool = max_pool_layer(test_image_through_conv)\n",
    "print(f\"Shape after going through conv_layer() and max_pool_layer(): {test_image_through_conv_and_max_pool.shape}\")"
   ]
  },
  {
   "cell_type": "code",
   "execution_count": 35,
   "id": "f22f7492",
   "metadata": {
    "execution": {
     "iopub.execute_input": "2023-07-31T18:56:36.584741Z",
     "iopub.status.busy": "2023-07-31T18:56:36.583783Z",
     "iopub.status.idle": "2023-07-31T18:56:36.592458Z",
     "shell.execute_reply": "2023-07-31T18:56:36.591467Z"
    },
    "executionInfo": {
     "elapsed": 7,
     "status": "ok",
     "timestamp": 1690387645648,
     "user": {
      "displayName": "Gustavo Robl Zitta",
      "userId": "12496481005659581268"
     },
     "user_tz": 180
    },
    "id": "9EIwJERSj_HF",
    "outputId": "072ab0d1-ace7-4c98-89d7-73dcd8cedefa",
    "papermill": {
     "duration": 0.042104,
     "end_time": "2023-07-31T18:56:36.594414",
     "exception": false,
     "start_time": "2023-07-31T18:56:36.552310",
     "status": "completed"
    },
    "tags": []
   },
   "outputs": [
    {
     "name": "stdout",
     "output_type": "stream",
     "text": [
      "Random tensor:\n",
      "tensor([[[[0.3367, 0.1288],\n",
      "          [0.2345, 0.2303]]]])\n",
      "Random tensor shape: torch.Size([1, 1, 2, 2])\n",
      "\n",
      "Max pool tensor:\n",
      "tensor([[[[0.3367]]]]) <- this is the maximum value from random_tensor\n",
      "Max pool tensor shape: torch.Size([1, 1, 1, 1])\n"
     ]
    }
   ],
   "source": [
    "torch.manual_seed(42)\n",
    "# Create a random tensor with a similiar number of dimensions to our images\n",
    "random_tensor = torch.randn(size=(1, 1, 2, 2))\n",
    "print(f\"Random tensor:\\n{random_tensor}\")\n",
    "print(f\"Random tensor shape: {random_tensor.shape}\")\n",
    "\n",
    "# Create a max pool layer\n",
    "max_pool_layer = nn.MaxPool2d(kernel_size=2) # see what happens when you change the kernel_size value\n",
    "\n",
    "# Pass the random tensor through the max pool layer\n",
    "max_pool_tensor = max_pool_layer(random_tensor)\n",
    "print(f\"\\nMax pool tensor:\\n{max_pool_tensor} <- this is the maximum value from random_tensor\")\n",
    "print(f\"Max pool tensor shape: {max_pool_tensor.shape}\")"
   ]
  },
  {
   "cell_type": "markdown",
   "id": "6486db7d",
   "metadata": {
    "id": "9AotW6HDkZRd",
    "papermill": {
     "duration": 0.02975,
     "end_time": "2023-07-31T18:56:36.653835",
     "exception": false,
     "start_time": "2023-07-31T18:56:36.624085",
     "status": "completed"
    },
    "tags": []
   },
   "source": [
    "### Setup a loss function and optimizer for `model_2`"
   ]
  },
  {
   "cell_type": "code",
   "execution_count": 36,
   "id": "c63d47cd",
   "metadata": {
    "execution": {
     "iopub.execute_input": "2023-07-31T18:56:36.714497Z",
     "iopub.status.busy": "2023-07-31T18:56:36.713672Z",
     "iopub.status.idle": "2023-07-31T18:56:36.718797Z",
     "shell.execute_reply": "2023-07-31T18:56:36.717895Z"
    },
    "id": "9aOawQmKt4I6",
    "papermill": {
     "duration": 0.03776,
     "end_time": "2023-07-31T18:56:36.720850",
     "exception": false,
     "start_time": "2023-07-31T18:56:36.683090",
     "status": "completed"
    },
    "tags": []
   },
   "outputs": [],
   "source": [
    "# Setup loss and optimizer\n",
    "loss_fn = nn.CrossEntropyLoss()\n",
    "optimizer = torch.optim.SGD(params=model_2.parameters(),\n",
    "                            lr=0.1)"
   ]
  },
  {
   "cell_type": "markdown",
   "id": "ef42a322",
   "metadata": {
    "id": "T_x7ye6M9FiW",
    "papermill": {
     "duration": 0.029754,
     "end_time": "2023-07-31T18:56:36.780192",
     "exception": false,
     "start_time": "2023-07-31T18:56:36.750438",
     "status": "completed"
    },
    "tags": []
   },
   "source": [
    "### Training and testing `model_2` using our training and test functions"
   ]
  },
  {
   "cell_type": "code",
   "execution_count": 37,
   "id": "502f6015",
   "metadata": {
    "execution": {
     "iopub.execute_input": "2023-07-31T18:56:36.842250Z",
     "iopub.status.busy": "2023-07-31T18:56:36.841630Z",
     "iopub.status.idle": "2023-07-31T18:57:14.327115Z",
     "shell.execute_reply": "2023-07-31T18:57:14.326193Z"
    },
    "executionInfo": {
     "elapsed": 48310,
     "status": "ok",
     "timestamp": 1690387693953,
     "user": {
      "displayName": "Gustavo Robl Zitta",
      "userId": "12496481005659581268"
     },
     "user_tz": 180
    },
    "id": "6csB8ESXuNMH",
    "outputId": "fdf9471a-6114-40b3-b195-23a59f2381a0",
    "papermill": {
     "duration": 37.520375,
     "end_time": "2023-07-31T18:57:14.330545",
     "exception": false,
     "start_time": "2023-07-31T18:56:36.810170",
     "status": "completed"
    },
    "tags": []
   },
   "outputs": [
    {
     "data": {
      "application/vnd.jupyter.widget-view+json": {
       "model_id": "5a4e1aa6885849718c3aa5c48af471bf",
       "version_major": 2,
       "version_minor": 0
      },
      "text/plain": [
       "  0%|          | 0/3 [00:00<?, ?it/s]"
      ]
     },
     "metadata": {},
     "output_type": "display_data"
    },
    {
     "name": "stdout",
     "output_type": "stream",
     "text": [
      "Epoch: 0\n",
      "---------\n",
      "Train loss: 0.59128 | Train accuracy: 78.53%\n",
      "Test loss: 0.39946 | Test accuracy: 85.32%\n",
      "\n",
      "Epoch: 1\n",
      "---------\n",
      "Train loss: 0.35744 | Train accuracy: 87.10%\n",
      "Test loss: 0.34410 | Test accuracy: 87.35%\n",
      "\n",
      "Epoch: 2\n",
      "---------\n",
      "Train loss: 0.31907 | Train accuracy: 88.50%\n",
      "Test loss: 0.32223 | Test accuracy: 88.51%\n",
      "\n",
      "Train time on cuda: 37.478 seconds\n"
     ]
    }
   ],
   "source": [
    "torch.manual_seed(42)\n",
    "\n",
    "# Measure time\n",
    "from timeit import default_timer as timer\n",
    "train_time_start_model_2 = timer()\n",
    "\n",
    "# Train and test model\n",
    "epochs = 3\n",
    "for epoch in tqdm(range(epochs)):\n",
    "    print(f\"Epoch: {epoch}\\n---------\")\n",
    "    train_step(data_loader=train_dataloader,\n",
    "        model=model_2,\n",
    "        loss_fn=loss_fn,\n",
    "        optimizer=optimizer,\n",
    "        accuracy_fn=accuracy_fn,\n",
    "        device=device\n",
    "    )\n",
    "    test_step(data_loader=test_dataloader,\n",
    "        model=model_2,\n",
    "        loss_fn=loss_fn,\n",
    "        accuracy_fn=accuracy_fn,\n",
    "        device=device\n",
    "    )\n",
    "\n",
    "train_time_end_model_2 = timer()\n",
    "total_train_time_model_2 = print_train_time(start=train_time_start_model_2,\n",
    "                                           end=train_time_end_model_2,\n",
    "                                           device=device)"
   ]
  },
  {
   "cell_type": "code",
   "execution_count": 38,
   "id": "9e37e3e4",
   "metadata": {
    "execution": {
     "iopub.execute_input": "2023-07-31T18:57:14.394532Z",
     "iopub.status.busy": "2023-07-31T18:57:14.392985Z",
     "iopub.status.idle": "2023-07-31T18:57:15.666096Z",
     "shell.execute_reply": "2023-07-31T18:57:15.665152Z"
    },
    "executionInfo": {
     "elapsed": 1718,
     "status": "ok",
     "timestamp": 1690387695659,
     "user": {
      "displayName": "Gustavo Robl Zitta",
      "userId": "12496481005659581268"
     },
     "user_tz": 180
    },
    "id": "SgpG4qKJ0SXt",
    "outputId": "2d569d3e-398b-4487-da4e-08a9cac26381",
    "papermill": {
     "duration": 1.308129,
     "end_time": "2023-07-31T18:57:15.669440",
     "exception": false,
     "start_time": "2023-07-31T18:57:14.361311",
     "status": "completed"
    },
    "tags": []
   },
   "outputs": [
    {
     "data": {
      "application/vnd.jupyter.widget-view+json": {
       "model_id": "0bf2443954d04fd6b486bc84f2fc7ab4",
       "version_major": 2,
       "version_minor": 0
      },
      "text/plain": [
       "  0%|          | 0/313 [00:00<?, ?it/s]"
      ]
     },
     "metadata": {},
     "output_type": "display_data"
    },
    {
     "data": {
      "text/plain": [
       "{'model_name': 'FashionMNISTModelV2',\n",
       " 'model_loss': 0.3222259283065796,\n",
       " 'model_acc': 88.50838658146965}"
      ]
     },
     "execution_count": 38,
     "metadata": {},
     "output_type": "execute_result"
    }
   ],
   "source": [
    "# Get model_2 results\n",
    "model_2_results = eval_model(\n",
    "    model=model_2,\n",
    "    data_loader=test_dataloader,\n",
    "    loss_fn=loss_fn,\n",
    "    accuracy_fn=accuracy_fn\n",
    ")\n",
    "model_2_results"
   ]
  },
  {
   "cell_type": "markdown",
   "id": "b82fa0ec",
   "metadata": {
    "id": "W_dijxmKz9to",
    "papermill": {
     "duration": 0.031287,
     "end_time": "2023-07-31T18:57:15.732586",
     "exception": false,
     "start_time": "2023-07-31T18:57:15.701299",
     "status": "completed"
    },
    "tags": []
   },
   "source": [
    "## 8. Compare model results and training time\n",
    "\n",
    "1. `model_0` - our baseline model with two `nn.Linear()` layers.\n",
    "2. `model_1` - the same setup as our baseline model except with `nn.ReLU()` layers in between the `nn.Linear()` layers.\n",
    "3. `model_2` - our first CNN model that mimics the TinyVGG architecture on the CNN Explainer website."
   ]
  },
  {
   "cell_type": "code",
   "execution_count": 39,
   "id": "280b8d2f",
   "metadata": {
    "execution": {
     "iopub.execute_input": "2023-07-31T18:57:15.795654Z",
     "iopub.status.busy": "2023-07-31T18:57:15.795287Z",
     "iopub.status.idle": "2023-07-31T18:57:15.815175Z",
     "shell.execute_reply": "2023-07-31T18:57:15.814091Z"
    },
    "executionInfo": {
     "elapsed": 5,
     "status": "ok",
     "timestamp": 1690388095921,
     "user": {
      "displayName": "Gustavo Robl Zitta",
      "userId": "12496481005659581268"
     },
     "user_tz": 180
    },
    "id": "HI1HSGoB0N2w",
    "outputId": "25202b6d-da79-449f-b828-45cec0a475c7",
    "papermill": {
     "duration": 0.054277,
     "end_time": "2023-07-31T18:57:15.817460",
     "exception": false,
     "start_time": "2023-07-31T18:57:15.763183",
     "status": "completed"
    },
    "tags": []
   },
   "outputs": [
    {
     "data": {
      "text/html": [
       "<div>\n",
       "<style scoped>\n",
       "    .dataframe tbody tr th:only-of-type {\n",
       "        vertical-align: middle;\n",
       "    }\n",
       "\n",
       "    .dataframe tbody tr th {\n",
       "        vertical-align: top;\n",
       "    }\n",
       "\n",
       "    .dataframe thead th {\n",
       "        text-align: right;\n",
       "    }\n",
       "</style>\n",
       "<table border=\"1\" class=\"dataframe\">\n",
       "  <thead>\n",
       "    <tr style=\"text-align: right;\">\n",
       "      <th></th>\n",
       "      <th>model_name</th>\n",
       "      <th>model_loss</th>\n",
       "      <th>model_acc</th>\n",
       "    </tr>\n",
       "  </thead>\n",
       "  <tbody>\n",
       "    <tr>\n",
       "      <th>0</th>\n",
       "      <td>FashionMNISTModelV0</td>\n",
       "      <td>0.476639</td>\n",
       "      <td>83.426518</td>\n",
       "    </tr>\n",
       "    <tr>\n",
       "      <th>1</th>\n",
       "      <td>FashionMNISTModelV1</td>\n",
       "      <td>0.685001</td>\n",
       "      <td>75.019968</td>\n",
       "    </tr>\n",
       "    <tr>\n",
       "      <th>2</th>\n",
       "      <td>FashionMNISTModelV2</td>\n",
       "      <td>0.322226</td>\n",
       "      <td>88.508387</td>\n",
       "    </tr>\n",
       "  </tbody>\n",
       "</table>\n",
       "</div>"
      ],
      "text/plain": [
       "            model_name  model_loss  model_acc\n",
       "0  FashionMNISTModelV0    0.476639  83.426518\n",
       "1  FashionMNISTModelV1    0.685001  75.019968\n",
       "2  FashionMNISTModelV2    0.322226  88.508387"
      ]
     },
     "execution_count": 39,
     "metadata": {},
     "output_type": "execute_result"
    }
   ],
   "source": [
    "import pandas as pd\n",
    "compare_results = pd.DataFrame([model_0_results,model_1_results,model_2_results])\n",
    "compare_results"
   ]
  },
  {
   "cell_type": "markdown",
   "id": "a1895e5a",
   "metadata": {
    "id": "SgiC1Yh9-tCJ",
    "papermill": {
     "duration": 0.032431,
     "end_time": "2023-07-31T18:57:15.885984",
     "exception": false,
     "start_time": "2023-07-31T18:57:15.853553",
     "status": "completed"
    },
    "tags": []
   },
   "source": [
    "### Performance-speed tradeoff"
   ]
  },
  {
   "cell_type": "code",
   "execution_count": 40,
   "id": "9af21085",
   "metadata": {
    "execution": {
     "iopub.execute_input": "2023-07-31T18:57:15.955168Z",
     "iopub.status.busy": "2023-07-31T18:57:15.954808Z",
     "iopub.status.idle": "2023-07-31T18:57:15.968253Z",
     "shell.execute_reply": "2023-07-31T18:57:15.967140Z"
    },
    "executionInfo": {
     "elapsed": 5,
     "status": "ok",
     "timestamp": 1690388313124,
     "user": {
      "displayName": "Gustavo Robl Zitta",
      "userId": "12496481005659581268"
     },
     "user_tz": 180
    },
    "id": "W-3_gevy_YIV",
    "outputId": "49316e85-d65f-4b21-b3cc-8e715fd0e2f3",
    "papermill": {
     "duration": 0.050263,
     "end_time": "2023-07-31T18:57:15.970453",
     "exception": false,
     "start_time": "2023-07-31T18:57:15.920190",
     "status": "completed"
    },
    "tags": []
   },
   "outputs": [
    {
     "data": {
      "text/html": [
       "<div>\n",
       "<style scoped>\n",
       "    .dataframe tbody tr th:only-of-type {\n",
       "        vertical-align: middle;\n",
       "    }\n",
       "\n",
       "    .dataframe tbody tr th {\n",
       "        vertical-align: top;\n",
       "    }\n",
       "\n",
       "    .dataframe thead th {\n",
       "        text-align: right;\n",
       "    }\n",
       "</style>\n",
       "<table border=\"1\" class=\"dataframe\">\n",
       "  <thead>\n",
       "    <tr style=\"text-align: right;\">\n",
       "      <th></th>\n",
       "      <th>model_name</th>\n",
       "      <th>model_loss</th>\n",
       "      <th>model_acc</th>\n",
       "      <th>training_time</th>\n",
       "    </tr>\n",
       "  </thead>\n",
       "  <tbody>\n",
       "    <tr>\n",
       "      <th>0</th>\n",
       "      <td>FashionMNISTModelV0</td>\n",
       "      <td>0.476639</td>\n",
       "      <td>83.426518</td>\n",
       "      <td>26.934119</td>\n",
       "    </tr>\n",
       "    <tr>\n",
       "      <th>1</th>\n",
       "      <td>FashionMNISTModelV1</td>\n",
       "      <td>0.685001</td>\n",
       "      <td>75.019968</td>\n",
       "      <td>28.823235</td>\n",
       "    </tr>\n",
       "    <tr>\n",
       "      <th>2</th>\n",
       "      <td>FashionMNISTModelV2</td>\n",
       "      <td>0.322226</td>\n",
       "      <td>88.508387</td>\n",
       "      <td>37.477674</td>\n",
       "    </tr>\n",
       "  </tbody>\n",
       "</table>\n",
       "</div>"
      ],
      "text/plain": [
       "            model_name  model_loss  model_acc  training_time\n",
       "0  FashionMNISTModelV0    0.476639  83.426518      26.934119\n",
       "1  FashionMNISTModelV1    0.685001  75.019968      28.823235\n",
       "2  FashionMNISTModelV2    0.322226  88.508387      37.477674"
      ]
     },
     "execution_count": 40,
     "metadata": {},
     "output_type": "execute_result"
    }
   ],
   "source": [
    "compare_results['training_time'] = [total_train_time_model_0,total_train_time_model_1,total_train_time_model_2]\n",
    "compare_results"
   ]
  },
  {
   "cell_type": "code",
   "execution_count": 41,
   "id": "65c4901c",
   "metadata": {
    "execution": {
     "iopub.execute_input": "2023-07-31T18:57:16.037836Z",
     "iopub.status.busy": "2023-07-31T18:57:16.036802Z",
     "iopub.status.idle": "2023-07-31T18:57:16.458250Z",
     "shell.execute_reply": "2023-07-31T18:57:16.457326Z"
    },
    "executionInfo": {
     "elapsed": 4,
     "status": "ok",
     "timestamp": 1690388343832,
     "user": {
      "displayName": "Gustavo Robl Zitta",
      "userId": "12496481005659581268"
     },
     "user_tz": 180
    },
    "id": "nO6HuCqx_p2d",
    "outputId": "d24379f6-af15-415e-fb17-ce1b8a51a0fa",
    "papermill": {
     "duration": 0.456232,
     "end_time": "2023-07-31T18:57:16.460527",
     "exception": false,
     "start_time": "2023-07-31T18:57:16.004295",
     "status": "completed"
    },
    "tags": []
   },
   "outputs": [
    {
     "data": {
      "image/png": "[encoded data removed]",
      "text/plain": [
       "<Figure size 640x480 with 1 Axes>"
      ]
     },
     "metadata": {},
     "output_type": "display_data"
    }
   ],
   "source": [
    "# Visualize our model results\n",
    "compare_results.set_index(\"model_name\")[\"model_acc\"].plot(kind=\"barh\")\n",
    "plt.xlabel(\"accuracy (%)\")\n",
    "plt.ylabel(\"model\");"
   ]
  },
  {
   "cell_type": "code",
   "execution_count": 42,
   "id": "89b45f70",
   "metadata": {
    "execution": {
     "iopub.execute_input": "2023-07-31T18:57:16.530159Z",
     "iopub.status.busy": "2023-07-31T18:57:16.529257Z",
     "iopub.status.idle": "2023-07-31T18:57:16.536487Z",
     "shell.execute_reply": "2023-07-31T18:57:16.535602Z"
    },
    "id": "fEn9mTyL_yhe",
    "papermill": {
     "duration": 0.043952,
     "end_time": "2023-07-31T18:57:16.538382",
     "exception": false,
     "start_time": "2023-07-31T18:57:16.494430",
     "status": "completed"
    },
    "tags": []
   },
   "outputs": [],
   "source": [
    "def make_predictions(model: torch.nn.Module, data: list, device: torch.device = device):\n",
    "    pred_probs = []\n",
    "    model.eval()\n",
    "    with torch.inference_mode():\n",
    "        for sample in data:\n",
    "            # Prepare sample\n",
    "            sample = torch.unsqueeze(sample, dim=0).to(device) # Add an extra dimension and send sample to device\n",
    "\n",
    "            # Forward pass (model outputs raw logit)\n",
    "            pred_logit = model(sample)\n",
    "\n",
    "            # Get prediction probability (logit -> prediction probability)\n",
    "            pred_prob = torch.softmax(pred_logit.squeeze(), dim=0) # note: perform softmax on the \"logits\" dimension, not \"batch\" dimension (in this case we have a batch size of 1, so can perform on dim=0)\n",
    "\n",
    "            # Get pred_prob off GPU for further calculations\n",
    "            pred_probs.append(pred_prob.cpu())\n",
    "\n",
    "    # Stack the pred_probs to turn list into a tensor\n",
    "    return torch.stack(pred_probs)\n"
   ]
  },
  {
   "cell_type": "code",
   "execution_count": 43,
   "id": "bab3229c",
   "metadata": {
    "execution": {
     "iopub.execute_input": "2023-07-31T18:57:16.608994Z",
     "iopub.status.busy": "2023-07-31T18:57:16.608231Z",
     "iopub.status.idle": "2023-07-31T18:57:16.615471Z",
     "shell.execute_reply": "2023-07-31T18:57:16.614475Z"
    },
    "executionInfo": {
     "elapsed": 2,
     "status": "ok",
     "timestamp": 1690389881877,
     "user": {
      "displayName": "Gustavo Robl Zitta",
      "userId": "12496481005659581268"
     },
     "user_tz": 180
    },
    "id": "-3Nlh_6GFNm4",
    "outputId": "2990b262-5836-4983-c6f4-225821bb1674",
    "papermill": {
     "duration": 0.042125,
     "end_time": "2023-07-31T18:57:16.617434",
     "exception": false,
     "start_time": "2023-07-31T18:57:16.575309",
     "status": "completed"
    },
    "tags": []
   },
   "outputs": [
    {
     "data": {
      "text/plain": [
       "(torch.Size([1, 28, 28]), 9)"
      ]
     },
     "execution_count": 43,
     "metadata": {},
     "output_type": "execute_result"
    }
   ],
   "source": [
    "img, label = test_data[0][:10]\n",
    "img.shape, label"
   ]
  },
  {
   "cell_type": "code",
   "execution_count": 44,
   "id": "eba282fd",
   "metadata": {
    "execution": {
     "iopub.execute_input": "2023-07-31T18:57:16.684704Z",
     "iopub.status.busy": "2023-07-31T18:57:16.683777Z",
     "iopub.status.idle": "2023-07-31T18:57:17.689376Z",
     "shell.execute_reply": "2023-07-31T18:57:17.688466Z"
    },
    "executionInfo": {
     "elapsed": 3078,
     "status": "ok",
     "timestamp": 1690390534999,
     "user": {
      "displayName": "Gustavo Robl Zitta",
      "userId": "12496481005659581268"
     },
     "user_tz": 180
    },
    "id": "7CpVf43PEu3j",
    "outputId": "b10ae9ae-91a0-4080-e121-edbe4726ee38",
    "papermill": {
     "duration": 1.041727,
     "end_time": "2023-07-31T18:57:17.691629",
     "exception": false,
     "start_time": "2023-07-31T18:57:16.649902",
     "status": "completed"
    },
    "tags": []
   },
   "outputs": [
    {
     "data": {
      "text/plain": [
       "torch.Size([1, 28, 28])"
      ]
     },
     "execution_count": 44,
     "metadata": {},
     "output_type": "execute_result"
    }
   ],
   "source": [
    "import random\n",
    "random.seed(42)\n",
    "test_samples = []\n",
    "test_labels = []\n",
    "for sample, label in random.sample(list(test_data), k=16):\n",
    "  test_samples.append(sample)\n",
    "  test_labels.append(label)\n",
    "test_samples[0].shape"
   ]
  },
  {
   "cell_type": "code",
   "execution_count": 45,
   "id": "b6406ef5",
   "metadata": {
    "execution": {
     "iopub.execute_input": "2023-07-31T18:57:17.757934Z",
     "iopub.status.busy": "2023-07-31T18:57:17.757010Z",
     "iopub.status.idle": "2023-07-31T18:57:18.053233Z",
     "shell.execute_reply": "2023-07-31T18:57:18.052326Z"
    },
    "executionInfo": {
     "elapsed": 921,
     "status": "ok",
     "timestamp": 1690390535918,
     "user": {
      "displayName": "Gustavo Robl Zitta",
      "userId": "12496481005659581268"
     },
     "user_tz": 180
    },
    "id": "JDmw5oYPGQVb",
    "outputId": "76206986-4906-4a75-a334-a9f86af71f77",
    "papermill": {
     "duration": 0.331364,
     "end_time": "2023-07-31T18:57:18.055369",
     "exception": false,
     "start_time": "2023-07-31T18:57:17.724005",
     "status": "completed"
    },
    "tags": []
   },
   "outputs": [
    {
     "data": {
      "image/png": "[encoded data removed]",
      "text/plain": [
       "<Figure size 640x480 with 1 Axes>"
      ]
     },
     "metadata": {},
     "output_type": "display_data"
    }
   ],
   "source": [
    "plt.imshow(test_samples[1].squeeze(),cmap='gray')\n",
    "plt.title(test_data.classes[test_labels[1]]);"
   ]
  },
  {
   "cell_type": "code",
   "execution_count": 46,
   "id": "e69fdeab",
   "metadata": {
    "execution": {
     "iopub.execute_input": "2023-07-31T18:57:18.122104Z",
     "iopub.status.busy": "2023-07-31T18:57:18.121277Z",
     "iopub.status.idle": "2023-07-31T18:57:18.134057Z",
     "shell.execute_reply": "2023-07-31T18:57:18.133067Z"
    },
    "executionInfo": {
     "elapsed": 8,
     "status": "ok",
     "timestamp": 1690390535919,
     "user": {
      "displayName": "Gustavo Robl Zitta",
      "userId": "12496481005659581268"
     },
     "user_tz": 180
    },
    "id": "E3OjHaDCGrtr",
    "outputId": "c85ff082-3fe5-46d6-d973-627cab171ab2",
    "papermill": {
     "duration": 0.04773,
     "end_time": "2023-07-31T18:57:18.136000",
     "exception": false,
     "start_time": "2023-07-31T18:57:18.088270",
     "status": "completed"
    },
    "tags": []
   },
   "outputs": [
    {
     "data": {
      "text/plain": [
       "tensor([0.1026, 0.0997, 0.0997, 0.0997, 0.0997, 0.0997, 0.0997, 0.0997, 0.0997,\n",
       "        0.0997])"
      ]
     },
     "execution_count": 46,
     "metadata": {},
     "output_type": "execute_result"
    }
   ],
   "source": [
    "pred_probs = make_predictions(model_1,data=test_samples)\n",
    "pred_probs[1]"
   ]
  },
  {
   "cell_type": "code",
   "execution_count": 47,
   "id": "dd8f9cfa",
   "metadata": {
    "execution": {
     "iopub.execute_input": "2023-07-31T18:57:18.203132Z",
     "iopub.status.busy": "2023-07-31T18:57:18.202276Z",
     "iopub.status.idle": "2023-07-31T18:57:18.209501Z",
     "shell.execute_reply": "2023-07-31T18:57:18.208543Z"
    },
    "executionInfo": {
     "elapsed": 6,
     "status": "ok",
     "timestamp": 1690390535919,
     "user": {
      "displayName": "Gustavo Robl Zitta",
      "userId": "12496481005659581268"
     },
     "user_tz": 180
    },
    "id": "eIuodBOxHU8O",
    "outputId": "9f7e83e6-8eff-4da0-fc9f-6e42dd47d4b1",
    "papermill": {
     "duration": 0.042406,
     "end_time": "2023-07-31T18:57:18.211468",
     "exception": false,
     "start_time": "2023-07-31T18:57:18.169062",
     "status": "completed"
    },
    "tags": []
   },
   "outputs": [
    {
     "data": {
      "text/plain": [
       "tensor([5, 0, 7, 4, 0, 0, 4, 7, 1, 9, 7, 2, 0, 1, 0, 4])"
      ]
     },
     "execution_count": 47,
     "metadata": {},
     "output_type": "execute_result"
    }
   ],
   "source": [
    "# Turn the prediction probabilities into prediction labels by taking the argmax()\n",
    "pred_classes = pred_probs.argmax(dim=1)\n",
    "pred_classes"
   ]
  },
  {
   "cell_type": "code",
   "execution_count": 48,
   "id": "71d1f7d6",
   "metadata": {
    "execution": {
     "iopub.execute_input": "2023-07-31T18:57:18.277967Z",
     "iopub.status.busy": "2023-07-31T18:57:18.277391Z",
     "iopub.status.idle": "2023-07-31T18:57:18.282666Z",
     "shell.execute_reply": "2023-07-31T18:57:18.281788Z"
    },
    "executionInfo": {
     "elapsed": 2,
     "status": "ok",
     "timestamp": 1690390538096,
     "user": {
      "displayName": "Gustavo Robl Zitta",
      "userId": "12496481005659581268"
     },
     "user_tz": 180
    },
    "id": "tdwUrgl_Hjam",
    "outputId": "4e3267b4-d7e4-4b60-85a6-64ae800396f5",
    "papermill": {
     "duration": 0.041565,
     "end_time": "2023-07-31T18:57:18.285527",
     "exception": false,
     "start_time": "2023-07-31T18:57:18.243962",
     "status": "completed"
    },
    "tags": []
   },
   "outputs": [
    {
     "name": "stdout",
     "output_type": "stream",
     "text": [
      "[5, 1, 7, 4, 3, 0, 4, 7, 1, 9, 7, 2, 0, 1, 0, 4]\n",
      "[5, 0, 7, 4, 0, 0, 4, 7, 1, 9, 7, 2, 0, 1, 0, 4]\n"
     ]
    }
   ],
   "source": [
    "# Are our predictions in the same form as our test labels?\n",
    "print(test_labels)\n",
    "print(list(pred_classes.numpy()))"
   ]
  },
  {
   "cell_type": "code",
   "execution_count": 49,
   "id": "97192f18",
   "metadata": {
    "execution": {
     "iopub.execute_input": "2023-07-31T18:57:18.355546Z",
     "iopub.status.busy": "2023-07-31T18:57:18.355162Z",
     "iopub.status.idle": "2023-07-31T18:57:19.770380Z",
     "shell.execute_reply": "2023-07-31T18:57:19.769340Z"
    },
    "executionInfo": {
     "elapsed": 2849,
     "status": "ok",
     "timestamp": 1690390629243,
     "user": {
      "displayName": "Gustavo Robl Zitta",
      "userId": "12496481005659581268"
     },
     "user_tz": 180
    },
    "id": "fEPhPgQBHwDv",
    "outputId": "1207b514-e828-4718-82d7-2f2635fcb2f5",
    "papermill": {
     "duration": 1.45405,
     "end_time": "2023-07-31T18:57:19.772714",
     "exception": false,
     "start_time": "2023-07-31T18:57:18.318664",
     "status": "completed"
    },
    "tags": []
   },
   "outputs": [
    {
     "data": {
      "image/png": "[encoded data removed]",
      "text/plain": [
       "<Figure size 1100x1100 with 16 Axes>"
      ]
     },
     "metadata": {},
     "output_type": "display_data"
    }
   ],
   "source": [
    "# Plot predictions\n",
    "plt.figure(figsize=(11, 11))\n",
    "nrows = 4\n",
    "ncols = 4\n",
    "for i, sample in enumerate(test_samples):\n",
    "  # Create a subplot\n",
    "  plt.subplot(nrows, ncols, i+1)\n",
    "\n",
    "  # Plot the target image\n",
    "  plt.imshow(sample.squeeze(), cmap=\"gray\")\n",
    "\n",
    "  # Find the prediction label (in text form, e.g. \"Sandal\")\n",
    "  pred_label = class_names[pred_classes[i]]\n",
    "\n",
    "  # Get the truth label (in text form, e.g. \"T-shirt\")\n",
    "  truth_label = class_names[test_labels[i]]\n",
    "\n",
    "  # Create the title text of the plot\n",
    "  title_text = f\"Pred: {pred_label} | Truth: {truth_label}\"\n",
    "\n",
    "  # Check for equality and change title colour accordingly\n",
    "  if pred_label == truth_label:\n",
    "      plt.title(title_text, fontsize=10, c=\"g\") # green text if correct\n",
    "  else:\n",
    "      plt.title(title_text, fontsize=10, c=\"r\") # red text if wrong\n",
    "  plt.axis(False);"
   ]
  },
  {
   "cell_type": "markdown",
   "id": "4c0ec80a",
   "metadata": {
    "id": "FEdkYixHIONu",
    "papermill": {
     "duration": 0.034237,
     "end_time": "2023-07-31T18:57:19.841444",
     "exception": false,
     "start_time": "2023-07-31T18:57:19.807207",
     "status": "completed"
    },
    "tags": []
   },
   "source": [
    "## 10. Making a confusion matrix for further prediction evaluation"
   ]
  },
  {
   "cell_type": "code",
   "execution_count": 50,
   "id": "619ac8fe",
   "metadata": {
    "execution": {
     "iopub.execute_input": "2023-07-31T18:57:19.910275Z",
     "iopub.status.busy": "2023-07-31T18:57:19.909937Z",
     "iopub.status.idle": "2023-07-31T18:57:21.173022Z",
     "shell.execute_reply": "2023-07-31T18:57:21.171951Z"
    },
    "executionInfo": {
     "elapsed": 3627,
     "status": "ok",
     "timestamp": 1690391155001,
     "user": {
      "displayName": "Gustavo Robl Zitta",
      "userId": "12496481005659581268"
     },
     "user_tz": 180
    },
    "id": "xzlkNpeUKdj-",
    "outputId": "138d1e0c-c74d-4338-8694-d90bde840ca9",
    "papermill": {
     "duration": 1.300781,
     "end_time": "2023-07-31T18:57:21.175882",
     "exception": false,
     "start_time": "2023-07-31T18:57:19.875101",
     "status": "completed"
    },
    "tags": []
   },
   "outputs": [
    {
     "data": {
      "application/vnd.jupyter.widget-view+json": {
       "model_id": "ce420ce28e0b49dd9e9b83f59ec07cd5",
       "version_major": 2,
       "version_minor": 0
      },
      "text/plain": [
       "Making predictions:   0%|          | 0/313 [00:00<?, ?it/s]"
      ]
     },
     "metadata": {},
     "output_type": "display_data"
    }
   ],
   "source": [
    "# Import tqdm for progress bar\n",
    "from tqdm.auto import tqdm\n",
    "\n",
    "# 1. Make predictions with trained model\n",
    "y_preds = []\n",
    "model_2.eval()\n",
    "with torch.inference_mode():\n",
    "  for X, y in tqdm(test_dataloader, desc=\"Making predictions\"):\n",
    "    # Send data and targets to target device\n",
    "    X, y = X.to(device), y.to(device)\n",
    "    # Do the forward pass\n",
    "    y_logit = model_2(X)\n",
    "    # Turn predictions from logits -> prediction probabilities -> predictions labels\n",
    "    y_pred = torch.softmax(y_logit, dim=1).argmax(dim=1) # note: perform softmax on the \"logits\" dimension, not \"batch\" dimension (in this case we have a batch size of 32, so can perform on dim=1)\n",
    "    # Put predictions on CPU for evaluation\n",
    "    y_preds.append(y_pred.cpu())\n",
    "# Concatenate list of predictions into a tensor\n",
    "y_pred_tensor = torch.cat(y_preds)"
   ]
  },
  {
   "cell_type": "markdown",
   "id": "d8bce6eb",
   "metadata": {
    "id": "75VyOA1wKpZD",
    "papermill": {
     "duration": 0.033987,
     "end_time": "2023-07-31T18:57:21.244261",
     "exception": false,
     "start_time": "2023-07-31T18:57:21.210274",
     "status": "completed"
    },
    "tags": []
   },
   "source": [
    "2. Make a confusion matrix using [`torchmetrics.ConfusionMatrix`](https://torchmetrics.readthedocs.io/en/latest/references/modules.html?highlight=confusion#confusionmatrix).\n",
    "3. Plot the confusion matrix using [`mlxtend.plotting.plot_confusion_matrix()`](http://rasbt.github.io/mlxtend/user_guide/plotting/plot_confusion_matrix/)."
   ]
  },
  {
   "cell_type": "code",
   "execution_count": 51,
   "id": "62c38fe7",
   "metadata": {
    "execution": {
     "iopub.execute_input": "2023-07-31T18:57:21.314246Z",
     "iopub.status.busy": "2023-07-31T18:57:21.313892Z",
     "iopub.status.idle": "2023-07-31T18:57:31.175627Z",
     "shell.execute_reply": "2023-07-31T18:57:31.174123Z"
    },
    "executionInfo": {
     "elapsed": 7321,
     "status": "ok",
     "timestamp": 1690391186849,
     "user": {
      "displayName": "Gustavo Robl Zitta",
      "userId": "12496481005659581268"
     },
     "user_tz": 180
    },
    "id": "Uihp7ERaKf-D",
    "outputId": "13d9a003-ac2d-4497-af79-34b7bfcfbd7c",
    "papermill": {
     "duration": 9.899936,
     "end_time": "2023-07-31T18:57:31.177918",
     "exception": false,
     "start_time": "2023-07-31T18:57:21.277982",
     "status": "completed"
    },
    "tags": []
   },
   "outputs": [
    {
     "name": "stderr",
     "output_type": "stream",
     "text": [
      "/opt/conda/lib/python3.10/site-packages/scipy/__init__.py:146: UserWarning: A NumPy version >=1.16.5 and <1.23.0 is required for this version of SciPy (detected version 1.23.5\n",
      "  warnings.warn(f\"A NumPy version >={np_minversion} and <{np_maxversion}\"\n",
      "/opt/conda/lib/python3.10/site-packages/tensorflow_io/python/ops/__init__.py:98: UserWarning: unable to load libtensorflow_io_plugins.so: unable to open file: libtensorflow_io_plugins.so, from paths: ['/opt/conda/lib/python3.10/site-packages/tensorflow_io/python/ops/libtensorflow_io_plugins.so']\n",
      "caused by: ['/opt/conda/lib/python3.10/site-packages/tensorflow_io/python/ops/libtensorflow_io_plugins.so: undefined symbol: _ZN3tsl6StatusC1EN10tensorflow5error4CodeESt17basic_string_viewIcSt11char_traitsIcEENS_14SourceLocationE']\n",
      "  warnings.warn(f\"unable to load libtensorflow_io_plugins.so: {e}\")\n",
      "/opt/conda/lib/python3.10/site-packages/tensorflow_io/python/ops/__init__.py:104: UserWarning: file system plugins are not loaded: unable to open file: libtensorflow_io.so, from paths: ['/opt/conda/lib/python3.10/site-packages/tensorflow_io/python/ops/libtensorflow_io.so']\n",
      "caused by: ['/opt/conda/lib/python3.10/site-packages/tensorflow_io/python/ops/libtensorflow_io.so: undefined symbol: _ZTVN10tensorflow13GcsFileSystemE']\n",
      "  warnings.warn(f\"file system plugins are not loaded: {e}\")\n"
     ]
    },
    {
     "name": "stdout",
     "output_type": "stream",
     "text": [
      "mlxtend version: 0.22.0\n"
     ]
    }
   ],
   "source": [
    "# See if torchmetrics exists, if not, install it\n",
    "try:\n",
    "    import torchmetrics, mlxtend\n",
    "    print(f\"mlxtend version: {mlxtend.__version__}\")\n",
    "    assert int(mlxtend.__version__.split(\".\")[1]) >= 19, \"mlxtend verison should be 0.19.0 or higher\"\n",
    "except:\n",
    "    !pip install -q torchmetrics -U mlxtend # <- Note: If you're using Google Colab, this may require restarting the runtime\n",
    "    import torchmetrics, mlxtend\n",
    "    print(f\"mlxtend version: {mlxtend.__version__}\")"
   ]
  },
  {
   "cell_type": "code",
   "execution_count": 52,
   "id": "718c1715",
   "metadata": {
    "execution": {
     "iopub.execute_input": "2023-07-31T18:57:31.248674Z",
     "iopub.status.busy": "2023-07-31T18:57:31.248308Z",
     "iopub.status.idle": "2023-07-31T18:57:31.253989Z",
     "shell.execute_reply": "2023-07-31T18:57:31.253098Z"
    },
    "executionInfo": {
     "elapsed": 3,
     "status": "ok",
     "timestamp": 1690391200763,
     "user": {
      "displayName": "Gustavo Robl Zitta",
      "userId": "12496481005659581268"
     },
     "user_tz": 180
    },
    "id": "D1JN-vG4Km1k",
    "outputId": "cd68a23a-8bff-4d11-e5ce-1211253e93a5",
    "papermill": {
     "duration": 0.043704,
     "end_time": "2023-07-31T18:57:31.256225",
     "exception": false,
     "start_time": "2023-07-31T18:57:31.212521",
     "status": "completed"
    },
    "tags": []
   },
   "outputs": [
    {
     "name": "stdout",
     "output_type": "stream",
     "text": [
      "0.22.0\n"
     ]
    }
   ],
   "source": [
    "# Import mlxtend upgraded version\n",
    "import mlxtend\n",
    "print(mlxtend.__version__)\n",
    "assert int(mlxtend.__version__.split(\".\")[1]) >= 19 # should be version 0.19.0 or higher"
   ]
  },
  {
   "cell_type": "code",
   "execution_count": 53,
   "id": "a997423b",
   "metadata": {
    "execution": {
     "iopub.execute_input": "2023-07-31T18:57:31.327635Z",
     "iopub.status.busy": "2023-07-31T18:57:31.326667Z",
     "iopub.status.idle": "2023-07-31T18:57:32.628316Z",
     "shell.execute_reply": "2023-07-31T18:57:32.627306Z"
    },
    "executionInfo": {
     "elapsed": 2414,
     "status": "ok",
     "timestamp": 1690391209657,
     "user": {
      "displayName": "Gustavo Robl Zitta",
      "userId": "12496481005659581268"
     },
     "user_tz": 180
    },
    "id": "WjQYs5wkKsDF",
    "outputId": "8eebfc4f-2294-4db5-fb67-f4dd7fb9faa1",
    "papermill": {
     "duration": 1.342833,
     "end_time": "2023-07-31T18:57:32.633492",
     "exception": false,
     "start_time": "2023-07-31T18:57:31.290659",
     "status": "completed"
    },
    "tags": []
   },
   "outputs": [
    {
     "data": {
      "image/png": "[encoded data removed]",
      "text/plain": [
       "<Figure size 1000x700 with 1 Axes>"
      ]
     },
     "metadata": {},
     "output_type": "display_data"
    }
   ],
   "source": [
    "from torchmetrics import ConfusionMatrix\n",
    "from mlxtend.plotting import plot_confusion_matrix\n",
    "\n",
    "# 2. Setup confusion matrix instance and compare predictions to targets\n",
    "confmat = ConfusionMatrix(num_classes=len(class_names), task='multiclass')\n",
    "confmat_tensor = confmat(preds=y_pred_tensor,\n",
    "                         target=test_data.targets)\n",
    "\n",
    "# 3. Plot the confusion matrix\n",
    "fig, ax = plot_confusion_matrix(\n",
    "    conf_mat=confmat_tensor.numpy(), # matplotlib likes working with NumPy\n",
    "    class_names=class_names, # turn the row and column labels into class names\n",
    "    figsize=(10, 7)\n",
    ");"
   ]
  },
  {
   "cell_type": "markdown",
   "id": "7c484458",
   "metadata": {
    "id": "Gevi-DWvKtnD",
    "papermill": {
     "duration": 0.042564,
     "end_time": "2023-07-31T18:57:32.715127",
     "exception": false,
     "start_time": "2023-07-31T18:57:32.672563",
     "status": "completed"
    },
    "tags": []
   },
   "source": [
    "## 11. Save and load best performing model"
   ]
  },
  {
   "cell_type": "code",
   "execution_count": 54,
   "id": "acaf88e6",
   "metadata": {
    "execution": {
     "iopub.execute_input": "2023-07-31T18:57:32.800152Z",
     "iopub.status.busy": "2023-07-31T18:57:32.799768Z",
     "iopub.status.idle": "2023-07-31T18:57:34.801543Z",
     "shell.execute_reply": "2023-07-31T18:57:34.800292Z"
    },
    "executionInfo": {
     "elapsed": 3,
     "status": "ok",
     "timestamp": 1690391271618,
     "user": {
      "displayName": "Gustavo Robl Zitta",
      "userId": "12496481005659581268"
     },
     "user_tz": 180
    },
    "id": "kXfKSORFK8_M",
    "outputId": "49ca88e6-da32-4319-feaa-6ff517e7fbdc",
    "papermill": {
     "duration": 2.046687,
     "end_time": "2023-07-31T18:57:34.803690",
     "exception": false,
     "start_time": "2023-07-31T18:57:32.757003",
     "status": "completed"
    },
    "tags": []
   },
   "outputs": [
    {
     "name": "stdout",
     "output_type": "stream",
     "text": [
      "Saving model to: models/03_pytorch_computer_vision_model_2.pth\n"
     ]
    }
   ],
   "source": [
    "from pathlib import Path\n",
    "\n",
    "# Create models directory (if it doesn't already exist), see: https://docs.python.org/3/library/pathlib.html#pathlib.Path.mkdir\n",
    "MODEL_PATH = Path(\"models\")\n",
    "MODEL_PATH.mkdir(parents=True, # create parent directories if needed\n",
    "                 exist_ok=True # if models directory already exists, don't error\n",
    ")\n",
    "\n",
    "# Create model save path\n",
    "MODEL_NAME = \"03_pytorch_computer_vision_model_2.pth\"\n",
    "MODEL_SAVE_PATH = MODEL_PATH / MODEL_NAME\n",
    "\n",
    "# Save the model state dict\n",
    "print(f\"Saving model to: {MODEL_SAVE_PATH}\")\n",
    "torch.save(obj=model_2.state_dict(), # only saving the state_dict() only saves the learned parameters\n",
    "           f=MODEL_SAVE_PATH)"
   ]
  },
  {
   "cell_type": "code",
   "execution_count": 55,
   "id": "88c51383",
   "metadata": {
    "execution": {
     "iopub.execute_input": "2023-07-31T18:57:34.876997Z",
     "iopub.status.busy": "2023-07-31T18:57:34.876119Z",
     "iopub.status.idle": "2023-07-31T18:57:34.886436Z",
     "shell.execute_reply": "2023-07-31T18:57:34.885564Z"
    },
    "id": "NsVkRAxxK9Sv",
    "papermill": {
     "duration": 0.049081,
     "end_time": "2023-07-31T18:57:34.888504",
     "exception": false,
     "start_time": "2023-07-31T18:57:34.839423",
     "status": "completed"
    },
    "tags": []
   },
   "outputs": [],
   "source": [
    "loaded_model_2 = FashionMNISTModelV2(input_shape=1, hidden_units=10, output_shape=10)\n",
    "loaded_model_2.load_state_dict(torch.load(f=MODEL_SAVE_PATH))\n",
    "\n",
    "loaded_model_2 = loaded_model_2.to(device)"
   ]
  },
  {
   "cell_type": "code",
   "execution_count": 56,
   "id": "baf95abd",
   "metadata": {
    "execution": {
     "iopub.execute_input": "2023-07-31T18:57:34.960160Z",
     "iopub.status.busy": "2023-07-31T18:57:34.959864Z",
     "iopub.status.idle": "2023-07-31T18:57:36.249054Z",
     "shell.execute_reply": "2023-07-31T18:57:36.248071Z"
    },
    "executionInfo": {
     "elapsed": 1636,
     "status": "ok",
     "timestamp": 1690391524919,
     "user": {
      "displayName": "Gustavo Robl Zitta",
      "userId": "12496481005659581268"
     },
     "user_tz": 180
    },
    "id": "VZVzFPMaLdkJ",
    "outputId": "96bad8e9-f160-4b38-f3f2-c37197202ed7",
    "papermill": {
     "duration": 1.328413,
     "end_time": "2023-07-31T18:57:36.252183",
     "exception": false,
     "start_time": "2023-07-31T18:57:34.923770",
     "status": "completed"
    },
    "tags": []
   },
   "outputs": [
    {
     "data": {
      "application/vnd.jupyter.widget-view+json": {
       "model_id": "8ee9df726e824692ba514736f1024b37",
       "version_major": 2,
       "version_minor": 0
      },
      "text/plain": [
       "  0%|          | 0/313 [00:00<?, ?it/s]"
      ]
     },
     "metadata": {},
     "output_type": "display_data"
    },
    {
     "data": {
      "text/plain": [
       "{'model_name': 'FashionMNISTModelV2',\n",
       " 'model_loss': 0.3222259283065796,\n",
       " 'model_acc': 88.50838658146965}"
      ]
     },
     "execution_count": 56,
     "metadata": {},
     "output_type": "execute_result"
    }
   ],
   "source": [
    "loaded_model_2_results = eval_model(model=loaded_model_2,data_loader = test_dataloader, loss_fn = loss_fn, accuracy_fn=accuracy_fn)\n",
    "\n",
    "loaded_model_2_results"
   ]
  },
  {
   "cell_type": "code",
   "execution_count": 57,
   "id": "0c21a680",
   "metadata": {
    "execution": {
     "iopub.execute_input": "2023-07-31T18:57:36.331032Z",
     "iopub.status.busy": "2023-07-31T18:57:36.330700Z",
     "iopub.status.idle": "2023-07-31T18:57:36.340167Z",
     "shell.execute_reply": "2023-07-31T18:57:36.339209Z"
    },
    "executionInfo": {
     "elapsed": 3,
     "status": "ok",
     "timestamp": 1690391596023,
     "user": {
      "displayName": "Gustavo Robl Zitta",
      "userId": "12496481005659581268"
     },
     "user_tz": 180
    },
    "id": "v2-WXSvEL37-",
    "outputId": "0aa65072-508c-4394-9c86-4427ff428845",
    "papermill": {
     "duration": 0.050217,
     "end_time": "2023-07-31T18:57:36.342149",
     "exception": false,
     "start_time": "2023-07-31T18:57:36.291932",
     "status": "completed"
    },
    "tags": []
   },
   "outputs": [
    {
     "data": {
      "text/plain": [
       "tensor(True)"
      ]
     },
     "execution_count": 57,
     "metadata": {},
     "output_type": "execute_result"
    }
   ],
   "source": [
    "# Check to see if results are close to each other (if they are very far away, there may be an error)\n",
    "torch.isclose(torch.tensor(model_2_results[\"model_loss\"]),\n",
    "              torch.tensor(loaded_model_2_results[\"model_loss\"]),\n",
    "              atol=1e-08, # absolute tolerance\n",
    "              rtol=0.0001) # relative tolerance"
   ]
  },
  {
   "cell_type": "code",
   "execution_count": null,
   "id": "55208bc1",
   "metadata": {
    "id": "FLhg4kOhMGK8",
    "papermill": {
     "duration": 0.035357,
     "end_time": "2023-07-31T18:57:36.413240",
     "exception": false,
     "start_time": "2023-07-31T18:57:36.377883",
     "status": "completed"
    },
    "tags": []
   },
   "outputs": [],
   "source": []
  }
 ],
 "metadata": {
  "kernelspec": {
   "display_name": "Python 3",
   "language": "python",
   "name": "python3"
  },
  "language_info": {
   "codemirror_mode": {
    "name": "ipython",
    "version": 3
   },
   "file_extension": ".py",
   "mimetype": "text/x-python",
   "name": "python",
   "nbconvert_exporter": "python",
   "pygments_lexer": "ipython3",
   "version": "3.10.12"
  },
  "papermill": {
   "default_parameters": {},
   "duration": 145.897831,
   "end_time": "2023-07-31T18:57:39.706555",
   "environment_variables": {},
   "exception": null,
   "input_path": "__notebook__.ipynb",
   "output_path": "__notebook__.ipynb",
   "parameters": {},
   "start_time": "2023-07-31T18:55:13.808724",
   "version": "2.4.0"
  },
  "widgets": {
   "application/vnd.jupyter.widget-state+json": {
    "state": {
     "003a44c36b704301a0f4592fe28d7ad4": {
      "model_module": "@jupyter-widgets/base",
      "model_module_version": "1.2.0",
      "model_name": "LayoutModel",
      "state": {
       "_model_module": "@jupyter-widgets/base",
       "_model_module_version": "1.2.0",
       "_model_name": "LayoutModel",
       "_view_count": null,
       "_view_module": "@jupyter-widgets/base",
       "_view_module_version": "1.2.0",
       "_view_name": "LayoutView",
       "align_content": null,
       "align_items": null,
       "align_self": null,
       "border": null,
       "bottom": null,
       "display": null,
       "flex": null,
       "flex_flow": null,
       "grid_area": null,
       "grid_auto_columns": null,
       "grid_auto_flow": null,
       "grid_auto_rows": null,
       "grid_column": null,
       "grid_gap": null,
       "grid_row": null,
       "grid_template_areas": null,
       "grid_template_columns": null,
       "grid_template_rows": null,
       "height": null,
       "justify_content": null,
       "justify_items": null,
       "left": null,
       "margin": null,
       "max_height": null,
       "max_width": null,
       "min_height": null,
       "min_width": null,
       "object_fit": null,
       "object_position": null,
       "order": null,
       "overflow": null,
       "overflow_x": null,
       "overflow_y": null,
       "padding": null,
       "right": null,
       "top": null,
       "visibility": null,
       "width": null
      }
     },
     "0490ede8cbb04a74bf42b58c91e32ad0": {
      "model_module": "@jupyter-widgets/base",
      "model_module_version": "1.2.0",
      "model_name": "LayoutModel",
      "state": {
       "_model_module": "@jupyter-widgets/base",
       "_model_module_version": "1.2.0",
       "_model_name": "LayoutModel",
       "_view_count": null,
       "_view_module": "@jupyter-widgets/base",
       "_view_module_version": "1.2.0",
       "_view_name": "LayoutView",
       "align_content": null,
       "align_items": null,
       "align_self": null,
       "border": null,
       "bottom": null,
       "display": null,
       "flex": null,
       "flex_flow": null,
       "grid_area": null,
       "grid_auto_columns": null,
       "grid_auto_flow": null,
       "grid_auto_rows": null,
       "grid_column": null,
       "grid_gap": null,
       "grid_row": null,
       "grid_template_areas": null,
       "grid_template_columns": null,
       "grid_template_rows": null,
       "height": null,
       "justify_content": null,
       "justify_items": null,
       "left": null,
       "margin": null,
       "max_height": null,
       "max_width": null,
       "min_height": null,
       "min_width": null,
       "object_fit": null,
       "object_position": null,
       "order": null,
       "overflow": null,
       "overflow_x": null,
       "overflow_y": null,
       "padding": null,
       "right": null,
       "top": null,
       "visibility": null,
       "width": null
      }
     },
     "057ef5a991af45219ca0ccb2af7ba33d": {
      "model_module": "@jupyter-widgets/controls",
      "model_module_version": "1.5.0",
      "model_name": "DescriptionStyleModel",
      "state": {
       "_model_module": "@jupyter-widgets/controls",
       "_model_module_version": "1.5.0",
       "_model_name": "DescriptionStyleModel",
       "_view_count": null,
       "_view_module": "@jupyter-widgets/base",
       "_view_module_version": "1.2.0",
       "_view_name": "StyleView",
       "description_width": ""
      }
     },
     "0791302df57f4f7d8ce9a3d77ec157d9": {
      "model_module": "@jupyter-widgets/base",
      "model_module_version": "1.2.0",
      "model_name": "LayoutModel",
      "state": {
       "_model_module": "@jupyter-widgets/base",
       "_model_module_version": "1.2.0",
       "_model_name": "LayoutModel",
       "_view_count": null,
       "_view_module": "@jupyter-widgets/base",
       "_view_module_version": "1.2.0",
       "_view_name": "LayoutView",
       "align_content": null,
       "align_items": null,
       "align_self": null,
       "border": null,
       "bottom": null,
       "display": null,
       "flex": null,
       "flex_flow": null,
       "grid_area": null,
       "grid_auto_columns": null,
       "grid_auto_flow": null,
       "grid_auto_rows": null,
       "grid_column": null,
       "grid_gap": null,
       "grid_row": null,
       "grid_template_areas": null,
       "grid_template_columns": null,
       "grid_template_rows": null,
       "height": null,
       "justify_content": null,
       "justify_items": null,
       "left": null,
       "margin": null,
       "max_height": null,
       "max_width": null,
       "min_height": null,
       "min_width": null,
       "object_fit": null,
       "object_position": null,
       "order": null,
       "overflow": null,
       "overflow_x": null,
       "overflow_y": null,
       "padding": null,
       "right": null,
       "top": null,
       "visibility": null,
       "width": null
      }
     },
     "0846ccd8950047c8a292ff60d13c469b": {
      "model_module": "@jupyter-widgets/controls",
      "model_module_version": "1.5.0",
      "model_name": "HTMLModel",
      "state": {
       "_dom_classes": [],
       "_model_module": "@jupyter-widgets/controls",
       "_model_module_version": "1.5.0",
       "_model_name": "HTMLModel",
       "_view_count": null,
       "_view_module": "@jupyter-widgets/controls",
       "_view_module_version": "1.5.0",
       "_view_name": "HTMLView",
       "description": "",
       "description_tooltip": null,
       "layout": "IPY_MODEL_869c5ed2c91c4b8ea56815d5b0b1c676",
       "placeholder": "​",
       "style": "IPY_MODEL_19d3aa162575476f8b34d4610a2465ae",
       "value": "100%"
      }
     },
     "0bf2443954d04fd6b486bc84f2fc7ab4": {
      "model_module": "@jupyter-widgets/controls",
      "model_module_version": "1.5.0",
      "model_name": "HBoxModel",
      "state": {
       "_dom_classes": [],
       "_model_module": "@jupyter-widgets/controls",
       "_model_module_version": "1.5.0",
       "_model_name": "HBoxModel",
       "_view_count": null,
       "_view_module": "@jupyter-widgets/controls",
       "_view_module_version": "1.5.0",
       "_view_name": "HBoxView",
       "box_style": "",
       "children": [
        "IPY_MODEL_0846ccd8950047c8a292ff60d13c469b",
        "IPY_MODEL_9588316cc5254a7bb6b3c2f17eb2a706",
        "IPY_MODEL_f9ad8919a86c4bb8b469bf0fc24d6766"
       ],
       "layout": "IPY_MODEL_ab53150f09c14d61a3caf5f7e4b2fa02"
      }
     },
     "0ca80700c2c440d0ae825f097f29961f": {
      "model_module": "@jupyter-widgets/controls",
      "model_module_version": "1.5.0",
      "model_name": "FloatProgressModel",
      "state": {
       "_dom_classes": [],
       "_model_module": "@jupyter-widgets/controls",
       "_model_module_version": "1.5.0",
       "_model_name": "FloatProgressModel",
       "_view_count": null,
       "_view_module": "@jupyter-widgets/controls",
       "_view_module_version": "1.5.0",
       "_view_name": "ProgressView",
       "bar_style": "success",
       "description": "",
       "description_tooltip": null,
       "layout": "IPY_MODEL_319840d159dd45c7a3a563d30e822c9e",
       "max": 313.0,
       "min": 0.0,
       "orientation": "horizontal",
       "style": "IPY_MODEL_104e1f828e764cd3a697132f85210c26",
       "value": 313.0
      }
     },
     "104e1f828e764cd3a697132f85210c26": {
      "model_module": "@jupyter-widgets/controls",
      "model_module_version": "1.5.0",
      "model_name": "ProgressStyleModel",
      "state": {
       "_model_module": "@jupyter-widgets/controls",
       "_model_module_version": "1.5.0",
       "_model_name": "ProgressStyleModel",
       "_view_count": null,
       "_view_module": "@jupyter-widgets/base",
       "_view_module_version": "1.2.0",
       "_view_name": "StyleView",
       "bar_color": null,
       "description_width": ""
      }
     },
     "107b92965f4443ad91fdacd5db3effa0": {
      "model_module": "@jupyter-widgets/base",
      "model_module_version": "1.2.0",
      "model_name": "LayoutModel",
      "state": {
       "_model_module": "@jupyter-widgets/base",
       "_model_module_version": "1.2.0",
       "_model_name": "LayoutModel",
       "_view_count": null,
       "_view_module": "@jupyter-widgets/base",
       "_view_module_version": "1.2.0",
       "_view_name": "LayoutView",
       "align_content": null,
       "align_items": null,
       "align_self": null,
       "border": null,
       "bottom": null,
       "display": null,
       "flex": null,
       "flex_flow": null,
       "grid_area": null,
       "grid_auto_columns": null,
       "grid_auto_flow": null,
       "grid_auto_rows": null,
       "grid_column": null,
       "grid_gap": null,
       "grid_row": null,
       "grid_template_areas": null,
       "grid_template_columns": null,
       "grid_template_rows": null,
       "height": null,
       "justify_content": null,
       "justify_items": null,
       "left": null,
       "margin": null,
       "max_height": null,
       "max_width": null,
       "min_height": null,
       "min_width": null,
       "object_fit": null,
       "object_position": null,
       "order": null,
       "overflow": null,
       "overflow_x": null,
       "overflow_y": null,
       "padding": null,
       "right": null,
       "top": null,
       "visibility": null,
       "width": null
      }
     },
     "135f99530d584992b1578578328ecdbc": {
      "model_module": "@jupyter-widgets/controls",
      "model_module_version": "1.5.0",
      "model_name": "ProgressStyleModel",
      "state": {
       "_model_module": "@jupyter-widgets/controls",
       "_model_module_version": "1.5.0",
       "_model_name": "ProgressStyleModel",
       "_view_count": null,
       "_view_module": "@jupyter-widgets/base",
       "_view_module_version": "1.2.0",
       "_view_name": "StyleView",
       "bar_color": null,
       "description_width": ""
      }
     },
     "158b25d6b1274fbdb8ce36357ebfa6b4": {
      "model_module": "@jupyter-widgets/base",
      "model_module_version": "1.2.0",
      "model_name": "LayoutModel",
      "state": {
       "_model_module": "@jupyter-widgets/base",
       "_model_module_version": "1.2.0",
       "_model_name": "LayoutModel",
       "_view_count": null,
       "_view_module": "@jupyter-widgets/base",
       "_view_module_version": "1.2.0",
       "_view_name": "LayoutView",
       "align_content": null,
       "align_items": null,
       "align_self": null,
       "border": null,
       "bottom": null,
       "display": null,
       "flex": null,
       "flex_flow": null,
       "grid_area": null,
       "grid_auto_columns": null,
       "grid_auto_flow": null,
       "grid_auto_rows": null,
       "grid_column": null,
       "grid_gap": null,
       "grid_row": null,
       "grid_template_areas": null,
       "grid_template_columns": null,
       "grid_template_rows": null,
       "height": null,
       "justify_content": null,
       "justify_items": null,
       "left": null,
       "margin": null,
       "max_height": null,
       "max_width": null,
       "min_height": null,
       "min_width": null,
       "object_fit": null,
       "object_position": null,
       "order": null,
       "overflow": null,
       "overflow_x": null,
       "overflow_y": null,
       "padding": null,
       "right": null,
       "top": null,
       "visibility": null,
       "width": null
      }
     },
     "17f15a3f26a2464485b2e45247735ed3": {
      "model_module": "@jupyter-widgets/controls",
      "model_module_version": "1.5.0",
      "model_name": "DescriptionStyleModel",
      "state": {
       "_model_module": "@jupyter-widgets/controls",
       "_model_module_version": "1.5.0",
       "_model_name": "DescriptionStyleModel",
       "_view_count": null,
       "_view_module": "@jupyter-widgets/base",
       "_view_module_version": "1.2.0",
       "_view_name": "StyleView",
       "description_width": ""
      }
     },
     "186f0d009a2541bfbf88bb689c35e448": {
      "model_module": "@jupyter-widgets/controls",
      "model_module_version": "1.5.0",
      "model_name": "ProgressStyleModel",
      "state": {
       "_model_module": "@jupyter-widgets/controls",
       "_model_module_version": "1.5.0",
       "_model_name": "ProgressStyleModel",
       "_view_count": null,
       "_view_module": "@jupyter-widgets/base",
       "_view_module_version": "1.2.0",
       "_view_name": "StyleView",
       "bar_color": null,
       "description_width": ""
      }
     },
     "187e0fd802c8485080151418acea8c4c": {
      "model_module": "@jupyter-widgets/controls",
      "model_module_version": "1.5.0",
      "model_name": "ProgressStyleModel",
      "state": {
       "_model_module": "@jupyter-widgets/controls",
       "_model_module_version": "1.5.0",
       "_model_name": "ProgressStyleModel",
       "_view_count": null,
       "_view_module": "@jupyter-widgets/base",
       "_view_module_version": "1.2.0",
       "_view_name": "StyleView",
       "bar_color": null,
       "description_width": ""
      }
     },
     "19d3aa162575476f8b34d4610a2465ae": {
      "model_module": "@jupyter-widgets/controls",
      "model_module_version": "1.5.0",
      "model_name": "DescriptionStyleModel",
      "state": {
       "_model_module": "@jupyter-widgets/controls",
       "_model_module_version": "1.5.0",
       "_model_name": "DescriptionStyleModel",
       "_view_count": null,
       "_view_module": "@jupyter-widgets/base",
       "_view_module_version": "1.2.0",
       "_view_name": "StyleView",
       "description_width": ""
      }
     },
     "1edec15c7e744b17b4e87e81ca331951": {
      "model_module": "@jupyter-widgets/controls",
      "model_module_version": "1.5.0",
      "model_name": "HTMLModel",
      "state": {
       "_dom_classes": [],
       "_model_module": "@jupyter-widgets/controls",
       "_model_module_version": "1.5.0",
       "_model_name": "HTMLModel",
       "_view_count": null,
       "_view_module": "@jupyter-widgets/controls",
       "_view_module_version": "1.5.0",
       "_view_name": "HTMLView",
       "description": "",
       "description_tooltip": null,
       "layout": "IPY_MODEL_e367af7fad7e4f879fe7623ad5e336d9",
       "placeholder": "​",
       "style": "IPY_MODEL_4af175247944419db76b9eabaedc7ebf",
       "value": " 313/313 [00:02&lt;00:00, 251.66it/s]"
      }
     },
     "2403449f48374afcb69234c929c243c2": {
      "model_module": "@jupyter-widgets/controls",
      "model_module_version": "1.5.0",
      "model_name": "HTMLModel",
      "state": {
       "_dom_classes": [],
       "_model_module": "@jupyter-widgets/controls",
       "_model_module_version": "1.5.0",
       "_model_name": "HTMLModel",
       "_view_count": null,
       "_view_module": "@jupyter-widgets/controls",
       "_view_module_version": "1.5.0",
       "_view_name": "HTMLView",
       "description": "",
       "description_tooltip": null,
       "layout": "IPY_MODEL_2b7f41c94b2f4f0e884f1e3cc0e8e8f6",
       "placeholder": "​",
       "style": "IPY_MODEL_95ffc74b7ac9482099b638804c37d234",
       "value": "100%"
      }
     },
     "24805305a5984acb94681659533f25d9": {
      "model_module": "@jupyter-widgets/controls",
      "model_module_version": "1.5.0",
      "model_name": "DescriptionStyleModel",
      "state": {
       "_model_module": "@jupyter-widgets/controls",
       "_model_module_version": "1.5.0",
       "_model_name": "DescriptionStyleModel",
       "_view_count": null,
       "_view_module": "@jupyter-widgets/base",
       "_view_module_version": "1.2.0",
       "_view_name": "StyleView",
       "description_width": ""
      }
     },
     "279b970178d14b56a38ea910e3df5bf5": {
      "model_module": "@jupyter-widgets/controls",
      "model_module_version": "1.5.0",
      "model_name": "HBoxModel",
      "state": {
       "_dom_classes": [],
       "_model_module": "@jupyter-widgets/controls",
       "_model_module_version": "1.5.0",
       "_model_name": "HBoxModel",
       "_view_count": null,
       "_view_module": "@jupyter-widgets/controls",
       "_view_module_version": "1.5.0",
       "_view_name": "HBoxView",
       "box_style": "",
       "children": [
        "IPY_MODEL_3ea9ab45c751454ca2894e8a346ffe97",
        "IPY_MODEL_8e508b99790f42958e3aba068b560533",
        "IPY_MODEL_1edec15c7e744b17b4e87e81ca331951"
       ],
       "layout": "IPY_MODEL_0791302df57f4f7d8ce9a3d77ec157d9"
      }
     },
     "2814f0a1b4f34fce8f88afc3a90132f9": {
      "model_module": "@jupyter-widgets/base",
      "model_module_version": "1.2.0",
      "model_name": "LayoutModel",
      "state": {
       "_model_module": "@jupyter-widgets/base",
       "_model_module_version": "1.2.0",
       "_model_name": "LayoutModel",
       "_view_count": null,
       "_view_module": "@jupyter-widgets/base",
       "_view_module_version": "1.2.0",
       "_view_name": "LayoutView",
       "align_content": null,
       "align_items": null,
       "align_self": null,
       "border": null,
       "bottom": null,
       "display": null,
       "flex": null,
       "flex_flow": null,
       "grid_area": null,
       "grid_auto_columns": null,
       "grid_auto_flow": null,
       "grid_auto_rows": null,
       "grid_column": null,
       "grid_gap": null,
       "grid_row": null,
       "grid_template_areas": null,
       "grid_template_columns": null,
       "grid_template_rows": null,
       "height": null,
       "justify_content": null,
       "justify_items": null,
       "left": null,
       "margin": null,
       "max_height": null,
       "max_width": null,
       "min_height": null,
       "min_width": null,
       "object_fit": null,
       "object_position": null,
       "order": null,
       "overflow": null,
       "overflow_x": null,
       "overflow_y": null,
       "padding": null,
       "right": null,
       "top": null,
       "visibility": null,
       "width": null
      }
     },
     "2aeab4ffddff4eac8db42b7ff87d324e": {
      "model_module": "@jupyter-widgets/controls",
      "model_module_version": "1.5.0",
      "model_name": "HTMLModel",
      "state": {
       "_dom_classes": [],
       "_model_module": "@jupyter-widgets/controls",
       "_model_module_version": "1.5.0",
       "_model_name": "HTMLModel",
       "_view_count": null,
       "_view_module": "@jupyter-widgets/controls",
       "_view_module_version": "1.5.0",
       "_view_name": "HTMLView",
       "description": "",
       "description_tooltip": null,
       "layout": "IPY_MODEL_107b92965f4443ad91fdacd5db3effa0",
       "placeholder": "​",
       "style": "IPY_MODEL_49bb96a35e3944c4a8a88c17dae3a864",
       "value": "Making predictions: 100%"
      }
     },
     "2b7f41c94b2f4f0e884f1e3cc0e8e8f6": {
      "model_module": "@jupyter-widgets/base",
      "model_module_version": "1.2.0",
      "model_name": "LayoutModel",
      "state": {
       "_model_module": "@jupyter-widgets/base",
       "_model_module_version": "1.2.0",
       "_model_name": "LayoutModel",
       "_view_count": null,
       "_view_module": "@jupyter-widgets/base",
       "_view_module_version": "1.2.0",
       "_view_name": "LayoutView",
       "align_content": null,
       "align_items": null,
       "align_self": null,
       "border": null,
       "bottom": null,
       "display": null,
       "flex": null,
       "flex_flow": null,
       "grid_area": null,
       "grid_auto_columns": null,
       "grid_auto_flow": null,
       "grid_auto_rows": null,
       "grid_column": null,
       "grid_gap": null,
       "grid_row": null,
       "grid_template_areas": null,
       "grid_template_columns": null,
       "grid_template_rows": null,
       "height": null,
       "justify_content": null,
       "justify_items": null,
       "left": null,
       "margin": null,
       "max_height": null,
       "max_width": null,
       "min_height": null,
       "min_width": null,
       "object_fit": null,
       "object_position": null,
       "order": null,
       "overflow": null,
       "overflow_x": null,
       "overflow_y": null,
       "padding": null,
       "right": null,
       "top": null,
       "visibility": null,
       "width": null
      }
     },
     "2e37c2d322ae495e928fadeb7575fdd2": {
      "model_module": "@jupyter-widgets/base",
      "model_module_version": "1.2.0",
      "model_name": "LayoutModel",
      "state": {
       "_model_module": "@jupyter-widgets/base",
       "_model_module_version": "1.2.0",
       "_model_name": "LayoutModel",
       "_view_count": null,
       "_view_module": "@jupyter-widgets/base",
       "_view_module_version": "1.2.0",
       "_view_name": "LayoutView",
       "align_content": null,
       "align_items": null,
       "align_self": null,
       "border": null,
       "bottom": null,
       "display": null,
       "flex": null,
       "flex_flow": null,
       "grid_area": null,
       "grid_auto_columns": null,
       "grid_auto_flow": null,
       "grid_auto_rows": null,
       "grid_column": null,
       "grid_gap": null,
       "grid_row": null,
       "grid_template_areas": null,
       "grid_template_columns": null,
       "grid_template_rows": null,
       "height": null,
       "justify_content": null,
       "justify_items": null,
       "left": null,
       "margin": null,
       "max_height": null,
       "max_width": null,
       "min_height": null,
       "min_width": null,
       "object_fit": null,
       "object_position": null,
       "order": null,
       "overflow": null,
       "overflow_x": null,
       "overflow_y": null,
       "padding": null,
       "right": null,
       "top": null,
       "visibility": null,
       "width": null
      }
     },
     "2f4939dfd829402dac1ef99875fbb1ae": {
      "model_module": "@jupyter-widgets/controls",
      "model_module_version": "1.5.0",
      "model_name": "DescriptionStyleModel",
      "state": {
       "_model_module": "@jupyter-widgets/controls",
       "_model_module_version": "1.5.0",
       "_model_name": "DescriptionStyleModel",
       "_view_count": null,
       "_view_module": "@jupyter-widgets/base",
       "_view_module_version": "1.2.0",
       "_view_name": "StyleView",
       "description_width": ""
      }
     },
     "319840d159dd45c7a3a563d30e822c9e": {
      "model_module": "@jupyter-widgets/base",
      "model_module_version": "1.2.0",
      "model_name": "LayoutModel",
      "state": {
       "_model_module": "@jupyter-widgets/base",
       "_model_module_version": "1.2.0",
       "_model_name": "LayoutModel",
       "_view_count": null,
       "_view_module": "@jupyter-widgets/base",
       "_view_module_version": "1.2.0",
       "_view_name": "LayoutView",
       "align_content": null,
       "align_items": null,
       "align_self": null,
       "border": null,
       "bottom": null,
       "display": null,
       "flex": null,
       "flex_flow": null,
       "grid_area": null,
       "grid_auto_columns": null,
       "grid_auto_flow": null,
       "grid_auto_rows": null,
       "grid_column": null,
       "grid_gap": null,
       "grid_row": null,
       "grid_template_areas": null,
       "grid_template_columns": null,
       "grid_template_rows": null,
       "height": null,
       "justify_content": null,
       "justify_items": null,
       "left": null,
       "margin": null,
       "max_height": null,
       "max_width": null,
       "min_height": null,
       "min_width": null,
       "object_fit": null,
       "object_position": null,
       "order": null,
       "overflow": null,
       "overflow_x": null,
       "overflow_y": null,
       "padding": null,
       "right": null,
       "top": null,
       "visibility": null,
       "width": null
      }
     },
     "31cac78d14514c84aef3a47726ad4197": {
      "model_module": "@jupyter-widgets/controls",
      "model_module_version": "1.5.0",
      "model_name": "FloatProgressModel",
      "state": {
       "_dom_classes": [],
       "_model_module": "@jupyter-widgets/controls",
       "_model_module_version": "1.5.0",
       "_model_name": "FloatProgressModel",
       "_view_count": null,
       "_view_module": "@jupyter-widgets/controls",
       "_view_module_version": "1.5.0",
       "_view_name": "ProgressView",
       "bar_style": "success",
       "description": "",
       "description_tooltip": null,
       "layout": "IPY_MODEL_6dfb51cee28a4f03bd9e9e466ce3cf43",
       "max": 3.0,
       "min": 0.0,
       "orientation": "horizontal",
       "style": "IPY_MODEL_d4dc130d29e648d09f29a562df7c212f",
       "value": 3.0
      }
     },
     "35dbaf45b7294e1694c77d459f6c9652": {
      "model_module": "@jupyter-widgets/controls",
      "model_module_version": "1.5.0",
      "model_name": "DescriptionStyleModel",
      "state": {
       "_model_module": "@jupyter-widgets/controls",
       "_model_module_version": "1.5.0",
       "_model_name": "DescriptionStyleModel",
       "_view_count": null,
       "_view_module": "@jupyter-widgets/base",
       "_view_module_version": "1.2.0",
       "_view_name": "StyleView",
       "description_width": ""
      }
     },
     "39a378952bf041568c486ebe104a6b99": {
      "model_module": "@jupyter-widgets/base",
      "model_module_version": "1.2.0",
      "model_name": "LayoutModel",
      "state": {
       "_model_module": "@jupyter-widgets/base",
       "_model_module_version": "1.2.0",
       "_model_name": "LayoutModel",
       "_view_count": null,
       "_view_module": "@jupyter-widgets/base",
       "_view_module_version": "1.2.0",
       "_view_name": "LayoutView",
       "align_content": null,
       "align_items": null,
       "align_self": null,
       "border": null,
       "bottom": null,
       "display": null,
       "flex": null,
       "flex_flow": null,
       "grid_area": null,
       "grid_auto_columns": null,
       "grid_auto_flow": null,
       "grid_auto_rows": null,
       "grid_column": null,
       "grid_gap": null,
       "grid_row": null,
       "grid_template_areas": null,
       "grid_template_columns": null,
       "grid_template_rows": null,
       "height": null,
       "justify_content": null,
       "justify_items": null,
       "left": null,
       "margin": null,
       "max_height": null,
       "max_width": null,
       "min_height": null,
       "min_width": null,
       "object_fit": null,
       "object_position": null,
       "order": null,
       "overflow": null,
       "overflow_x": null,
       "overflow_y": null,
       "padding": null,
       "right": null,
       "top": null,
       "visibility": null,
       "width": null
      }
     },
     "3ea9ab45c751454ca2894e8a346ffe97": {
      "model_module": "@jupyter-widgets/controls",
      "model_module_version": "1.5.0",
      "model_name": "HTMLModel",
      "state": {
       "_dom_classes": [],
       "_model_module": "@jupyter-widgets/controls",
       "_model_module_version": "1.5.0",
       "_model_name": "HTMLModel",
       "_view_count": null,
       "_view_module": "@jupyter-widgets/controls",
       "_view_module_version": "1.5.0",
       "_view_name": "HTMLView",
       "description": "",
       "description_tooltip": null,
       "layout": "IPY_MODEL_003a44c36b704301a0f4592fe28d7ad4",
       "placeholder": "​",
       "style": "IPY_MODEL_35dbaf45b7294e1694c77d459f6c9652",
       "value": "100%"
      }
     },
     "402be31893034d8e8aed08cbf1b5ea05": {
      "model_module": "@jupyter-widgets/controls",
      "model_module_version": "1.5.0",
      "model_name": "DescriptionStyleModel",
      "state": {
       "_model_module": "@jupyter-widgets/controls",
       "_model_module_version": "1.5.0",
       "_model_name": "DescriptionStyleModel",
       "_view_count": null,
       "_view_module": "@jupyter-widgets/base",
       "_view_module_version": "1.2.0",
       "_view_name": "StyleView",
       "description_width": ""
      }
     },
     "4087cbedff4c477ca148246f666b62f2": {
      "model_module": "@jupyter-widgets/base",
      "model_module_version": "1.2.0",
      "model_name": "LayoutModel",
      "state": {
       "_model_module": "@jupyter-widgets/base",
       "_model_module_version": "1.2.0",
       "_model_name": "LayoutModel",
       "_view_count": null,
       "_view_module": "@jupyter-widgets/base",
       "_view_module_version": "1.2.0",
       "_view_name": "LayoutView",
       "align_content": null,
       "align_items": null,
       "align_self": null,
       "border": null,
       "bottom": null,
       "display": null,
       "flex": null,
       "flex_flow": null,
       "grid_area": null,
       "grid_auto_columns": null,
       "grid_auto_flow": null,
       "grid_auto_rows": null,
       "grid_column": null,
       "grid_gap": null,
       "grid_row": null,
       "grid_template_areas": null,
       "grid_template_columns": null,
       "grid_template_rows": null,
       "height": null,
       "justify_content": null,
       "justify_items": null,
       "left": null,
       "margin": null,
       "max_height": null,
       "max_width": null,
       "min_height": null,
       "min_width": null,
       "object_fit": null,
       "object_position": null,
       "order": null,
       "overflow": null,
       "overflow_x": null,
       "overflow_y": null,
       "padding": null,
       "right": null,
       "top": null,
       "visibility": null,
       "width": null
      }
     },
     "44e05809d79a49828ca95f04b04be4ab": {
      "model_module": "@jupyter-widgets/controls",
      "model_module_version": "1.5.0",
      "model_name": "FloatProgressModel",
      "state": {
       "_dom_classes": [],
       "_model_module": "@jupyter-widgets/controls",
       "_model_module_version": "1.5.0",
       "_model_name": "FloatProgressModel",
       "_view_count": null,
       "_view_module": "@jupyter-widgets/controls",
       "_view_module_version": "1.5.0",
       "_view_name": "ProgressView",
       "bar_style": "success",
       "description": "",
       "description_tooltip": null,
       "layout": "IPY_MODEL_c0a6a869b5d6420d91a6d8c7daeab8ad",
       "max": 3.0,
       "min": 0.0,
       "orientation": "horizontal",
       "style": "IPY_MODEL_7dbcd3efb6df4c33ab00aa1d212ac97b",
       "value": 3.0
      }
     },
     "46e794883fd1458e94fb84bfe281c478": {
      "model_module": "@jupyter-widgets/controls",
      "model_module_version": "1.5.0",
      "model_name": "FloatProgressModel",
      "state": {
       "_dom_classes": [],
       "_model_module": "@jupyter-widgets/controls",
       "_model_module_version": "1.5.0",
       "_model_name": "FloatProgressModel",
       "_view_count": null,
       "_view_module": "@jupyter-widgets/controls",
       "_view_module_version": "1.5.0",
       "_view_name": "ProgressView",
       "bar_style": "success",
       "description": "",
       "description_tooltip": null,
       "layout": "IPY_MODEL_39a378952bf041568c486ebe104a6b99",
       "max": 313.0,
       "min": 0.0,
       "orientation": "horizontal",
       "style": "IPY_MODEL_bb6fb410e7da435f93f3910f601bc9dc",
       "value": 313.0
      }
     },
     "49bb96a35e3944c4a8a88c17dae3a864": {
      "model_module": "@jupyter-widgets/controls",
      "model_module_version": "1.5.0",
      "model_name": "DescriptionStyleModel",
      "state": {
       "_model_module": "@jupyter-widgets/controls",
       "_model_module_version": "1.5.0",
       "_model_name": "DescriptionStyleModel",
       "_view_count": null,
       "_view_module": "@jupyter-widgets/base",
       "_view_module_version": "1.2.0",
       "_view_name": "StyleView",
       "description_width": ""
      }
     },
     "4af175247944419db76b9eabaedc7ebf": {
      "model_module": "@jupyter-widgets/controls",
      "model_module_version": "1.5.0",
      "model_name": "DescriptionStyleModel",
      "state": {
       "_model_module": "@jupyter-widgets/controls",
       "_model_module_version": "1.5.0",
       "_model_name": "DescriptionStyleModel",
       "_view_count": null,
       "_view_module": "@jupyter-widgets/base",
       "_view_module_version": "1.2.0",
       "_view_name": "StyleView",
       "description_width": ""
      }
     },
     "52ac6e40cca147bfa62408ec2dbb71e3": {
      "model_module": "@jupyter-widgets/controls",
      "model_module_version": "1.5.0",
      "model_name": "ProgressStyleModel",
      "state": {
       "_model_module": "@jupyter-widgets/controls",
       "_model_module_version": "1.5.0",
       "_model_name": "ProgressStyleModel",
       "_view_count": null,
       "_view_module": "@jupyter-widgets/base",
       "_view_module_version": "1.2.0",
       "_view_name": "StyleView",
       "bar_color": null,
       "description_width": ""
      }
     },
     "5a4e1aa6885849718c3aa5c48af471bf": {
      "model_module": "@jupyter-widgets/controls",
      "model_module_version": "1.5.0",
      "model_name": "HBoxModel",
      "state": {
       "_dom_classes": [],
       "_model_module": "@jupyter-widgets/controls",
       "_model_module_version": "1.5.0",
       "_model_name": "HBoxModel",
       "_view_count": null,
       "_view_module": "@jupyter-widgets/controls",
       "_view_module_version": "1.5.0",
       "_view_name": "HBoxView",
       "box_style": "",
       "children": [
        "IPY_MODEL_cfa15f8e2fc74b658f52196de333a9bb",
        "IPY_MODEL_44e05809d79a49828ca95f04b04be4ab",
        "IPY_MODEL_8da7624c01584ef68dc3f7bec94a7aee"
       ],
       "layout": "IPY_MODEL_5e637b9e3b0a41ee9b5177751b086be8"
      }
     },
     "5cf96497ef34400399f9e5261ce81990": {
      "model_module": "@jupyter-widgets/controls",
      "model_module_version": "1.5.0",
      "model_name": "HBoxModel",
      "state": {
       "_dom_classes": [],
       "_model_module": "@jupyter-widgets/controls",
       "_model_module_version": "1.5.0",
       "_model_name": "HBoxModel",
       "_view_count": null,
       "_view_module": "@jupyter-widgets/controls",
       "_view_module_version": "1.5.0",
       "_view_name": "HBoxView",
       "box_style": "",
       "children": [
        "IPY_MODEL_7d3bc267f7064c8d95ed5ad9a4c6bcca",
        "IPY_MODEL_83bd542edf874206a3cb0a1d4e2e8c31",
        "IPY_MODEL_bea289f684ff43d1832a76070ab078a5"
       ],
       "layout": "IPY_MODEL_5e69866c04594cd7af5eedb3f71ae33c"
      }
     },
     "5e637b9e3b0a41ee9b5177751b086be8": {
      "model_module": "@jupyter-widgets/base",
      "model_module_version": "1.2.0",
      "model_name": "LayoutModel",
      "state": {
       "_model_module": "@jupyter-widgets/base",
       "_model_module_version": "1.2.0",
       "_model_name": "LayoutModel",
       "_view_count": null,
       "_view_module": "@jupyter-widgets/base",
       "_view_module_version": "1.2.0",
       "_view_name": "LayoutView",
       "align_content": null,
       "align_items": null,
       "align_self": null,
       "border": null,
       "bottom": null,
       "display": null,
       "flex": null,
       "flex_flow": null,
       "grid_area": null,
       "grid_auto_columns": null,
       "grid_auto_flow": null,
       "grid_auto_rows": null,
       "grid_column": null,
       "grid_gap": null,
       "grid_row": null,
       "grid_template_areas": null,
       "grid_template_columns": null,
       "grid_template_rows": null,
       "height": null,
       "justify_content": null,
       "justify_items": null,
       "left": null,
       "margin": null,
       "max_height": null,
       "max_width": null,
       "min_height": null,
       "min_width": null,
       "object_fit": null,
       "object_position": null,
       "order": null,
       "overflow": null,
       "overflow_x": null,
       "overflow_y": null,
       "padding": null,
       "right": null,
       "top": null,
       "visibility": null,
       "width": null
      }
     },
     "5e69866c04594cd7af5eedb3f71ae33c": {
      "model_module": "@jupyter-widgets/base",
      "model_module_version": "1.2.0",
      "model_name": "LayoutModel",
      "state": {
       "_model_module": "@jupyter-widgets/base",
       "_model_module_version": "1.2.0",
       "_model_name": "LayoutModel",
       "_view_count": null,
       "_view_module": "@jupyter-widgets/base",
       "_view_module_version": "1.2.0",
       "_view_name": "LayoutView",
       "align_content": null,
       "align_items": null,
       "align_self": null,
       "border": null,
       "bottom": null,
       "display": null,
       "flex": null,
       "flex_flow": null,
       "grid_area": null,
       "grid_auto_columns": null,
       "grid_auto_flow": null,
       "grid_auto_rows": null,
       "grid_column": null,
       "grid_gap": null,
       "grid_row": null,
       "grid_template_areas": null,
       "grid_template_columns": null,
       "grid_template_rows": null,
       "height": null,
       "justify_content": null,
       "justify_items": null,
       "left": null,
       "margin": null,
       "max_height": null,
       "max_width": null,
       "min_height": null,
       "min_width": null,
       "object_fit": null,
       "object_position": null,
       "order": null,
       "overflow": null,
       "overflow_x": null,
       "overflow_y": null,
       "padding": null,
       "right": null,
       "top": null,
       "visibility": null,
       "width": null
      }
     },
     "641c1555aabb42058449b5e794f10f19": {
      "model_module": "@jupyter-widgets/base",
      "model_module_version": "1.2.0",
      "model_name": "LayoutModel",
      "state": {
       "_model_module": "@jupyter-widgets/base",
       "_model_module_version": "1.2.0",
       "_model_name": "LayoutModel",
       "_view_count": null,
       "_view_module": "@jupyter-widgets/base",
       "_view_module_version": "1.2.0",
       "_view_name": "LayoutView",
       "align_content": null,
       "align_items": null,
       "align_self": null,
       "border": null,
       "bottom": null,
       "display": null,
       "flex": null,
       "flex_flow": null,
       "grid_area": null,
       "grid_auto_columns": null,
       "grid_auto_flow": null,
       "grid_auto_rows": null,
       "grid_column": null,
       "grid_gap": null,
       "grid_row": null,
       "grid_template_areas": null,
       "grid_template_columns": null,
       "grid_template_rows": null,
       "height": null,
       "justify_content": null,
       "justify_items": null,
       "left": null,
       "margin": null,
       "max_height": null,
       "max_width": null,
       "min_height": null,
       "min_width": null,
       "object_fit": null,
       "object_position": null,
       "order": null,
       "overflow": null,
       "overflow_x": null,
       "overflow_y": null,
       "padding": null,
       "right": null,
       "top": null,
       "visibility": null,
       "width": null
      }
     },
     "665dfe02c1b34f1180f9b3830ce57e7e": {
      "model_module": "@jupyter-widgets/controls",
      "model_module_version": "1.5.0",
      "model_name": "DescriptionStyleModel",
      "state": {
       "_model_module": "@jupyter-widgets/controls",
       "_model_module_version": "1.5.0",
       "_model_name": "DescriptionStyleModel",
       "_view_count": null,
       "_view_module": "@jupyter-widgets/base",
       "_view_module_version": "1.2.0",
       "_view_name": "StyleView",
       "description_width": ""
      }
     },
     "6dfb51cee28a4f03bd9e9e466ce3cf43": {
      "model_module": "@jupyter-widgets/base",
      "model_module_version": "1.2.0",
      "model_name": "LayoutModel",
      "state": {
       "_model_module": "@jupyter-widgets/base",
       "_model_module_version": "1.2.0",
       "_model_name": "LayoutModel",
       "_view_count": null,
       "_view_module": "@jupyter-widgets/base",
       "_view_module_version": "1.2.0",
       "_view_name": "LayoutView",
       "align_content": null,
       "align_items": null,
       "align_self": null,
       "border": null,
       "bottom": null,
       "display": null,
       "flex": null,
       "flex_flow": null,
       "grid_area": null,
       "grid_auto_columns": null,
       "grid_auto_flow": null,
       "grid_auto_rows": null,
       "grid_column": null,
       "grid_gap": null,
       "grid_row": null,
       "grid_template_areas": null,
       "grid_template_columns": null,
       "grid_template_rows": null,
       "height": null,
       "justify_content": null,
       "justify_items": null,
       "left": null,
       "margin": null,
       "max_height": null,
       "max_width": null,
       "min_height": null,
       "min_width": null,
       "object_fit": null,
       "object_position": null,
       "order": null,
       "overflow": null,
       "overflow_x": null,
       "overflow_y": null,
       "padding": null,
       "right": null,
       "top": null,
       "visibility": null,
       "width": null
      }
     },
     "70ea09c535f24a848f9fb1999468632b": {
      "model_module": "@jupyter-widgets/base",
      "model_module_version": "1.2.0",
      "model_name": "LayoutModel",
      "state": {
       "_model_module": "@jupyter-widgets/base",
       "_model_module_version": "1.2.0",
       "_model_name": "LayoutModel",
       "_view_count": null,
       "_view_module": "@jupyter-widgets/base",
       "_view_module_version": "1.2.0",
       "_view_name": "LayoutView",
       "align_content": null,
       "align_items": null,
       "align_self": null,
       "border": null,
       "bottom": null,
       "display": null,
       "flex": null,
       "flex_flow": null,
       "grid_area": null,
       "grid_auto_columns": null,
       "grid_auto_flow": null,
       "grid_auto_rows": null,
       "grid_column": null,
       "grid_gap": null,
       "grid_row": null,
       "grid_template_areas": null,
       "grid_template_columns": null,
       "grid_template_rows": null,
       "height": null,
       "justify_content": null,
       "justify_items": null,
       "left": null,
       "margin": null,
       "max_height": null,
       "max_width": null,
       "min_height": null,
       "min_width": null,
       "object_fit": null,
       "object_position": null,
       "order": null,
       "overflow": null,
       "overflow_x": null,
       "overflow_y": null,
       "padding": null,
       "right": null,
       "top": null,
       "visibility": null,
       "width": null
      }
     },
     "71aaf24d79f5426bb4822e34bd35b0e8": {
      "model_module": "@jupyter-widgets/controls",
      "model_module_version": "1.5.0",
      "model_name": "HTMLModel",
      "state": {
       "_dom_classes": [],
       "_model_module": "@jupyter-widgets/controls",
       "_model_module_version": "1.5.0",
       "_model_name": "HTMLModel",
       "_view_count": null,
       "_view_module": "@jupyter-widgets/controls",
       "_view_module_version": "1.5.0",
       "_view_name": "HTMLView",
       "description": "",
       "description_tooltip": null,
       "layout": "IPY_MODEL_cc06378854984555b9ac4aaa3df8712a",
       "placeholder": "​",
       "style": "IPY_MODEL_eff2f9fdf9e146c3b8f3df736e566a4a",
       "value": " 3/3 [00:28&lt;00:00,  9.60s/it]"
      }
     },
     "7d3bc267f7064c8d95ed5ad9a4c6bcca": {
      "model_module": "@jupyter-widgets/controls",
      "model_module_version": "1.5.0",
      "model_name": "HTMLModel",
      "state": {
       "_dom_classes": [],
       "_model_module": "@jupyter-widgets/controls",
       "_model_module_version": "1.5.0",
       "_model_name": "HTMLModel",
       "_view_count": null,
       "_view_module": "@jupyter-widgets/controls",
       "_view_module_version": "1.5.0",
       "_view_name": "HTMLView",
       "description": "",
       "description_tooltip": null,
       "layout": "IPY_MODEL_641c1555aabb42058449b5e794f10f19",
       "placeholder": "​",
       "style": "IPY_MODEL_057ef5a991af45219ca0ccb2af7ba33d",
       "value": "100%"
      }
     },
     "7dbcd3efb6df4c33ab00aa1d212ac97b": {
      "model_module": "@jupyter-widgets/controls",
      "model_module_version": "1.5.0",
      "model_name": "ProgressStyleModel",
      "state": {
       "_model_module": "@jupyter-widgets/controls",
       "_model_module_version": "1.5.0",
       "_model_name": "ProgressStyleModel",
       "_view_count": null,
       "_view_module": "@jupyter-widgets/base",
       "_view_module_version": "1.2.0",
       "_view_name": "StyleView",
       "bar_color": null,
       "description_width": ""
      }
     },
     "7e207ff9e799444aaa3baf2ed4469121": {
      "model_module": "@jupyter-widgets/base",
      "model_module_version": "1.2.0",
      "model_name": "LayoutModel",
      "state": {
       "_model_module": "@jupyter-widgets/base",
       "_model_module_version": "1.2.0",
       "_model_name": "LayoutModel",
       "_view_count": null,
       "_view_module": "@jupyter-widgets/base",
       "_view_module_version": "1.2.0",
       "_view_name": "LayoutView",
       "align_content": null,
       "align_items": null,
       "align_self": null,
       "border": null,
       "bottom": null,
       "display": null,
       "flex": null,
       "flex_flow": null,
       "grid_area": null,
       "grid_auto_columns": null,
       "grid_auto_flow": null,
       "grid_auto_rows": null,
       "grid_column": null,
       "grid_gap": null,
       "grid_row": null,
       "grid_template_areas": null,
       "grid_template_columns": null,
       "grid_template_rows": null,
       "height": null,
       "justify_content": null,
       "justify_items": null,
       "left": null,
       "margin": null,
       "max_height": null,
       "max_width": null,
       "min_height": null,
       "min_width": null,
       "object_fit": null,
       "object_position": null,
       "order": null,
       "overflow": null,
       "overflow_x": null,
       "overflow_y": null,
       "padding": null,
       "right": null,
       "top": null,
       "visibility": null,
       "width": null
      }
     },
     "83bd542edf874206a3cb0a1d4e2e8c31": {
      "model_module": "@jupyter-widgets/controls",
      "model_module_version": "1.5.0",
      "model_name": "FloatProgressModel",
      "state": {
       "_dom_classes": [],
       "_model_module": "@jupyter-widgets/controls",
       "_model_module_version": "1.5.0",
       "_model_name": "FloatProgressModel",
       "_view_count": null,
       "_view_module": "@jupyter-widgets/controls",
       "_view_module_version": "1.5.0",
       "_view_name": "ProgressView",
       "bar_style": "success",
       "description": "",
       "description_tooltip": null,
       "layout": "IPY_MODEL_ad50b76be8b340c5a2321d7dd5dd8c44",
       "max": 3.0,
       "min": 0.0,
       "orientation": "horizontal",
       "style": "IPY_MODEL_187e0fd802c8485080151418acea8c4c",
       "value": 3.0
      }
     },
     "869c5ed2c91c4b8ea56815d5b0b1c676": {
      "model_module": "@jupyter-widgets/base",
      "model_module_version": "1.2.0",
      "model_name": "LayoutModel",
      "state": {
       "_model_module": "@jupyter-widgets/base",
       "_model_module_version": "1.2.0",
       "_model_name": "LayoutModel",
       "_view_count": null,
       "_view_module": "@jupyter-widgets/base",
       "_view_module_version": "1.2.0",
       "_view_name": "LayoutView",
       "align_content": null,
       "align_items": null,
       "align_self": null,
       "border": null,
       "bottom": null,
       "display": null,
       "flex": null,
       "flex_flow": null,
       "grid_area": null,
       "grid_auto_columns": null,
       "grid_auto_flow": null,
       "grid_auto_rows": null,
       "grid_column": null,
       "grid_gap": null,
       "grid_row": null,
       "grid_template_areas": null,
       "grid_template_columns": null,
       "grid_template_rows": null,
       "height": null,
       "justify_content": null,
       "justify_items": null,
       "left": null,
       "margin": null,
       "max_height": null,
       "max_width": null,
       "min_height": null,
       "min_width": null,
       "object_fit": null,
       "object_position": null,
       "order": null,
       "overflow": null,
       "overflow_x": null,
       "overflow_y": null,
       "padding": null,
       "right": null,
       "top": null,
       "visibility": null,
       "width": null
      }
     },
     "87c0c37aa9fb49f0ba91ff7503bbb463": {
      "model_module": "@jupyter-widgets/base",
      "model_module_version": "1.2.0",
      "model_name": "LayoutModel",
      "state": {
       "_model_module": "@jupyter-widgets/base",
       "_model_module_version": "1.2.0",
       "_model_name": "LayoutModel",
       "_view_count": null,
       "_view_module": "@jupyter-widgets/base",
       "_view_module_version": "1.2.0",
       "_view_name": "LayoutView",
       "align_content": null,
       "align_items": null,
       "align_self": null,
       "border": null,
       "bottom": null,
       "display": null,
       "flex": null,
       "flex_flow": null,
       "grid_area": null,
       "grid_auto_columns": null,
       "grid_auto_flow": null,
       "grid_auto_rows": null,
       "grid_column": null,
       "grid_gap": null,
       "grid_row": null,
       "grid_template_areas": null,
       "grid_template_columns": null,
       "grid_template_rows": null,
       "height": null,
       "justify_content": null,
       "justify_items": null,
       "left": null,
       "margin": null,
       "max_height": null,
       "max_width": null,
       "min_height": null,
       "min_width": null,
       "object_fit": null,
       "object_position": null,
       "order": null,
       "overflow": null,
       "overflow_x": null,
       "overflow_y": null,
       "padding": null,
       "right": null,
       "top": null,
       "visibility": null,
       "width": null
      }
     },
     "88ebf7d129b8435d9c699a8bfc5b22f6": {
      "model_module": "@jupyter-widgets/controls",
      "model_module_version": "1.5.0",
      "model_name": "DescriptionStyleModel",
      "state": {
       "_model_module": "@jupyter-widgets/controls",
       "_model_module_version": "1.5.0",
       "_model_name": "DescriptionStyleModel",
       "_view_count": null,
       "_view_module": "@jupyter-widgets/base",
       "_view_module_version": "1.2.0",
       "_view_name": "StyleView",
       "description_width": ""
      }
     },
     "8da7624c01584ef68dc3f7bec94a7aee": {
      "model_module": "@jupyter-widgets/controls",
      "model_module_version": "1.5.0",
      "model_name": "HTMLModel",
      "state": {
       "_dom_classes": [],
       "_model_module": "@jupyter-widgets/controls",
       "_model_module_version": "1.5.0",
       "_model_name": "HTMLModel",
       "_view_count": null,
       "_view_module": "@jupyter-widgets/controls",
       "_view_module_version": "1.5.0",
       "_view_name": "HTMLView",
       "description": "",
       "description_tooltip": null,
       "layout": "IPY_MODEL_f5d78cf8b6064d8fba54f3a4d14e5e3c",
       "placeholder": "​",
       "style": "IPY_MODEL_402be31893034d8e8aed08cbf1b5ea05",
       "value": " 3/3 [00:37&lt;00:00, 12.13s/it]"
      }
     },
     "8e508b99790f42958e3aba068b560533": {
      "model_module": "@jupyter-widgets/controls",
      "model_module_version": "1.5.0",
      "model_name": "FloatProgressModel",
      "state": {
       "_dom_classes": [],
       "_model_module": "@jupyter-widgets/controls",
       "_model_module_version": "1.5.0",
       "_model_name": "FloatProgressModel",
       "_view_count": null,
       "_view_module": "@jupyter-widgets/controls",
       "_view_module_version": "1.5.0",
       "_view_name": "ProgressView",
       "bar_style": "success",
       "description": "",
       "description_tooltip": null,
       "layout": "IPY_MODEL_158b25d6b1274fbdb8ce36357ebfa6b4",
       "max": 313.0,
       "min": 0.0,
       "orientation": "horizontal",
       "style": "IPY_MODEL_135f99530d584992b1578578328ecdbc",
       "value": 313.0
      }
     },
     "8ee9df726e824692ba514736f1024b37": {
      "model_module": "@jupyter-widgets/controls",
      "model_module_version": "1.5.0",
      "model_name": "HBoxModel",
      "state": {
       "_dom_classes": [],
       "_model_module": "@jupyter-widgets/controls",
       "_model_module_version": "1.5.0",
       "_model_name": "HBoxModel",
       "_view_count": null,
       "_view_module": "@jupyter-widgets/controls",
       "_view_module_version": "1.5.0",
       "_view_name": "HBoxView",
       "box_style": "",
       "children": [
        "IPY_MODEL_2403449f48374afcb69234c929c243c2",
        "IPY_MODEL_0ca80700c2c440d0ae825f097f29961f",
        "IPY_MODEL_bfc9a325ab9c4cf2a01000b8346d694c"
       ],
       "layout": "IPY_MODEL_9deb8d84502e4e72a7a1d8f0e758f5fd"
      }
     },
     "9091230bd1d14c02b7cc84dcb193ba8a": {
      "model_module": "@jupyter-widgets/controls",
      "model_module_version": "1.5.0",
      "model_name": "DescriptionStyleModel",
      "state": {
       "_model_module": "@jupyter-widgets/controls",
       "_model_module_version": "1.5.0",
       "_model_name": "DescriptionStyleModel",
       "_view_count": null,
       "_view_module": "@jupyter-widgets/base",
       "_view_module_version": "1.2.0",
       "_view_name": "StyleView",
       "description_width": ""
      }
     },
     "9588316cc5254a7bb6b3c2f17eb2a706": {
      "model_module": "@jupyter-widgets/controls",
      "model_module_version": "1.5.0",
      "model_name": "FloatProgressModel",
      "state": {
       "_dom_classes": [],
       "_model_module": "@jupyter-widgets/controls",
       "_model_module_version": "1.5.0",
       "_model_name": "FloatProgressModel",
       "_view_count": null,
       "_view_module": "@jupyter-widgets/controls",
       "_view_module_version": "1.5.0",
       "_view_name": "ProgressView",
       "bar_style": "success",
       "description": "",
       "description_tooltip": null,
       "layout": "IPY_MODEL_2e37c2d322ae495e928fadeb7575fdd2",
       "max": 313.0,
       "min": 0.0,
       "orientation": "horizontal",
       "style": "IPY_MODEL_52ac6e40cca147bfa62408ec2dbb71e3",
       "value": 313.0
      }
     },
     "95ffc74b7ac9482099b638804c37d234": {
      "model_module": "@jupyter-widgets/controls",
      "model_module_version": "1.5.0",
      "model_name": "DescriptionStyleModel",
      "state": {
       "_model_module": "@jupyter-widgets/controls",
       "_model_module_version": "1.5.0",
       "_model_name": "DescriptionStyleModel",
       "_view_count": null,
       "_view_module": "@jupyter-widgets/base",
       "_view_module_version": "1.2.0",
       "_view_name": "StyleView",
       "description_width": ""
      }
     },
     "96dc6fe20d3544ed9aece9ca240bbca8": {
      "model_module": "@jupyter-widgets/base",
      "model_module_version": "1.2.0",
      "model_name": "LayoutModel",
      "state": {
       "_model_module": "@jupyter-widgets/base",
       "_model_module_version": "1.2.0",
       "_model_name": "LayoutModel",
       "_view_count": null,
       "_view_module": "@jupyter-widgets/base",
       "_view_module_version": "1.2.0",
       "_view_name": "LayoutView",
       "align_content": null,
       "align_items": null,
       "align_self": null,
       "border": null,
       "bottom": null,
       "display": null,
       "flex": null,
       "flex_flow": null,
       "grid_area": null,
       "grid_auto_columns": null,
       "grid_auto_flow": null,
       "grid_auto_rows": null,
       "grid_column": null,
       "grid_gap": null,
       "grid_row": null,
       "grid_template_areas": null,
       "grid_template_columns": null,
       "grid_template_rows": null,
       "height": null,
       "justify_content": null,
       "justify_items": null,
       "left": null,
       "margin": null,
       "max_height": null,
       "max_width": null,
       "min_height": null,
       "min_width": null,
       "object_fit": null,
       "object_position": null,
       "order": null,
       "overflow": null,
       "overflow_x": null,
       "overflow_y": null,
       "padding": null,
       "right": null,
       "top": null,
       "visibility": null,
       "width": null
      }
     },
     "9deb8d84502e4e72a7a1d8f0e758f5fd": {
      "model_module": "@jupyter-widgets/base",
      "model_module_version": "1.2.0",
      "model_name": "LayoutModel",
      "state": {
       "_model_module": "@jupyter-widgets/base",
       "_model_module_version": "1.2.0",
       "_model_name": "LayoutModel",
       "_view_count": null,
       "_view_module": "@jupyter-widgets/base",
       "_view_module_version": "1.2.0",
       "_view_name": "LayoutView",
       "align_content": null,
       "align_items": null,
       "align_self": null,
       "border": null,
       "bottom": null,
       "display": null,
       "flex": null,
       "flex_flow": null,
       "grid_area": null,
       "grid_auto_columns": null,
       "grid_auto_flow": null,
       "grid_auto_rows": null,
       "grid_column": null,
       "grid_gap": null,
       "grid_row": null,
       "grid_template_areas": null,
       "grid_template_columns": null,
       "grid_template_rows": null,
       "height": null,
       "justify_content": null,
       "justify_items": null,
       "left": null,
       "margin": null,
       "max_height": null,
       "max_width": null,
       "min_height": null,
       "min_width": null,
       "object_fit": null,
       "object_position": null,
       "order": null,
       "overflow": null,
       "overflow_x": null,
       "overflow_y": null,
       "padding": null,
       "right": null,
       "top": null,
       "visibility": null,
       "width": null
      }
     },
     "a3c51720898b443999c4f0808f233e26": {
      "model_module": "@jupyter-widgets/base",
      "model_module_version": "1.2.0",
      "model_name": "LayoutModel",
      "state": {
       "_model_module": "@jupyter-widgets/base",
       "_model_module_version": "1.2.0",
       "_model_name": "LayoutModel",
       "_view_count": null,
       "_view_module": "@jupyter-widgets/base",
       "_view_module_version": "1.2.0",
       "_view_name": "LayoutView",
       "align_content": null,
       "align_items": null,
       "align_self": null,
       "border": null,
       "bottom": null,
       "display": null,
       "flex": null,
       "flex_flow": null,
       "grid_area": null,
       "grid_auto_columns": null,
       "grid_auto_flow": null,
       "grid_auto_rows": null,
       "grid_column": null,
       "grid_gap": null,
       "grid_row": null,
       "grid_template_areas": null,
       "grid_template_columns": null,
       "grid_template_rows": null,
       "height": null,
       "justify_content": null,
       "justify_items": null,
       "left": null,
       "margin": null,
       "max_height": null,
       "max_width": null,
       "min_height": null,
       "min_width": null,
       "object_fit": null,
       "object_position": null,
       "order": null,
       "overflow": null,
       "overflow_x": null,
       "overflow_y": null,
       "padding": null,
       "right": null,
       "top": null,
       "visibility": null,
       "width": null
      }
     },
     "ab53150f09c14d61a3caf5f7e4b2fa02": {
      "model_module": "@jupyter-widgets/base",
      "model_module_version": "1.2.0",
      "model_name": "LayoutModel",
      "state": {
       "_model_module": "@jupyter-widgets/base",
       "_model_module_version": "1.2.0",
       "_model_name": "LayoutModel",
       "_view_count": null,
       "_view_module": "@jupyter-widgets/base",
       "_view_module_version": "1.2.0",
       "_view_name": "LayoutView",
       "align_content": null,
       "align_items": null,
       "align_self": null,
       "border": null,
       "bottom": null,
       "display": null,
       "flex": null,
       "flex_flow": null,
       "grid_area": null,
       "grid_auto_columns": null,
       "grid_auto_flow": null,
       "grid_auto_rows": null,
       "grid_column": null,
       "grid_gap": null,
       "grid_row": null,
       "grid_template_areas": null,
       "grid_template_columns": null,
       "grid_template_rows": null,
       "height": null,
       "justify_content": null,
       "justify_items": null,
       "left": null,
       "margin": null,
       "max_height": null,
       "max_width": null,
       "min_height": null,
       "min_width": null,
       "object_fit": null,
       "object_position": null,
       "order": null,
       "overflow": null,
       "overflow_x": null,
       "overflow_y": null,
       "padding": null,
       "right": null,
       "top": null,
       "visibility": null,
       "width": null
      }
     },
     "ad50b76be8b340c5a2321d7dd5dd8c44": {
      "model_module": "@jupyter-widgets/base",
      "model_module_version": "1.2.0",
      "model_name": "LayoutModel",
      "state": {
       "_model_module": "@jupyter-widgets/base",
       "_model_module_version": "1.2.0",
       "_model_name": "LayoutModel",
       "_view_count": null,
       "_view_module": "@jupyter-widgets/base",
       "_view_module_version": "1.2.0",
       "_view_name": "LayoutView",
       "align_content": null,
       "align_items": null,
       "align_self": null,
       "border": null,
       "bottom": null,
       "display": null,
       "flex": null,
       "flex_flow": null,
       "grid_area": null,
       "grid_auto_columns": null,
       "grid_auto_flow": null,
       "grid_auto_rows": null,
       "grid_column": null,
       "grid_gap": null,
       "grid_row": null,
       "grid_template_areas": null,
       "grid_template_columns": null,
       "grid_template_rows": null,
       "height": null,
       "justify_content": null,
       "justify_items": null,
       "left": null,
       "margin": null,
       "max_height": null,
       "max_width": null,
       "min_height": null,
       "min_width": null,
       "object_fit": null,
       "object_position": null,
       "order": null,
       "overflow": null,
       "overflow_x": null,
       "overflow_y": null,
       "padding": null,
       "right": null,
       "top": null,
       "visibility": null,
       "width": null
      }
     },
     "adc8c8c1973547d98a6748b82c0fff73": {
      "model_module": "@jupyter-widgets/base",
      "model_module_version": "1.2.0",
      "model_name": "LayoutModel",
      "state": {
       "_model_module": "@jupyter-widgets/base",
       "_model_module_version": "1.2.0",
       "_model_name": "LayoutModel",
       "_view_count": null,
       "_view_module": "@jupyter-widgets/base",
       "_view_module_version": "1.2.0",
       "_view_name": "LayoutView",
       "align_content": null,
       "align_items": null,
       "align_self": null,
       "border": null,
       "bottom": null,
       "display": null,
       "flex": null,
       "flex_flow": null,
       "grid_area": null,
       "grid_auto_columns": null,
       "grid_auto_flow": null,
       "grid_auto_rows": null,
       "grid_column": null,
       "grid_gap": null,
       "grid_row": null,
       "grid_template_areas": null,
       "grid_template_columns": null,
       "grid_template_rows": null,
       "height": null,
       "justify_content": null,
       "justify_items": null,
       "left": null,
       "margin": null,
       "max_height": null,
       "max_width": null,
       "min_height": null,
       "min_width": null,
       "object_fit": null,
       "object_position": null,
       "order": null,
       "overflow": null,
       "overflow_x": null,
       "overflow_y": null,
       "padding": null,
       "right": null,
       "top": null,
       "visibility": null,
       "width": null
      }
     },
     "b1af32138e13416ab222e41c77755c99": {
      "model_module": "@jupyter-widgets/controls",
      "model_module_version": "1.5.0",
      "model_name": "HBoxModel",
      "state": {
       "_dom_classes": [],
       "_model_module": "@jupyter-widgets/controls",
       "_model_module_version": "1.5.0",
       "_model_name": "HBoxModel",
       "_view_count": null,
       "_view_module": "@jupyter-widgets/controls",
       "_view_module_version": "1.5.0",
       "_view_name": "HBoxView",
       "box_style": "",
       "children": [
        "IPY_MODEL_c32ae89492004d60a9f336844eedd412",
        "IPY_MODEL_31cac78d14514c84aef3a47726ad4197",
        "IPY_MODEL_71aaf24d79f5426bb4822e34bd35b0e8"
       ],
       "layout": "IPY_MODEL_87c0c37aa9fb49f0ba91ff7503bbb463"
      }
     },
     "bb6fb410e7da435f93f3910f601bc9dc": {
      "model_module": "@jupyter-widgets/controls",
      "model_module_version": "1.5.0",
      "model_name": "ProgressStyleModel",
      "state": {
       "_model_module": "@jupyter-widgets/controls",
       "_model_module_version": "1.5.0",
       "_model_name": "ProgressStyleModel",
       "_view_count": null,
       "_view_module": "@jupyter-widgets/base",
       "_view_module_version": "1.2.0",
       "_view_name": "StyleView",
       "bar_color": null,
       "description_width": ""
      }
     },
     "bea289f684ff43d1832a76070ab078a5": {
      "model_module": "@jupyter-widgets/controls",
      "model_module_version": "1.5.0",
      "model_name": "HTMLModel",
      "state": {
       "_dom_classes": [],
       "_model_module": "@jupyter-widgets/controls",
       "_model_module_version": "1.5.0",
       "_model_name": "HTMLModel",
       "_view_count": null,
       "_view_module": "@jupyter-widgets/controls",
       "_view_module_version": "1.5.0",
       "_view_name": "HTMLView",
       "description": "",
       "description_tooltip": null,
       "layout": "IPY_MODEL_70ea09c535f24a848f9fb1999468632b",
       "placeholder": "​",
       "style": "IPY_MODEL_c8532261079545b5ba93d8d121c80be2",
       "value": " 3/3 [00:26&lt;00:00,  9.02s/it]"
      }
     },
     "bfc9a325ab9c4cf2a01000b8346d694c": {
      "model_module": "@jupyter-widgets/controls",
      "model_module_version": "1.5.0",
      "model_name": "HTMLModel",
      "state": {
       "_dom_classes": [],
       "_model_module": "@jupyter-widgets/controls",
       "_model_module_version": "1.5.0",
       "_model_name": "HTMLModel",
       "_view_count": null,
       "_view_module": "@jupyter-widgets/controls",
       "_view_module_version": "1.5.0",
       "_view_name": "HTMLView",
       "description": "",
       "description_tooltip": null,
       "layout": "IPY_MODEL_4087cbedff4c477ca148246f666b62f2",
       "placeholder": "​",
       "style": "IPY_MODEL_9091230bd1d14c02b7cc84dcb193ba8a",
       "value": " 313/313 [00:01&lt;00:00, 250.10it/s]"
      }
     },
     "c0a6a869b5d6420d91a6d8c7daeab8ad": {
      "model_module": "@jupyter-widgets/base",
      "model_module_version": "1.2.0",
      "model_name": "LayoutModel",
      "state": {
       "_model_module": "@jupyter-widgets/base",
       "_model_module_version": "1.2.0",
       "_model_name": "LayoutModel",
       "_view_count": null,
       "_view_module": "@jupyter-widgets/base",
       "_view_module_version": "1.2.0",
       "_view_name": "LayoutView",
       "align_content": null,
       "align_items": null,
       "align_self": null,
       "border": null,
       "bottom": null,
       "display": null,
       "flex": null,
       "flex_flow": null,
       "grid_area": null,
       "grid_auto_columns": null,
       "grid_auto_flow": null,
       "grid_auto_rows": null,
       "grid_column": null,
       "grid_gap": null,
       "grid_row": null,
       "grid_template_areas": null,
       "grid_template_columns": null,
       "grid_template_rows": null,
       "height": null,
       "justify_content": null,
       "justify_items": null,
       "left": null,
       "margin": null,
       "max_height": null,
       "max_width": null,
       "min_height": null,
       "min_width": null,
       "object_fit": null,
       "object_position": null,
       "order": null,
       "overflow": null,
       "overflow_x": null,
       "overflow_y": null,
       "padding": null,
       "right": null,
       "top": null,
       "visibility": null,
       "width": null
      }
     },
     "c32ae89492004d60a9f336844eedd412": {
      "model_module": "@jupyter-widgets/controls",
      "model_module_version": "1.5.0",
      "model_name": "HTMLModel",
      "state": {
       "_dom_classes": [],
       "_model_module": "@jupyter-widgets/controls",
       "_model_module_version": "1.5.0",
       "_model_name": "HTMLModel",
       "_view_count": null,
       "_view_module": "@jupyter-widgets/controls",
       "_view_module_version": "1.5.0",
       "_view_name": "HTMLView",
       "description": "",
       "description_tooltip": null,
       "layout": "IPY_MODEL_ecc7abc1efec4b24ac2feefe248518ca",
       "placeholder": "​",
       "style": "IPY_MODEL_24805305a5984acb94681659533f25d9",
       "value": "100%"
      }
     },
     "c5a91ad744ed490997c41d1019a30623": {
      "model_module": "@jupyter-widgets/controls",
      "model_module_version": "1.5.0",
      "model_name": "HTMLModel",
      "state": {
       "_dom_classes": [],
       "_model_module": "@jupyter-widgets/controls",
       "_model_module_version": "1.5.0",
       "_model_name": "HTMLModel",
       "_view_count": null,
       "_view_module": "@jupyter-widgets/controls",
       "_view_module_version": "1.5.0",
       "_view_name": "HTMLView",
       "description": "",
       "description_tooltip": null,
       "layout": "IPY_MODEL_0490ede8cbb04a74bf42b58c91e32ad0",
       "placeholder": "​",
       "style": "IPY_MODEL_17f15a3f26a2464485b2e45247735ed3",
       "value": " 313/313 [00:01&lt;00:00, 259.68it/s]"
      }
     },
     "c8532261079545b5ba93d8d121c80be2": {
      "model_module": "@jupyter-widgets/controls",
      "model_module_version": "1.5.0",
      "model_name": "DescriptionStyleModel",
      "state": {
       "_model_module": "@jupyter-widgets/controls",
       "_model_module_version": "1.5.0",
       "_model_name": "DescriptionStyleModel",
       "_view_count": null,
       "_view_module": "@jupyter-widgets/base",
       "_view_module_version": "1.2.0",
       "_view_name": "StyleView",
       "description_width": ""
      }
     },
     "cc06378854984555b9ac4aaa3df8712a": {
      "model_module": "@jupyter-widgets/base",
      "model_module_version": "1.2.0",
      "model_name": "LayoutModel",
      "state": {
       "_model_module": "@jupyter-widgets/base",
       "_model_module_version": "1.2.0",
       "_model_name": "LayoutModel",
       "_view_count": null,
       "_view_module": "@jupyter-widgets/base",
       "_view_module_version": "1.2.0",
       "_view_name": "LayoutView",
       "align_content": null,
       "align_items": null,
       "align_self": null,
       "border": null,
       "bottom": null,
       "display": null,
       "flex": null,
       "flex_flow": null,
       "grid_area": null,
       "grid_auto_columns": null,
       "grid_auto_flow": null,
       "grid_auto_rows": null,
       "grid_column": null,
       "grid_gap": null,
       "grid_row": null,
       "grid_template_areas": null,
       "grid_template_columns": null,
       "grid_template_rows": null,
       "height": null,
       "justify_content": null,
       "justify_items": null,
       "left": null,
       "margin": null,
       "max_height": null,
       "max_width": null,
       "min_height": null,
       "min_width": null,
       "object_fit": null,
       "object_position": null,
       "order": null,
       "overflow": null,
       "overflow_x": null,
       "overflow_y": null,
       "padding": null,
       "right": null,
       "top": null,
       "visibility": null,
       "width": null
      }
     },
     "ce420ce28e0b49dd9e9b83f59ec07cd5": {
      "model_module": "@jupyter-widgets/controls",
      "model_module_version": "1.5.0",
      "model_name": "HBoxModel",
      "state": {
       "_dom_classes": [],
       "_model_module": "@jupyter-widgets/controls",
       "_model_module_version": "1.5.0",
       "_model_name": "HBoxModel",
       "_view_count": null,
       "_view_module": "@jupyter-widgets/controls",
       "_view_module_version": "1.5.0",
       "_view_name": "HBoxView",
       "box_style": "",
       "children": [
        "IPY_MODEL_2aeab4ffddff4eac8db42b7ff87d324e",
        "IPY_MODEL_46e794883fd1458e94fb84bfe281c478",
        "IPY_MODEL_c5a91ad744ed490997c41d1019a30623"
       ],
       "layout": "IPY_MODEL_2814f0a1b4f34fce8f88afc3a90132f9"
      }
     },
     "cfa15f8e2fc74b658f52196de333a9bb": {
      "model_module": "@jupyter-widgets/controls",
      "model_module_version": "1.5.0",
      "model_name": "HTMLModel",
      "state": {
       "_dom_classes": [],
       "_model_module": "@jupyter-widgets/controls",
       "_model_module_version": "1.5.0",
       "_model_name": "HTMLModel",
       "_view_count": null,
       "_view_module": "@jupyter-widgets/controls",
       "_view_module_version": "1.5.0",
       "_view_name": "HTMLView",
       "description": "",
       "description_tooltip": null,
       "layout": "IPY_MODEL_7e207ff9e799444aaa3baf2ed4469121",
       "placeholder": "​",
       "style": "IPY_MODEL_88ebf7d129b8435d9c699a8bfc5b22f6",
       "value": "100%"
      }
     },
     "cfef87780d7f475faa85159900ea956f": {
      "model_module": "@jupyter-widgets/base",
      "model_module_version": "1.2.0",
      "model_name": "LayoutModel",
      "state": {
       "_model_module": "@jupyter-widgets/base",
       "_model_module_version": "1.2.0",
       "_model_name": "LayoutModel",
       "_view_count": null,
       "_view_module": "@jupyter-widgets/base",
       "_view_module_version": "1.2.0",
       "_view_name": "LayoutView",
       "align_content": null,
       "align_items": null,
       "align_self": null,
       "border": null,
       "bottom": null,
       "display": null,
       "flex": null,
       "flex_flow": null,
       "grid_area": null,
       "grid_auto_columns": null,
       "grid_auto_flow": null,
       "grid_auto_rows": null,
       "grid_column": null,
       "grid_gap": null,
       "grid_row": null,
       "grid_template_areas": null,
       "grid_template_columns": null,
       "grid_template_rows": null,
       "height": null,
       "justify_content": null,
       "justify_items": null,
       "left": null,
       "margin": null,
       "max_height": null,
       "max_width": null,
       "min_height": null,
       "min_width": null,
       "object_fit": null,
       "object_position": null,
       "order": null,
       "overflow": null,
       "overflow_x": null,
       "overflow_y": null,
       "padding": null,
       "right": null,
       "top": null,
       "visibility": null,
       "width": null
      }
     },
     "d4dc130d29e648d09f29a562df7c212f": {
      "model_module": "@jupyter-widgets/controls",
      "model_module_version": "1.5.0",
      "model_name": "ProgressStyleModel",
      "state": {
       "_model_module": "@jupyter-widgets/controls",
       "_model_module_version": "1.5.0",
       "_model_name": "ProgressStyleModel",
       "_view_count": null,
       "_view_module": "@jupyter-widgets/base",
       "_view_module_version": "1.2.0",
       "_view_name": "StyleView",
       "bar_color": null,
       "description_width": ""
      }
     },
     "e367af7fad7e4f879fe7623ad5e336d9": {
      "model_module": "@jupyter-widgets/base",
      "model_module_version": "1.2.0",
      "model_name": "LayoutModel",
      "state": {
       "_model_module": "@jupyter-widgets/base",
       "_model_module_version": "1.2.0",
       "_model_name": "LayoutModel",
       "_view_count": null,
       "_view_module": "@jupyter-widgets/base",
       "_view_module_version": "1.2.0",
       "_view_name": "LayoutView",
       "align_content": null,
       "align_items": null,
       "align_self": null,
       "border": null,
       "bottom": null,
       "display": null,
       "flex": null,
       "flex_flow": null,
       "grid_area": null,
       "grid_auto_columns": null,
       "grid_auto_flow": null,
       "grid_auto_rows": null,
       "grid_column": null,
       "grid_gap": null,
       "grid_row": null,
       "grid_template_areas": null,
       "grid_template_columns": null,
       "grid_template_rows": null,
       "height": null,
       "justify_content": null,
       "justify_items": null,
       "left": null,
       "margin": null,
       "max_height": null,
       "max_width": null,
       "min_height": null,
       "min_width": null,
       "object_fit": null,
       "object_position": null,
       "order": null,
       "overflow": null,
       "overflow_x": null,
       "overflow_y": null,
       "padding": null,
       "right": null,
       "top": null,
       "visibility": null,
       "width": null
      }
     },
     "e85c9e50e69b416a8a583f7dd0d417c3": {
      "model_module": "@jupyter-widgets/controls",
      "model_module_version": "1.5.0",
      "model_name": "HBoxModel",
      "state": {
       "_dom_classes": [],
       "_model_module": "@jupyter-widgets/controls",
       "_model_module_version": "1.5.0",
       "_model_name": "HBoxModel",
       "_view_count": null,
       "_view_module": "@jupyter-widgets/controls",
       "_view_module_version": "1.5.0",
       "_view_name": "HBoxView",
       "box_style": "",
       "children": [
        "IPY_MODEL_e865dc7088a748f58f701c308b782df3",
        "IPY_MODEL_f696bfa0c8564318952fdf22c9304d4b",
        "IPY_MODEL_f124e9c3fa0d4c7ca53c5ba9ad81d2f2"
       ],
       "layout": "IPY_MODEL_fc1264c1a49a4a64863baf88f0f31148"
      }
     },
     "e865dc7088a748f58f701c308b782df3": {
      "model_module": "@jupyter-widgets/controls",
      "model_module_version": "1.5.0",
      "model_name": "HTMLModel",
      "state": {
       "_dom_classes": [],
       "_model_module": "@jupyter-widgets/controls",
       "_model_module_version": "1.5.0",
       "_model_name": "HTMLModel",
       "_view_count": null,
       "_view_module": "@jupyter-widgets/controls",
       "_view_module_version": "1.5.0",
       "_view_name": "HTMLView",
       "description": "",
       "description_tooltip": null,
       "layout": "IPY_MODEL_96dc6fe20d3544ed9aece9ca240bbca8",
       "placeholder": "​",
       "style": "IPY_MODEL_665dfe02c1b34f1180f9b3830ce57e7e",
       "value": "100%"
      }
     },
     "ecc7abc1efec4b24ac2feefe248518ca": {
      "model_module": "@jupyter-widgets/base",
      "model_module_version": "1.2.0",
      "model_name": "LayoutModel",
      "state": {
       "_model_module": "@jupyter-widgets/base",
       "_model_module_version": "1.2.0",
       "_model_name": "LayoutModel",
       "_view_count": null,
       "_view_module": "@jupyter-widgets/base",
       "_view_module_version": "1.2.0",
       "_view_name": "LayoutView",
       "align_content": null,
       "align_items": null,
       "align_self": null,
       "border": null,
       "bottom": null,
       "display": null,
       "flex": null,
       "flex_flow": null,
       "grid_area": null,
       "grid_auto_columns": null,
       "grid_auto_flow": null,
       "grid_auto_rows": null,
       "grid_column": null,
       "grid_gap": null,
       "grid_row": null,
       "grid_template_areas": null,
       "grid_template_columns": null,
       "grid_template_rows": null,
       "height": null,
       "justify_content": null,
       "justify_items": null,
       "left": null,
       "margin": null,
       "max_height": null,
       "max_width": null,
       "min_height": null,
       "min_width": null,
       "object_fit": null,
       "object_position": null,
       "order": null,
       "overflow": null,
       "overflow_x": null,
       "overflow_y": null,
       "padding": null,
       "right": null,
       "top": null,
       "visibility": null,
       "width": null
      }
     },
     "eff2f9fdf9e146c3b8f3df736e566a4a": {
      "model_module": "@jupyter-widgets/controls",
      "model_module_version": "1.5.0",
      "model_name": "DescriptionStyleModel",
      "state": {
       "_model_module": "@jupyter-widgets/controls",
       "_model_module_version": "1.5.0",
       "_model_name": "DescriptionStyleModel",
       "_view_count": null,
       "_view_module": "@jupyter-widgets/base",
       "_view_module_version": "1.2.0",
       "_view_name": "StyleView",
       "description_width": ""
      }
     },
     "f124e9c3fa0d4c7ca53c5ba9ad81d2f2": {
      "model_module": "@jupyter-widgets/controls",
      "model_module_version": "1.5.0",
      "model_name": "HTMLModel",
      "state": {
       "_dom_classes": [],
       "_model_module": "@jupyter-widgets/controls",
       "_model_module_version": "1.5.0",
       "_model_name": "HTMLModel",
       "_view_count": null,
       "_view_module": "@jupyter-widgets/controls",
       "_view_module_version": "1.5.0",
       "_view_name": "HTMLView",
       "description": "",
       "description_tooltip": null,
       "layout": "IPY_MODEL_a3c51720898b443999c4f0808f233e26",
       "placeholder": "​",
       "style": "IPY_MODEL_2f4939dfd829402dac1ef99875fbb1ae",
       "value": " 313/313 [00:01&lt;00:00, 276.60it/s]"
      }
     },
     "f5d78cf8b6064d8fba54f3a4d14e5e3c": {
      "model_module": "@jupyter-widgets/base",
      "model_module_version": "1.2.0",
      "model_name": "LayoutModel",
      "state": {
       "_model_module": "@jupyter-widgets/base",
       "_model_module_version": "1.2.0",
       "_model_name": "LayoutModel",
       "_view_count": null,
       "_view_module": "@jupyter-widgets/base",
       "_view_module_version": "1.2.0",
       "_view_name": "LayoutView",
       "align_content": null,
       "align_items": null,
       "align_self": null,
       "border": null,
       "bottom": null,
       "display": null,
       "flex": null,
       "flex_flow": null,
       "grid_area": null,
       "grid_auto_columns": null,
       "grid_auto_flow": null,
       "grid_auto_rows": null,
       "grid_column": null,
       "grid_gap": null,
       "grid_row": null,
       "grid_template_areas": null,
       "grid_template_columns": null,
       "grid_template_rows": null,
       "height": null,
       "justify_content": null,
       "justify_items": null,
       "left": null,
       "margin": null,
       "max_height": null,
       "max_width": null,
       "min_height": null,
       "min_width": null,
       "object_fit": null,
       "object_position": null,
       "order": null,
       "overflow": null,
       "overflow_x": null,
       "overflow_y": null,
       "padding": null,
       "right": null,
       "top": null,
       "visibility": null,
       "width": null
      }
     },
     "f696bfa0c8564318952fdf22c9304d4b": {
      "model_module": "@jupyter-widgets/controls",
      "model_module_version": "1.5.0",
      "model_name": "FloatProgressModel",
      "state": {
       "_dom_classes": [],
       "_model_module": "@jupyter-widgets/controls",
       "_model_module_version": "1.5.0",
       "_model_name": "FloatProgressModel",
       "_view_count": null,
       "_view_module": "@jupyter-widgets/controls",
       "_view_module_version": "1.5.0",
       "_view_name": "ProgressView",
       "bar_style": "success",
       "description": "",
       "description_tooltip": null,
       "layout": "IPY_MODEL_adc8c8c1973547d98a6748b82c0fff73",
       "max": 313.0,
       "min": 0.0,
       "orientation": "horizontal",
       "style": "IPY_MODEL_186f0d009a2541bfbf88bb689c35e448",
       "value": 313.0
      }
     },
     "f9ad8919a86c4bb8b469bf0fc24d6766": {
      "model_module": "@jupyter-widgets/controls",
      "model_module_version": "1.5.0",
      "model_name": "HTMLModel",
      "state": {
       "_dom_classes": [],
       "_model_module": "@jupyter-widgets/controls",
       "_model_module_version": "1.5.0",
       "_model_name": "HTMLModel",
       "_view_count": null,
       "_view_module": "@jupyter-widgets/controls",
       "_view_module_version": "1.5.0",
       "_view_name": "HTMLView",
       "description": "",
       "description_tooltip": null,
       "layout": "IPY_MODEL_cfef87780d7f475faa85159900ea956f",
       "placeholder": "​",
       "style": "IPY_MODEL_f9c539869b0145039813a68877e04f6c",
       "value": " 313/313 [00:01&lt;00:00, 252.00it/s]"
      }
     },
     "f9c539869b0145039813a68877e04f6c": {
      "model_module": "@jupyter-widgets/controls",
      "model_module_version": "1.5.0",
      "model_name": "DescriptionStyleModel",
      "state": {
       "_model_module": "@jupyter-widgets/controls",
       "_model_module_version": "1.5.0",
       "_model_name": "DescriptionStyleModel",
       "_view_count": null,
       "_view_module": "@jupyter-widgets/base",
       "_view_module_version": "1.2.0",
       "_view_name": "StyleView",
       "description_width": ""
      }
     },
     "fc1264c1a49a4a64863baf88f0f31148": {
      "model_module": "@jupyter-widgets/base",
      "model_module_version": "1.2.0",
      "model_name": "LayoutModel",
      "state": {
       "_model_module": "@jupyter-widgets/base",
       "_model_module_version": "1.2.0",
       "_model_name": "LayoutModel",
       "_view_count": null,
       "_view_module": "@jupyter-widgets/base",
       "_view_module_version": "1.2.0",
       "_view_name": "LayoutView",
       "align_content": null,
       "align_items": null,
       "align_self": null,
       "border": null,
       "bottom": null,
       "display": null,
       "flex": null,
       "flex_flow": null,
       "grid_area": null,
       "grid_auto_columns": null,
       "grid_auto_flow": null,
       "grid_auto_rows": null,
       "grid_column": null,
       "grid_gap": null,
       "grid_row": null,
       "grid_template_areas": null,
       "grid_template_columns": null,
       "grid_template_rows": null,
       "height": null,
       "justify_content": null,
       "justify_items": null,
       "left": null,
       "margin": null,
       "max_height": null,
       "max_width": null,
       "min_height": null,
       "min_width": null,
       "object_fit": null,
       "object_position": null,
       "order": null,
       "overflow": null,
       "overflow_x": null,
       "overflow_y": null,
       "padding": null,
       "right": null,
       "top": null,
       "visibility": null,
       "width": null
      }
     }
    },
    "version_major": 2,
    "version_minor": 0
   }
  }
 },
 "nbformat": 4,
 "nbformat_minor": 5
}
