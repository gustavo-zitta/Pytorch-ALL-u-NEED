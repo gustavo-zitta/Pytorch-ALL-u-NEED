{
 "cells": [
  {
   "cell_type": "code",
   "execution_count": 1,
   "id": "015b44fa",
   "metadata": {
    "execution": {
     "iopub.execute_input": "2023-07-31T18:52:51.320027Z",
     "iopub.status.busy": "2023-07-31T18:52:51.319235Z",
     "iopub.status.idle": "2023-07-31T18:52:54.344174Z",
     "shell.execute_reply": "2023-07-31T18:52:54.341782Z"
    },
    "executionInfo": {
     "elapsed": 4399,
     "status": "ok",
     "timestamp": 1689006383923,
     "user": {
      "displayName": "Gustavo Robl Zitta",
      "userId": "12496481005659581268"
     },
     "user_tz": 180
    },
    "id": "dRGRkjPon0qY",
    "outputId": "151c844e-6364-40d8-f399-ff36608ce5c5",
    "papermill": {
     "duration": 3.05679,
     "end_time": "2023-07-31T18:52:54.346507",
     "exception": false,
     "start_time": "2023-07-31T18:52:51.289717",
     "status": "completed"
    },
    "tags": []
   },
   "outputs": [
    {
     "name": "stdout",
     "output_type": "stream",
     "text": [
      "2.0.0\n"
     ]
    }
   ],
   "source": [
    "import torch\n",
    "import pandas as np\n",
    "import pandas as pd\n",
    "import matplotlib.pyplot as plt\n",
    "\n",
    "print(torch.__version__)"
   ]
  },
  {
   "cell_type": "code",
   "execution_count": null,
   "id": "25bd37f5",
   "metadata": {
    "executionInfo": {
     "elapsed": 43,
     "status": "ok",
     "timestamp": 1689006383923,
     "user": {
      "displayName": "Gustavo Robl Zitta",
      "userId": "12496481005659581268"
     },
     "user_tz": 180
    },
    "id": "jvok_elwo1GW",
    "papermill": {
     "duration": 0.027211,
     "end_time": "2023-07-31T18:52:54.402090",
     "exception": false,
     "start_time": "2023-07-31T18:52:54.374879",
     "status": "completed"
    },
    "tags": []
   },
   "outputs": [],
   "source": []
  },
  {
   "cell_type": "markdown",
   "id": "63153ae8",
   "metadata": {
    "id": "75SXT2cztkSh",
    "papermill": {
     "duration": 0.026726,
     "end_time": "2023-07-31T18:52:54.455565",
     "exception": false,
     "start_time": "2023-07-31T18:52:54.428839",
     "status": "completed"
    },
    "tags": []
   },
   "source": [
    "# Introduction to Tensors\n"
   ]
  },
  {
   "cell_type": "markdown",
   "id": "02c3d2d4",
   "metadata": {
    "id": "1KgSh_kD9GUR",
    "papermill": {
     "duration": 0.027205,
     "end_time": "2023-07-31T18:52:54.509689",
     "exception": false,
     "start_time": "2023-07-31T18:52:54.482484",
     "status": "completed"
    },
    "tags": []
   },
   "source": [
    "## Creating tensors"
   ]
  },
  {
   "cell_type": "markdown",
   "id": "07847e52",
   "metadata": {
    "id": "nKa5iOYjx5J2",
    "papermill": {
     "duration": 0.026702,
     "end_time": "2023-07-31T18:52:54.563694",
     "exception": false,
     "start_time": "2023-07-31T18:52:54.536992",
     "status": "completed"
    },
    "tags": []
   },
   "source": [
    "### SCALAR\n"
   ]
  },
  {
   "cell_type": "code",
   "execution_count": 2,
   "id": "cf4b7cfe",
   "metadata": {
    "execution": {
     "iopub.execute_input": "2023-07-31T18:52:54.619866Z",
     "iopub.status.busy": "2023-07-31T18:52:54.619258Z",
     "iopub.status.idle": "2023-07-31T18:52:54.652683Z",
     "shell.execute_reply": "2023-07-31T18:52:54.651764Z"
    },
    "executionInfo": {
     "elapsed": 43,
     "status": "ok",
     "timestamp": 1689006383924,
     "user": {
      "displayName": "Gustavo Robl Zitta",
      "userId": "12496481005659581268"
     },
     "user_tz": 180
    },
    "id": "40tu4uDUtnsm",
    "outputId": "65672190-6709-424a-eb66-0b27f099bacc",
    "papermill": {
     "duration": 0.064213,
     "end_time": "2023-07-31T18:52:54.654765",
     "exception": false,
     "start_time": "2023-07-31T18:52:54.590552",
     "status": "completed"
    },
    "tags": []
   },
   "outputs": [
    {
     "data": {
      "text/plain": [
       "tensor(7)"
      ]
     },
     "execution_count": 2,
     "metadata": {},
     "output_type": "execute_result"
    }
   ],
   "source": [
    "#scalar\n",
    "scalar = torch.tensor(7)\n",
    "scalar\n",
    "\n"
   ]
  },
  {
   "cell_type": "code",
   "execution_count": 3,
   "id": "2ef753e4",
   "metadata": {
    "execution": {
     "iopub.execute_input": "2023-07-31T18:52:54.711671Z",
     "iopub.status.busy": "2023-07-31T18:52:54.710041Z",
     "iopub.status.idle": "2023-07-31T18:52:54.716837Z",
     "shell.execute_reply": "2023-07-31T18:52:54.715878Z"
    },
    "executionInfo": {
     "elapsed": 41,
     "status": "ok",
     "timestamp": 1689006383924,
     "user": {
      "displayName": "Gustavo Robl Zitta",
      "userId": "12496481005659581268"
     },
     "user_tz": 180
    },
    "id": "cfIEq6eVt-R2",
    "outputId": "7bf69a93-44e7-4763-833d-780831c46dd3",
    "papermill": {
     "duration": 0.037011,
     "end_time": "2023-07-31T18:52:54.718855",
     "exception": false,
     "start_time": "2023-07-31T18:52:54.681844",
     "status": "completed"
    },
    "tags": []
   },
   "outputs": [
    {
     "data": {
      "text/plain": [
       "0"
      ]
     },
     "execution_count": 3,
     "metadata": {},
     "output_type": "execute_result"
    }
   ],
   "source": [
    "#dimension\n",
    "scalar.ndim"
   ]
  },
  {
   "cell_type": "code",
   "execution_count": 4,
   "id": "8523c4ab",
   "metadata": {
    "execution": {
     "iopub.execute_input": "2023-07-31T18:52:54.776398Z",
     "iopub.status.busy": "2023-07-31T18:52:54.774666Z",
     "iopub.status.idle": "2023-07-31T18:52:54.781695Z",
     "shell.execute_reply": "2023-07-31T18:52:54.780753Z"
    },
    "executionInfo": {
     "elapsed": 39,
     "status": "ok",
     "timestamp": 1689006383924,
     "user": {
      "displayName": "Gustavo Robl Zitta",
      "userId": "12496481005659581268"
     },
     "user_tz": 180
    },
    "id": "fcsVBMtquaU4",
    "outputId": "5a8350bf-81ba-478d-e743-abb5ba5e4d87",
    "papermill": {
     "duration": 0.037771,
     "end_time": "2023-07-31T18:52:54.783850",
     "exception": false,
     "start_time": "2023-07-31T18:52:54.746079",
     "status": "completed"
    },
    "tags": []
   },
   "outputs": [
    {
     "data": {
      "text/plain": [
       "7"
      ]
     },
     "execution_count": 4,
     "metadata": {},
     "output_type": "execute_result"
    }
   ],
   "source": [
    "#get tensor back as python int\n",
    "scalar.item()"
   ]
  },
  {
   "cell_type": "markdown",
   "id": "9f86012a",
   "metadata": {
    "id": "cII0x7omx8qx",
    "papermill": {
     "duration": 0.027399,
     "end_time": "2023-07-31T18:52:54.838798",
     "exception": false,
     "start_time": "2023-07-31T18:52:54.811399",
     "status": "completed"
    },
    "tags": []
   },
   "source": [
    "### VECTOR"
   ]
  },
  {
   "cell_type": "code",
   "execution_count": 5,
   "id": "88444083",
   "metadata": {
    "execution": {
     "iopub.execute_input": "2023-07-31T18:52:54.895501Z",
     "iopub.status.busy": "2023-07-31T18:52:54.895127Z",
     "iopub.status.idle": "2023-07-31T18:52:54.903430Z",
     "shell.execute_reply": "2023-07-31T18:52:54.902394Z"
    },
    "executionInfo": {
     "elapsed": 38,
     "status": "ok",
     "timestamp": 1689006383925,
     "user": {
      "displayName": "Gustavo Robl Zitta",
      "userId": "12496481005659581268"
     },
     "user_tz": 180
    },
    "id": "CRDTlscrwkmN",
    "outputId": "e954b588-f150-4501-d529-a04175b739da",
    "papermill": {
     "duration": 0.039102,
     "end_time": "2023-07-31T18:52:54.905438",
     "exception": false,
     "start_time": "2023-07-31T18:52:54.866336",
     "status": "completed"
    },
    "tags": []
   },
   "outputs": [
    {
     "data": {
      "text/plain": [
       "tensor([7, 7])"
      ]
     },
     "execution_count": 5,
     "metadata": {},
     "output_type": "execute_result"
    }
   ],
   "source": [
    "#vector\n",
    "vector = torch.tensor([7,7])\n",
    "vector"
   ]
  },
  {
   "cell_type": "code",
   "execution_count": 6,
   "id": "4b661c44",
   "metadata": {
    "execution": {
     "iopub.execute_input": "2023-07-31T18:52:54.962345Z",
     "iopub.status.busy": "2023-07-31T18:52:54.961533Z",
     "iopub.status.idle": "2023-07-31T18:52:54.967660Z",
     "shell.execute_reply": "2023-07-31T18:52:54.966668Z"
    },
    "executionInfo": {
     "elapsed": 36,
     "status": "ok",
     "timestamp": 1689006383925,
     "user": {
      "displayName": "Gustavo Robl Zitta",
      "userId": "12496481005659581268"
     },
     "user_tz": 180
    },
    "id": "mduEy0F3wzKo",
    "outputId": "c8dba967-8920-4ff6-a60e-bb2a39e057a7",
    "papermill": {
     "duration": 0.036843,
     "end_time": "2023-07-31T18:52:54.969719",
     "exception": false,
     "start_time": "2023-07-31T18:52:54.932876",
     "status": "completed"
    },
    "tags": []
   },
   "outputs": [
    {
     "data": {
      "text/plain": [
       "1"
      ]
     },
     "execution_count": 6,
     "metadata": {},
     "output_type": "execute_result"
    }
   ],
   "source": [
    "vector.ndim"
   ]
  },
  {
   "cell_type": "code",
   "execution_count": 7,
   "id": "5b4a10e2",
   "metadata": {
    "execution": {
     "iopub.execute_input": "2023-07-31T18:52:55.028343Z",
     "iopub.status.busy": "2023-07-31T18:52:55.028024Z",
     "iopub.status.idle": "2023-07-31T18:52:55.033875Z",
     "shell.execute_reply": "2023-07-31T18:52:55.032933Z"
    },
    "executionInfo": {
     "elapsed": 34,
     "status": "ok",
     "timestamp": 1689006383925,
     "user": {
      "displayName": "Gustavo Robl Zitta",
      "userId": "12496481005659581268"
     },
     "user_tz": 180
    },
    "id": "Z1Wz5s93yCoQ",
    "outputId": "ef7b5719-0c88-462a-b531-64b6184e3a3e",
    "papermill": {
     "duration": 0.038747,
     "end_time": "2023-07-31T18:52:55.035916",
     "exception": false,
     "start_time": "2023-07-31T18:52:54.997169",
     "status": "completed"
    },
    "tags": []
   },
   "outputs": [
    {
     "data": {
      "text/plain": [
       "torch.Size([2])"
      ]
     },
     "execution_count": 7,
     "metadata": {},
     "output_type": "execute_result"
    }
   ],
   "source": [
    "vector.shape"
   ]
  },
  {
   "cell_type": "markdown",
   "id": "25ef236c",
   "metadata": {
    "id": "12XBGXmKyNZX",
    "papermill": {
     "duration": 0.028711,
     "end_time": "2023-07-31T18:52:55.093148",
     "exception": false,
     "start_time": "2023-07-31T18:52:55.064437",
     "status": "completed"
    },
    "tags": []
   },
   "source": [
    "### MATRIX"
   ]
  },
  {
   "cell_type": "code",
   "execution_count": 8,
   "id": "c7d5df6c",
   "metadata": {
    "execution": {
     "iopub.execute_input": "2023-07-31T18:52:55.149802Z",
     "iopub.status.busy": "2023-07-31T18:52:55.149478Z",
     "iopub.status.idle": "2023-07-31T18:52:55.158239Z",
     "shell.execute_reply": "2023-07-31T18:52:55.157274Z"
    },
    "executionInfo": {
     "elapsed": 32,
     "status": "ok",
     "timestamp": 1689006383925,
     "user": {
      "displayName": "Gustavo Robl Zitta",
      "userId": "12496481005659581268"
     },
     "user_tz": 180
    },
    "id": "C_oL4oo8yGee",
    "outputId": "d4355a96-b647-40d2-98a2-aec90d8751d8",
    "papermill": {
     "duration": 0.039762,
     "end_time": "2023-07-31T18:52:55.160638",
     "exception": false,
     "start_time": "2023-07-31T18:52:55.120876",
     "status": "completed"
    },
    "tags": []
   },
   "outputs": [
    {
     "data": {
      "text/plain": [
       "tensor([[7, 8],\n",
       "        [6, 5]])"
      ]
     },
     "execution_count": 8,
     "metadata": {},
     "output_type": "execute_result"
    }
   ],
   "source": [
    "matrix = torch.tensor([[7,8],\n",
    "                       [6,5]])\n",
    "matrix"
   ]
  },
  {
   "cell_type": "code",
   "execution_count": 9,
   "id": "121cf9f2",
   "metadata": {
    "execution": {
     "iopub.execute_input": "2023-07-31T18:52:55.218089Z",
     "iopub.status.busy": "2023-07-31T18:52:55.217272Z",
     "iopub.status.idle": "2023-07-31T18:52:55.223645Z",
     "shell.execute_reply": "2023-07-31T18:52:55.222671Z"
    },
    "executionInfo": {
     "elapsed": 30,
     "status": "ok",
     "timestamp": 1689006383926,
     "user": {
      "displayName": "Gustavo Robl Zitta",
      "userId": "12496481005659581268"
     },
     "user_tz": 180
    },
    "id": "De9nvjGIynrB",
    "outputId": "6d7ebff7-b398-4638-c8c1-5db35147d2c7",
    "papermill": {
     "duration": 0.037429,
     "end_time": "2023-07-31T18:52:55.225536",
     "exception": false,
     "start_time": "2023-07-31T18:52:55.188107",
     "status": "completed"
    },
    "tags": []
   },
   "outputs": [
    {
     "data": {
      "text/plain": [
       "tensor([7, 8])"
      ]
     },
     "execution_count": 9,
     "metadata": {},
     "output_type": "execute_result"
    }
   ],
   "source": [
    "matrix[0]"
   ]
  },
  {
   "cell_type": "markdown",
   "id": "d8d0ce07",
   "metadata": {
    "id": "5va6CfrezJsd",
    "papermill": {
     "duration": 0.027619,
     "end_time": "2023-07-31T18:52:55.281403",
     "exception": false,
     "start_time": "2023-07-31T18:52:55.253784",
     "status": "completed"
    },
    "tags": []
   },
   "source": [
    "### TENSOR"
   ]
  },
  {
   "cell_type": "code",
   "execution_count": 10,
   "id": "87a7c644",
   "metadata": {
    "execution": {
     "iopub.execute_input": "2023-07-31T18:52:55.339784Z",
     "iopub.status.busy": "2023-07-31T18:52:55.338881Z",
     "iopub.status.idle": "2023-07-31T18:52:55.346485Z",
     "shell.execute_reply": "2023-07-31T18:52:55.345521Z"
    },
    "executionInfo": {
     "elapsed": 28,
     "status": "ok",
     "timestamp": 1689006383926,
     "user": {
      "displayName": "Gustavo Robl Zitta",
      "userId": "12496481005659581268"
     },
     "user_tz": 180
    },
    "id": "mz7SrhKcy2cd",
    "outputId": "4e4aec03-8f2f-49b7-b2b1-f98f290e9e0f",
    "papermill": {
     "duration": 0.039223,
     "end_time": "2023-07-31T18:52:55.348477",
     "exception": false,
     "start_time": "2023-07-31T18:52:55.309254",
     "status": "completed"
    },
    "tags": []
   },
   "outputs": [
    {
     "data": {
      "text/plain": [
       "tensor([[[1, 2, 3],\n",
       "         [4, 5, 6],\n",
       "         [7, 8, 9]]])"
      ]
     },
     "execution_count": 10,
     "metadata": {},
     "output_type": "execute_result"
    }
   ],
   "source": [
    "tensor = torch.tensor([[[1,2,3],\n",
    "                        [4,5,6],\n",
    "                        [7,8,9]]])\n",
    "tensor\n"
   ]
  },
  {
   "cell_type": "code",
   "execution_count": 11,
   "id": "300c4334",
   "metadata": {
    "execution": {
     "iopub.execute_input": "2023-07-31T18:52:55.407368Z",
     "iopub.status.busy": "2023-07-31T18:52:55.406581Z",
     "iopub.status.idle": "2023-07-31T18:52:55.412756Z",
     "shell.execute_reply": "2023-07-31T18:52:55.411598Z"
    },
    "executionInfo": {
     "elapsed": 26,
     "status": "ok",
     "timestamp": 1689006383926,
     "user": {
      "displayName": "Gustavo Robl Zitta",
      "userId": "12496481005659581268"
     },
     "user_tz": 180
    },
    "id": "v6ZJrJD9zakN",
    "outputId": "01d93db3-b2df-4885-b4e8-26216dc58fad",
    "papermill": {
     "duration": 0.038176,
     "end_time": "2023-07-31T18:52:55.414904",
     "exception": false,
     "start_time": "2023-07-31T18:52:55.376728",
     "status": "completed"
    },
    "tags": []
   },
   "outputs": [
    {
     "data": {
      "text/plain": [
       "3"
      ]
     },
     "execution_count": 11,
     "metadata": {},
     "output_type": "execute_result"
    }
   ],
   "source": [
    "tensor.ndim"
   ]
  },
  {
   "cell_type": "code",
   "execution_count": 12,
   "id": "145446b4",
   "metadata": {
    "execution": {
     "iopub.execute_input": "2023-07-31T18:52:55.474419Z",
     "iopub.status.busy": "2023-07-31T18:52:55.473457Z",
     "iopub.status.idle": "2023-07-31T18:52:55.480064Z",
     "shell.execute_reply": "2023-07-31T18:52:55.478890Z"
    },
    "executionInfo": {
     "elapsed": 24,
     "status": "ok",
     "timestamp": 1689006383926,
     "user": {
      "displayName": "Gustavo Robl Zitta",
      "userId": "12496481005659581268"
     },
     "user_tz": 180
    },
    "id": "DXcB525zzfMf",
    "outputId": "a04a3119-6c92-4a85-ede3-67d3823f2112",
    "papermill": {
     "duration": 0.038106,
     "end_time": "2023-07-31T18:52:55.482065",
     "exception": false,
     "start_time": "2023-07-31T18:52:55.443959",
     "status": "completed"
    },
    "tags": []
   },
   "outputs": [
    {
     "data": {
      "text/plain": [
       "torch.Size([1, 3, 3])"
      ]
     },
     "execution_count": 12,
     "metadata": {},
     "output_type": "execute_result"
    }
   ],
   "source": [
    "tensor.shape"
   ]
  },
  {
   "cell_type": "markdown",
   "id": "67c4f974",
   "metadata": {
    "id": "GgLuOWOo1rIm",
    "papermill": {
     "duration": 0.028614,
     "end_time": "2023-07-31T18:52:55.539368",
     "exception": false,
     "start_time": "2023-07-31T18:52:55.510754",
     "status": "completed"
    },
    "tags": []
   },
   "source": [
    "## Random tensors"
   ]
  },
  {
   "cell_type": "markdown",
   "id": "685080f1",
   "metadata": {
    "id": "dCuh3UzC1ukr",
    "papermill": {
     "duration": 0.0286,
     "end_time": "2023-07-31T18:52:55.597012",
     "exception": false,
     "start_time": "2023-07-31T18:52:55.568412",
     "status": "completed"
    },
    "tags": []
   },
   "source": [
    "### Creating random tensors"
   ]
  },
  {
   "cell_type": "code",
   "execution_count": 13,
   "id": "65fdef3d",
   "metadata": {
    "execution": {
     "iopub.execute_input": "2023-07-31T18:52:55.656777Z",
     "iopub.status.busy": "2023-07-31T18:52:55.655826Z",
     "iopub.status.idle": "2023-07-31T18:52:55.699224Z",
     "shell.execute_reply": "2023-07-31T18:52:55.698279Z"
    },
    "executionInfo": {
     "elapsed": 23,
     "status": "ok",
     "timestamp": 1689006383927,
     "user": {
      "displayName": "Gustavo Robl Zitta",
      "userId": "12496481005659581268"
     },
     "user_tz": 180
    },
    "id": "-AvpWeiV1x2N",
    "outputId": "e57f907b-15cb-4977-bbc6-a0d9fd55b9d8",
    "papermill": {
     "duration": 0.075493,
     "end_time": "2023-07-31T18:52:55.701361",
     "exception": false,
     "start_time": "2023-07-31T18:52:55.625868",
     "status": "completed"
    },
    "tags": []
   },
   "outputs": [
    {
     "data": {
      "text/plain": [
       "tensor([[0.2945, 0.6034, 0.6568, 0.9516],\n",
       "        [0.5850, 0.1804, 0.2347, 0.4958],\n",
       "        [0.0412, 0.1573, 0.2614, 0.7617]])"
      ]
     },
     "execution_count": 13,
     "metadata": {},
     "output_type": "execute_result"
    }
   ],
   "source": [
    "#create a tensor with 3 rows and 4 columns\n",
    "random_tensor = torch.rand(3,4) #rand creates a tensor in the range of 0 to 1\n",
    "random_tensor"
   ]
  },
  {
   "cell_type": "code",
   "execution_count": 14,
   "id": "6b5b7a15",
   "metadata": {
    "execution": {
     "iopub.execute_input": "2023-07-31T18:52:55.761733Z",
     "iopub.status.busy": "2023-07-31T18:52:55.761377Z",
     "iopub.status.idle": "2023-07-31T18:52:55.767378Z",
     "shell.execute_reply": "2023-07-31T18:52:55.766448Z"
    },
    "executionInfo": {
     "elapsed": 21,
     "status": "ok",
     "timestamp": 1689006383927,
     "user": {
      "displayName": "Gustavo Robl Zitta",
      "userId": "12496481005659581268"
     },
     "user_tz": 180
    },
    "id": "yjgbNtzG17eu",
    "outputId": "2106dafd-ae79-429d-938b-4c53d8130e14",
    "papermill": {
     "duration": 0.038813,
     "end_time": "2023-07-31T18:52:55.769511",
     "exception": false,
     "start_time": "2023-07-31T18:52:55.730698",
     "status": "completed"
    },
    "tags": []
   },
   "outputs": [
    {
     "data": {
      "text/plain": [
       "2"
      ]
     },
     "execution_count": 14,
     "metadata": {},
     "output_type": "execute_result"
    }
   ],
   "source": [
    "random_tensor.ndim"
   ]
  },
  {
   "cell_type": "code",
   "execution_count": 15,
   "id": "5c0617a3",
   "metadata": {
    "execution": {
     "iopub.execute_input": "2023-07-31T18:52:55.830414Z",
     "iopub.status.busy": "2023-07-31T18:52:55.829459Z",
     "iopub.status.idle": "2023-07-31T18:52:55.837863Z",
     "shell.execute_reply": "2023-07-31T18:52:55.836698Z"
    },
    "executionInfo": {
     "elapsed": 19,
     "status": "ok",
     "timestamp": 1689006383927,
     "user": {
      "displayName": "Gustavo Robl Zitta",
      "userId": "12496481005659581268"
     },
     "user_tz": 180
    },
    "id": "NwQ_dXKS2fPq",
    "outputId": "ed9db4f6-7351-4a33-e7ca-5fb3b873947c",
    "papermill": {
     "duration": 0.041118,
     "end_time": "2023-07-31T18:52:55.839985",
     "exception": false,
     "start_time": "2023-07-31T18:52:55.798867",
     "status": "completed"
    },
    "tags": []
   },
   "outputs": [
    {
     "name": "stdout",
     "output_type": "stream",
     "text": [
      "shape: torch.Size([224, 224, 3])\n",
      "dimensions: 3\n"
     ]
    }
   ],
   "source": [
    "#create a random tensor with similar shape to an image tensor\n",
    "random_image_size_tensor = torch.rand(size=(224,224,3))  #height, width, color channels(RGB)\n",
    "print('shape:',random_image_size_tensor.shape)\n",
    "print('dimensions:',random_image_size_tensor.ndim)"
   ]
  },
  {
   "cell_type": "markdown",
   "id": "4cff395a",
   "metadata": {
    "id": "RGmIQZOq5fPF",
    "papermill": {
     "duration": 0.029082,
     "end_time": "2023-07-31T18:52:55.898042",
     "exception": false,
     "start_time": "2023-07-31T18:52:55.868960",
     "status": "completed"
    },
    "tags": []
   },
   "source": [
    "### ZEROS and ONES tensors"
   ]
  },
  {
   "cell_type": "code",
   "execution_count": 16,
   "id": "25a0eb41",
   "metadata": {
    "execution": {
     "iopub.execute_input": "2023-07-31T18:52:55.957687Z",
     "iopub.status.busy": "2023-07-31T18:52:55.957368Z",
     "iopub.status.idle": "2023-07-31T18:52:55.965433Z",
     "shell.execute_reply": "2023-07-31T18:52:55.964476Z"
    },
    "executionInfo": {
     "elapsed": 18,
     "status": "ok",
     "timestamp": 1689006383928,
     "user": {
      "displayName": "Gustavo Robl Zitta",
      "userId": "12496481005659581268"
     },
     "user_tz": 180
    },
    "id": "tWE5tH-i3Kp8",
    "outputId": "5cf66cf6-8369-4827-9ba3-38f680c1a282",
    "papermill": {
     "duration": 0.040551,
     "end_time": "2023-07-31T18:52:55.967468",
     "exception": false,
     "start_time": "2023-07-31T18:52:55.926917",
     "status": "completed"
    },
    "tags": []
   },
   "outputs": [
    {
     "data": {
      "text/plain": [
       "tensor([[0., 0., 0., 0.],\n",
       "        [0., 0., 0., 0.],\n",
       "        [0., 0., 0., 0.]])"
      ]
     },
     "execution_count": 16,
     "metadata": {},
     "output_type": "execute_result"
    }
   ],
   "source": [
    "# create a tensor of all zeros\n",
    "zeros = torch.zeros(size=(3,4))\n",
    "zeros"
   ]
  },
  {
   "cell_type": "code",
   "execution_count": 17,
   "id": "c3b34798",
   "metadata": {
    "execution": {
     "iopub.execute_input": "2023-07-31T18:52:56.031664Z",
     "iopub.status.busy": "2023-07-31T18:52:56.030797Z",
     "iopub.status.idle": "2023-07-31T18:52:56.037871Z",
     "shell.execute_reply": "2023-07-31T18:52:56.036780Z"
    },
    "executionInfo": {
     "elapsed": 16,
     "status": "ok",
     "timestamp": 1689006383928,
     "user": {
      "displayName": "Gustavo Robl Zitta",
      "userId": "12496481005659581268"
     },
     "user_tz": 180
    },
    "id": "p12f6ENy6Lxd",
    "outputId": "1beeeca2-4d99-4478-8dfe-970ef1e0e8e1",
    "papermill": {
     "duration": 0.042271,
     "end_time": "2023-07-31T18:52:56.039884",
     "exception": false,
     "start_time": "2023-07-31T18:52:55.997613",
     "status": "completed"
    },
    "tags": []
   },
   "outputs": [
    {
     "data": {
      "text/plain": [
       "tensor([[0., 0., 0., 0.],\n",
       "        [0., 0., 0., 0.],\n",
       "        [0., 0., 0., 0.]])"
      ]
     },
     "execution_count": 17,
     "metadata": {},
     "output_type": "execute_result"
    }
   ],
   "source": [
    "zeros*random_tensor"
   ]
  },
  {
   "cell_type": "code",
   "execution_count": 18,
   "id": "d9737a7d",
   "metadata": {
    "execution": {
     "iopub.execute_input": "2023-07-31T18:52:56.101133Z",
     "iopub.status.busy": "2023-07-31T18:52:56.100848Z",
     "iopub.status.idle": "2023-07-31T18:52:56.107584Z",
     "shell.execute_reply": "2023-07-31T18:52:56.106675Z"
    },
    "executionInfo": {
     "elapsed": 492,
     "status": "ok",
     "timestamp": 1689006384407,
     "user": {
      "displayName": "Gustavo Robl Zitta",
      "userId": "12496481005659581268"
     },
     "user_tz": 180
    },
    "id": "KC3Hjk-r6ZJG",
    "outputId": "89eb74a5-ce72-4479-b5d7-5899eb4a965f",
    "papermill": {
     "duration": 0.039733,
     "end_time": "2023-07-31T18:52:56.109624",
     "exception": false,
     "start_time": "2023-07-31T18:52:56.069891",
     "status": "completed"
    },
    "tags": []
   },
   "outputs": [
    {
     "data": {
      "text/plain": [
       "tensor([[0., 0., 0., 0.],\n",
       "        [0., 0., 0., 0.],\n",
       "        [0., 0., 0., 0.]])"
      ]
     },
     "execution_count": 18,
     "metadata": {},
     "output_type": "execute_result"
    }
   ],
   "source": [
    "# create a tensor of all ones\n",
    "ones = torch.zeros(3,4)\n",
    "ones"
   ]
  },
  {
   "cell_type": "code",
   "execution_count": 19,
   "id": "cc91d11d",
   "metadata": {
    "execution": {
     "iopub.execute_input": "2023-07-31T18:52:56.171231Z",
     "iopub.status.busy": "2023-07-31T18:52:56.170369Z",
     "iopub.status.idle": "2023-07-31T18:52:56.176565Z",
     "shell.execute_reply": "2023-07-31T18:52:56.175587Z"
    },
    "executionInfo": {
     "elapsed": 75,
     "status": "ok",
     "timestamp": 1689006384407,
     "user": {
      "displayName": "Gustavo Robl Zitta",
      "userId": "12496481005659581268"
     },
     "user_tz": 180
    },
    "id": "AzbhJu1H6rtY",
    "outputId": "b1e8e9cb-f195-46f5-ae17-3bffcc999e0b",
    "papermill": {
     "duration": 0.038629,
     "end_time": "2023-07-31T18:52:56.178552",
     "exception": false,
     "start_time": "2023-07-31T18:52:56.139923",
     "status": "completed"
    },
    "tags": []
   },
   "outputs": [
    {
     "data": {
      "text/plain": [
       "torch.float32"
      ]
     },
     "execution_count": 19,
     "metadata": {},
     "output_type": "execute_result"
    }
   ],
   "source": [
    "ones.dtype"
   ]
  },
  {
   "cell_type": "markdown",
   "id": "a893ba37",
   "metadata": {
    "id": "m1Z30ymd6_6g",
    "papermill": {
     "duration": 0.029704,
     "end_time": "2023-07-31T18:52:56.238151",
     "exception": false,
     "start_time": "2023-07-31T18:52:56.208447",
     "status": "completed"
    },
    "tags": []
   },
   "source": [
    "### creating a range of tensors and tensors-like"
   ]
  },
  {
   "cell_type": "code",
   "execution_count": 20,
   "id": "dcbf4172",
   "metadata": {
    "execution": {
     "iopub.execute_input": "2023-07-31T18:52:56.300017Z",
     "iopub.status.busy": "2023-07-31T18:52:56.299131Z",
     "iopub.status.idle": "2023-07-31T18:52:56.308489Z",
     "shell.execute_reply": "2023-07-31T18:52:56.307547Z"
    },
    "executionInfo": {
     "elapsed": 74,
     "status": "ok",
     "timestamp": 1689006384407,
     "user": {
      "displayName": "Gustavo Robl Zitta",
      "userId": "12496481005659581268"
     },
     "user_tz": 180
    },
    "id": "6hSotadX6tq4",
    "outputId": "8da081f1-6534-47eb-ee8a-689fe476f7a0",
    "papermill": {
     "duration": 0.042302,
     "end_time": "2023-07-31T18:52:56.310432",
     "exception": false,
     "start_time": "2023-07-31T18:52:56.268130",
     "status": "completed"
    },
    "tags": []
   },
   "outputs": [
    {
     "data": {
      "text/plain": [
       "tensor([0, 1, 2, 3, 4, 5, 6, 7, 8, 9])"
      ]
     },
     "execution_count": 20,
     "metadata": {},
     "output_type": "execute_result"
    }
   ],
   "source": [
    "# use torch.range\n",
    "one_to_ten=torch.arange(0,10)\n",
    "one_to_ten"
   ]
  },
  {
   "cell_type": "code",
   "execution_count": 21,
   "id": "ad56b4c7",
   "metadata": {
    "execution": {
     "iopub.execute_input": "2023-07-31T18:52:56.374149Z",
     "iopub.status.busy": "2023-07-31T18:52:56.373331Z",
     "iopub.status.idle": "2023-07-31T18:52:56.380293Z",
     "shell.execute_reply": "2023-07-31T18:52:56.379102Z"
    },
    "executionInfo": {
     "elapsed": 72,
     "status": "ok",
     "timestamp": 1689006384407,
     "user": {
      "displayName": "Gustavo Robl Zitta",
      "userId": "12496481005659581268"
     },
     "user_tz": 180
    },
    "id": "ddTmoRyD7OPO",
    "outputId": "51243b84-a29a-465a-c7d3-9f9e1bc6590f",
    "papermill": {
     "duration": 0.042226,
     "end_time": "2023-07-31T18:52:56.382394",
     "exception": false,
     "start_time": "2023-07-31T18:52:56.340168",
     "status": "completed"
    },
    "tags": []
   },
   "outputs": [
    {
     "data": {
      "text/plain": [
       "tensor([0, 0, 0, 0, 0, 0, 0, 0, 0, 0])"
      ]
     },
     "execution_count": 21,
     "metadata": {},
     "output_type": "execute_result"
    }
   ],
   "source": [
    "#creating tensors like\n",
    "ten_zeros = torch.zeros_like(one_to_ten)\n",
    "ten_zeros"
   ]
  },
  {
   "cell_type": "code",
   "execution_count": null,
   "id": "4d2756bc",
   "metadata": {
    "executionInfo": {
     "elapsed": 71,
     "status": "ok",
     "timestamp": 1689006384408,
     "user": {
      "displayName": "Gustavo Robl Zitta",
      "userId": "12496481005659581268"
     },
     "user_tz": 180
    },
    "id": "Dfo3bxuz8Rrx",
    "papermill": {
     "duration": 0.030333,
     "end_time": "2023-07-31T18:52:56.442686",
     "exception": false,
     "start_time": "2023-07-31T18:52:56.412353",
     "status": "completed"
    },
    "tags": []
   },
   "outputs": [],
   "source": []
  },
  {
   "cell_type": "markdown",
   "id": "451be3aa",
   "metadata": {
    "id": "vfUTFX3v9fiF",
    "papermill": {
     "duration": 0.032849,
     "end_time": "2023-07-31T18:52:56.506324",
     "exception": false,
     "start_time": "2023-07-31T18:52:56.473475",
     "status": "completed"
    },
    "tags": []
   },
   "source": [
    "## Tensor datatypes\n",
    "\n",
    "**Note:** Tensors datatypes is one of the 3 big issues with PyTorch and deep learling\n",
    "1. Tensors not right datatype\n",
    "2. Tensors not right shape\n",
    "3. Tensors not on the right device"
   ]
  },
  {
   "cell_type": "code",
   "execution_count": 22,
   "id": "e1cda36e",
   "metadata": {
    "execution": {
     "iopub.execute_input": "2023-07-31T18:52:56.569637Z",
     "iopub.status.busy": "2023-07-31T18:52:56.569281Z",
     "iopub.status.idle": "2023-07-31T18:52:56.577241Z",
     "shell.execute_reply": "2023-07-31T18:52:56.576237Z"
    },
    "executionInfo": {
     "elapsed": 70,
     "status": "ok",
     "timestamp": 1689006384408,
     "user": {
      "displayName": "Gustavo Robl Zitta",
      "userId": "12496481005659581268"
     },
     "user_tz": 180
    },
    "id": "FOczEUOV9iNp",
    "outputId": "a9dabed5-5b9c-49a3-e57b-bac413b9ce1d",
    "papermill": {
     "duration": 0.042364,
     "end_time": "2023-07-31T18:52:56.579432",
     "exception": false,
     "start_time": "2023-07-31T18:52:56.537068",
     "status": "completed"
    },
    "tags": []
   },
   "outputs": [
    {
     "data": {
      "text/plain": [
       "tensor([3., 6., 9.])"
      ]
     },
     "execution_count": 22,
     "metadata": {},
     "output_type": "execute_result"
    }
   ],
   "source": [
    "#float32 tensors\n",
    "float_32_tensor = torch.tensor([3.0,6.0,9.0],\n",
    "                               dtype=None, #what datatype is the tensor(e.g. float 32 or float 16)\n",
    "                               device=None, #what device is your tensor on\n",
    "                               requires_grad=False) #wheter or not to track gradients with this tensors operations\n",
    "float_32_tensor"
   ]
  },
  {
   "cell_type": "code",
   "execution_count": 23,
   "id": "b97728fc",
   "metadata": {
    "execution": {
     "iopub.execute_input": "2023-07-31T18:52:56.643201Z",
     "iopub.status.busy": "2023-07-31T18:52:56.642849Z",
     "iopub.status.idle": "2023-07-31T18:52:56.648670Z",
     "shell.execute_reply": "2023-07-31T18:52:56.647792Z"
    },
    "executionInfo": {
     "elapsed": 68,
     "status": "ok",
     "timestamp": 1689006384408,
     "user": {
      "displayName": "Gustavo Robl Zitta",
      "userId": "12496481005659581268"
     },
     "user_tz": 180
    },
    "id": "90BVA_oo9whR",
    "outputId": "96b64cc1-fbab-43e6-de37-f47bbb67e0bf",
    "papermill": {
     "duration": 0.040274,
     "end_time": "2023-07-31T18:52:56.650817",
     "exception": false,
     "start_time": "2023-07-31T18:52:56.610543",
     "status": "completed"
    },
    "tags": []
   },
   "outputs": [
    {
     "data": {
      "text/plain": [
       "torch.float32"
      ]
     },
     "execution_count": 23,
     "metadata": {},
     "output_type": "execute_result"
    }
   ],
   "source": [
    "float_32_tensor.dtype"
   ]
  },
  {
   "cell_type": "markdown",
   "id": "24527acd",
   "metadata": {
    "id": "lPsHkgvbGJcy",
    "papermill": {
     "duration": 0.03162,
     "end_time": "2023-07-31T18:52:56.713760",
     "exception": false,
     "start_time": "2023-07-31T18:52:56.682140",
     "status": "completed"
    },
    "tags": []
   },
   "source": [
    "### transforming float 32 tensor to float 16 tensor"
   ]
  },
  {
   "cell_type": "code",
   "execution_count": 24,
   "id": "097208ce",
   "metadata": {
    "execution": {
     "iopub.execute_input": "2023-07-31T18:52:56.778778Z",
     "iopub.status.busy": "2023-07-31T18:52:56.778422Z",
     "iopub.status.idle": "2023-07-31T18:52:56.788065Z",
     "shell.execute_reply": "2023-07-31T18:52:56.786944Z"
    },
    "executionInfo": {
     "elapsed": 66,
     "status": "ok",
     "timestamp": 1689006384408,
     "user": {
      "displayName": "Gustavo Robl Zitta",
      "userId": "12496481005659581268"
     },
     "user_tz": 180
    },
    "id": "tRdG2ZuI90Va",
    "outputId": "53cd2e4a-c356-4e7e-fd81-8f8e27a65a05",
    "papermill": {
     "duration": 0.044818,
     "end_time": "2023-07-31T18:52:56.790328",
     "exception": false,
     "start_time": "2023-07-31T18:52:56.745510",
     "status": "completed"
    },
    "tags": []
   },
   "outputs": [
    {
     "data": {
      "text/plain": [
       "torch.float16"
      ]
     },
     "execution_count": 24,
     "metadata": {},
     "output_type": "execute_result"
    }
   ],
   "source": [
    "float_16_tensor = float_32_tensor.type(torch.float16)\n",
    "float_16_tensor.dtype"
   ]
  },
  {
   "cell_type": "code",
   "execution_count": 25,
   "id": "07d6ca34",
   "metadata": {
    "execution": {
     "iopub.execute_input": "2023-07-31T18:52:56.856118Z",
     "iopub.status.busy": "2023-07-31T18:52:56.855749Z",
     "iopub.status.idle": "2023-07-31T18:52:56.862662Z",
     "shell.execute_reply": "2023-07-31T18:52:56.861672Z"
    },
    "executionInfo": {
     "elapsed": 65,
     "status": "ok",
     "timestamp": 1689006384408,
     "user": {
      "displayName": "Gustavo Robl Zitta",
      "userId": "12496481005659581268"
     },
     "user_tz": 180
    },
    "id": "DFQbbdI7Fyeq",
    "outputId": "ceffeac3-6fa2-4c20-ef9b-e54fdcddbb99",
    "papermill": {
     "duration": 0.041442,
     "end_time": "2023-07-31T18:52:56.864749",
     "exception": false,
     "start_time": "2023-07-31T18:52:56.823307",
     "status": "completed"
    },
    "tags": []
   },
   "outputs": [
    {
     "data": {
      "text/plain": [
       "torch.float32"
      ]
     },
     "execution_count": 25,
     "metadata": {},
     "output_type": "execute_result"
    }
   ],
   "source": [
    "(float_16_tensor*float_32_tensor).dtype"
   ]
  },
  {
   "cell_type": "markdown",
   "id": "8515e66f",
   "metadata": {
    "id": "yLPtirgzGgjz",
    "papermill": {
     "duration": 0.031497,
     "end_time": "2023-07-31T18:52:56.928890",
     "exception": false,
     "start_time": "2023-07-31T18:52:56.897393",
     "status": "completed"
    },
    "tags": []
   },
   "source": [
    "### Getting information from tensors\n",
    "\n",
    "1. Tensors not right datatype          = tensor.dtype\n",
    "2. Tensors not right shape             = tensor.shape\n",
    "3. Tensors not on the right device     = tensor.device"
   ]
  },
  {
   "cell_type": "code",
   "execution_count": 26,
   "id": "8b69ad77",
   "metadata": {
    "execution": {
     "iopub.execute_input": "2023-07-31T18:52:56.993848Z",
     "iopub.status.busy": "2023-07-31T18:52:56.993160Z",
     "iopub.status.idle": "2023-07-31T18:52:57.001093Z",
     "shell.execute_reply": "2023-07-31T18:52:57.000157Z"
    },
    "executionInfo": {
     "elapsed": 63,
     "status": "ok",
     "timestamp": 1689006384409,
     "user": {
      "displayName": "Gustavo Robl Zitta",
      "userId": "12496481005659581268"
     },
     "user_tz": 180
    },
    "id": "pVEpA68-KF4G",
    "outputId": "cff1109f-e17d-40ae-9315-84498a5b83b1",
    "papermill": {
     "duration": 0.042653,
     "end_time": "2023-07-31T18:52:57.003126",
     "exception": false,
     "start_time": "2023-07-31T18:52:56.960473",
     "status": "completed"
    },
    "tags": []
   },
   "outputs": [
    {
     "data": {
      "text/plain": [
       "tensor([[0.2541, 0.1253, 0.6007, 0.1168],\n",
       "        [0.5740, 0.8694, 0.8594, 0.7899],\n",
       "        [0.0433, 0.6329, 0.0387, 0.2010]])"
      ]
     },
     "execution_count": 26,
     "metadata": {},
     "output_type": "execute_result"
    }
   ],
   "source": [
    "#create a tensor\n",
    "some_tensor = torch.rand(3,4)\n",
    "some_tensor"
   ]
  },
  {
   "cell_type": "code",
   "execution_count": 27,
   "id": "aaa57a8e",
   "metadata": {
    "execution": {
     "iopub.execute_input": "2023-07-31T18:52:57.071226Z",
     "iopub.status.busy": "2023-07-31T18:52:57.070857Z",
     "iopub.status.idle": "2023-07-31T18:52:57.077483Z",
     "shell.execute_reply": "2023-07-31T18:52:57.076332Z"
    },
    "executionInfo": {
     "elapsed": 61,
     "status": "ok",
     "timestamp": 1689006384409,
     "user": {
      "displayName": "Gustavo Robl Zitta",
      "userId": "12496481005659581268"
     },
     "user_tz": 180
    },
    "id": "2x9NXDmVKba1",
    "outputId": "22ff9835-6896-414c-9b9a-419f2c1fe3ba",
    "papermill": {
     "duration": 0.042573,
     "end_time": "2023-07-31T18:52:57.079576",
     "exception": false,
     "start_time": "2023-07-31T18:52:57.037003",
     "status": "completed"
    },
    "tags": []
   },
   "outputs": [
    {
     "name": "stdout",
     "output_type": "stream",
     "text": [
      "dtype: torch.float32\n",
      "shape: torch.Size([3, 4]) or size: torch.Size([3, 4])\n",
      "device: cpu\n"
     ]
    }
   ],
   "source": [
    "print('dtype:',some_tensor.dtype)\n",
    "print('shape:',some_tensor.shape, 'or size:', some_tensor.size())\n",
    "print('device:',some_tensor.device)"
   ]
  },
  {
   "cell_type": "markdown",
   "id": "3471f436",
   "metadata": {
    "id": "BhzMXmI9Mu5y",
    "papermill": {
     "duration": 0.032069,
     "end_time": "2023-07-31T18:52:57.144264",
     "exception": false,
     "start_time": "2023-07-31T18:52:57.112195",
     "status": "completed"
    },
    "tags": []
   },
   "source": [
    "## Manipulating Tensors (tensor operations)\n",
    "Tensor operations include:\n",
    "* Addition\n",
    "* Subtraction\n",
    "* Multiplication\n",
    "* Division\n",
    "* Matrix multiplication"
   ]
  },
  {
   "cell_type": "code",
   "execution_count": 28,
   "id": "18f54543",
   "metadata": {
    "execution": {
     "iopub.execute_input": "2023-07-31T18:52:57.210101Z",
     "iopub.status.busy": "2023-07-31T18:52:57.209739Z",
     "iopub.status.idle": "2023-07-31T18:52:57.214390Z",
     "shell.execute_reply": "2023-07-31T18:52:57.213378Z"
    },
    "executionInfo": {
     "elapsed": 59,
     "status": "ok",
     "timestamp": 1689006384409,
     "user": {
      "displayName": "Gustavo Robl Zitta",
      "userId": "12496481005659581268"
     },
     "user_tz": 180
    },
    "id": "hu8YWuVoM0z6",
    "papermill": {
     "duration": 0.039749,
     "end_time": "2023-07-31T18:52:57.216386",
     "exception": false,
     "start_time": "2023-07-31T18:52:57.176637",
     "status": "completed"
    },
    "tags": []
   },
   "outputs": [],
   "source": [
    "#create tensor\n",
    "tensor = torch.tensor([1,2,3])"
   ]
  },
  {
   "cell_type": "code",
   "execution_count": 29,
   "id": "f69893df",
   "metadata": {
    "execution": {
     "iopub.execute_input": "2023-07-31T18:52:57.281901Z",
     "iopub.status.busy": "2023-07-31T18:52:57.281062Z",
     "iopub.status.idle": "2023-07-31T18:52:57.289714Z",
     "shell.execute_reply": "2023-07-31T18:52:57.288706Z"
    },
    "executionInfo": {
     "elapsed": 59,
     "status": "ok",
     "timestamp": 1689006384409,
     "user": {
      "displayName": "Gustavo Robl Zitta",
      "userId": "12496481005659581268"
     },
     "user_tz": 180
    },
    "id": "1Ny6_afVRXgt",
    "outputId": "d081d700-542a-4d6e-9d75-deec2e71b3ac",
    "papermill": {
     "duration": 0.04358,
     "end_time": "2023-07-31T18:52:57.291773",
     "exception": false,
     "start_time": "2023-07-31T18:52:57.248193",
     "status": "completed"
    },
    "tags": []
   },
   "outputs": [
    {
     "data": {
      "text/plain": [
       "tensor([11, 12, 13])"
      ]
     },
     "execution_count": 29,
     "metadata": {},
     "output_type": "execute_result"
    }
   ],
   "source": [
    "#addition\n",
    "tensor+10"
   ]
  },
  {
   "cell_type": "code",
   "execution_count": 30,
   "id": "631b1016",
   "metadata": {
    "execution": {
     "iopub.execute_input": "2023-07-31T18:52:57.358091Z",
     "iopub.status.busy": "2023-07-31T18:52:57.357129Z",
     "iopub.status.idle": "2023-07-31T18:52:57.365957Z",
     "shell.execute_reply": "2023-07-31T18:52:57.364956Z"
    },
    "executionInfo": {
     "elapsed": 58,
     "status": "ok",
     "timestamp": 1689006384410,
     "user": {
      "displayName": "Gustavo Robl Zitta",
      "userId": "12496481005659581268"
     },
     "user_tz": 180
    },
    "id": "dRtZMa8tRlto",
    "outputId": "47a3e0d5-c274-4849-c3ed-5e6c972b636b",
    "papermill": {
     "duration": 0.043698,
     "end_time": "2023-07-31T18:52:57.367952",
     "exception": false,
     "start_time": "2023-07-31T18:52:57.324254",
     "status": "completed"
    },
    "tags": []
   },
   "outputs": [
    {
     "data": {
      "text/plain": [
       "tensor([-9, -8, -7])"
      ]
     },
     "execution_count": 30,
     "metadata": {},
     "output_type": "execute_result"
    }
   ],
   "source": [
    "#Subtraction\n",
    "tensor-10"
   ]
  },
  {
   "cell_type": "code",
   "execution_count": 31,
   "id": "ba023222",
   "metadata": {
    "execution": {
     "iopub.execute_input": "2023-07-31T18:52:57.434459Z",
     "iopub.status.busy": "2023-07-31T18:52:57.433616Z",
     "iopub.status.idle": "2023-07-31T18:52:57.442298Z",
     "shell.execute_reply": "2023-07-31T18:52:57.441278Z"
    },
    "executionInfo": {
     "elapsed": 56,
     "status": "ok",
     "timestamp": 1689006384410,
     "user": {
      "displayName": "Gustavo Robl Zitta",
      "userId": "12496481005659581268"
     },
     "user_tz": 180
    },
    "id": "D6ixzHRtR1nu",
    "outputId": "399c50d5-9562-4dda-b7fb-c2613a8f8462",
    "papermill": {
     "duration": 0.043619,
     "end_time": "2023-07-31T18:52:57.444244",
     "exception": false,
     "start_time": "2023-07-31T18:52:57.400625",
     "status": "completed"
    },
    "tags": []
   },
   "outputs": [
    {
     "data": {
      "text/plain": [
       "tensor([2, 4, 6])"
      ]
     },
     "execution_count": 31,
     "metadata": {},
     "output_type": "execute_result"
    }
   ],
   "source": [
    "#Multiplication\n",
    "tensor*2"
   ]
  },
  {
   "cell_type": "code",
   "execution_count": 32,
   "id": "5c7eda65",
   "metadata": {
    "execution": {
     "iopub.execute_input": "2023-07-31T18:52:57.513163Z",
     "iopub.status.busy": "2023-07-31T18:52:57.512199Z",
     "iopub.status.idle": "2023-07-31T18:52:57.519555Z",
     "shell.execute_reply": "2023-07-31T18:52:57.518599Z"
    },
    "executionInfo": {
     "elapsed": 54,
     "status": "ok",
     "timestamp": 1689006384410,
     "user": {
      "displayName": "Gustavo Robl Zitta",
      "userId": "12496481005659581268"
     },
     "user_tz": 180
    },
    "id": "-ih2H99JR6sN",
    "outputId": "39940497-8646-4750-f593-cd8cb7c7fcea",
    "papermill": {
     "duration": 0.044466,
     "end_time": "2023-07-31T18:52:57.521521",
     "exception": false,
     "start_time": "2023-07-31T18:52:57.477055",
     "status": "completed"
    },
    "tags": []
   },
   "outputs": [
    {
     "data": {
      "text/plain": [
       "tensor([0.5000, 1.0000, 1.5000])"
      ]
     },
     "execution_count": 32,
     "metadata": {},
     "output_type": "execute_result"
    }
   ],
   "source": [
    "#Division\n",
    "tensor/2"
   ]
  },
  {
   "cell_type": "code",
   "execution_count": 33,
   "id": "28660f84",
   "metadata": {
    "execution": {
     "iopub.execute_input": "2023-07-31T18:52:57.589897Z",
     "iopub.status.busy": "2023-07-31T18:52:57.588891Z",
     "iopub.status.idle": "2023-07-31T18:52:57.595961Z",
     "shell.execute_reply": "2023-07-31T18:52:57.595036Z"
    },
    "executionInfo": {
     "elapsed": 53,
     "status": "ok",
     "timestamp": 1689006384411,
     "user": {
      "displayName": "Gustavo Robl Zitta",
      "userId": "12496481005659581268"
     },
     "user_tz": 180
    },
    "id": "KqQyUhrDR_j9",
    "outputId": "89cdcb78-3cc1-4a62-c944-f401ccfe1b50",
    "papermill": {
     "duration": 0.043774,
     "end_time": "2023-07-31T18:52:57.598248",
     "exception": false,
     "start_time": "2023-07-31T18:52:57.554474",
     "status": "completed"
    },
    "tags": []
   },
   "outputs": [
    {
     "data": {
      "text/plain": [
       "tensor([  10,  200, 3000])"
      ]
     },
     "execution_count": 33,
     "metadata": {},
     "output_type": "execute_result"
    }
   ],
   "source": [
    "#Matrix multiplication\n",
    "tensor * torch.tensor([10,100,1000])"
   ]
  },
  {
   "cell_type": "code",
   "execution_count": 34,
   "id": "b2f4ec30",
   "metadata": {
    "execution": {
     "iopub.execute_input": "2023-07-31T18:52:57.666992Z",
     "iopub.status.busy": "2023-07-31T18:52:57.666031Z",
     "iopub.status.idle": "2023-07-31T18:52:57.673048Z",
     "shell.execute_reply": "2023-07-31T18:52:57.671730Z"
    },
    "executionInfo": {
     "elapsed": 50,
     "status": "ok",
     "timestamp": 1689006384411,
     "user": {
      "displayName": "Gustavo Robl Zitta",
      "userId": "12496481005659581268"
     },
     "user_tz": 180
    },
    "id": "dWDpwQKZSNiB",
    "outputId": "5ec4ff51-1a02-46bc-9190-270e16018661",
    "papermill": {
     "duration": 0.043978,
     "end_time": "2023-07-31T18:52:57.675030",
     "exception": false,
     "start_time": "2023-07-31T18:52:57.631052",
     "status": "completed"
    },
    "tags": []
   },
   "outputs": [
    {
     "name": "stdout",
     "output_type": "stream",
     "text": [
      "torch.mul: tensor([10, 20, 30])\n",
      "torch.add: tensor([6, 7, 8])\n"
     ]
    }
   ],
   "source": [
    "#try out pytorch in-built functions\n",
    "print('torch.mul:',torch.mul(tensor,10))\n",
    "print('torch.add:',torch.add(tensor,5))"
   ]
  },
  {
   "cell_type": "markdown",
   "id": "865d9d1d",
   "metadata": {
    "id": "SFPk8IAYUlde",
    "papermill": {
     "duration": 0.032826,
     "end_time": "2023-07-31T18:52:57.742221",
     "exception": false,
     "start_time": "2023-07-31T18:52:57.709395",
     "status": "completed"
    },
    "tags": []
   },
   "source": [
    "### Matrix multiplication\n",
    "\n",
    "Two main ways of performing multiplication in neural networks and deep learning\n",
    "\n",
    "1. Element-wise multiplication\n",
    "2. Matrix multiplication (dot product)\n",
    "\n",
    "\n",
    "1. The inner dimensions must match:\n",
    "  * (3, 2) @ (3, 2) won't work\n",
    "  * (2, 3) @ (3, 2) will work\n",
    "  * (3, 2) @ (2, 3) will work\n",
    "\n",
    "2. The resulting matrix has the shape of the outer dimensions:\n",
    "  * (2, 3) @ (3, 2) -> (2, 2)\n",
    "  * (3, 2) @ (2, 3) -> (3, 3)\n",
    "\n",
    "Note: \"@\" in Python is the symbol for matrix multiplication.\n",
    "\n",
    "Resource: You can see all of the rules for matrix multiplication using torch.matmul() in the PyTorch documentation.\n",
    "\n",
    "link: http://matrixmultiplication.xyz/"
   ]
  },
  {
   "cell_type": "code",
   "execution_count": 35,
   "id": "7bd3e4b9",
   "metadata": {
    "execution": {
     "iopub.execute_input": "2023-07-31T18:52:57.810109Z",
     "iopub.status.busy": "2023-07-31T18:52:57.809084Z",
     "iopub.status.idle": "2023-07-31T18:52:57.815877Z",
     "shell.execute_reply": "2023-07-31T18:52:57.814910Z"
    },
    "executionInfo": {
     "elapsed": 48,
     "status": "ok",
     "timestamp": 1689006384411,
     "user": {
      "displayName": "Gustavo Robl Zitta",
      "userId": "12496481005659581268"
     },
     "user_tz": 180
    },
    "id": "odG8rTwYTEHK",
    "outputId": "ed7987d4-458f-4bfb-a307-97d4bba649e3",
    "papermill": {
     "duration": 0.043231,
     "end_time": "2023-07-31T18:52:57.818075",
     "exception": false,
     "start_time": "2023-07-31T18:52:57.774844",
     "status": "completed"
    },
    "tags": []
   },
   "outputs": [
    {
     "data": {
      "text/plain": [
       "tensor([1, 4, 9])"
      ]
     },
     "execution_count": 35,
     "metadata": {},
     "output_type": "execute_result"
    }
   ],
   "source": [
    "#Element wise multiplication\n",
    "tensor*tensor"
   ]
  },
  {
   "cell_type": "code",
   "execution_count": 36,
   "id": "6c048c72",
   "metadata": {
    "execution": {
     "iopub.execute_input": "2023-07-31T18:52:57.886523Z",
     "iopub.status.busy": "2023-07-31T18:52:57.885687Z",
     "iopub.status.idle": "2023-07-31T18:52:57.894530Z",
     "shell.execute_reply": "2023-07-31T18:52:57.893526Z"
    },
    "executionInfo": {
     "elapsed": 47,
     "status": "ok",
     "timestamp": 1689006384411,
     "user": {
      "displayName": "Gustavo Robl Zitta",
      "userId": "12496481005659581268"
     },
     "user_tz": 180
    },
    "id": "YcA-cnW8ViME",
    "outputId": "68463b43-a97c-457f-b473-27d7425bbb30",
    "papermill": {
     "duration": 0.045731,
     "end_time": "2023-07-31T18:52:57.896582",
     "exception": false,
     "start_time": "2023-07-31T18:52:57.850851",
     "status": "completed"
    },
    "tags": []
   },
   "outputs": [
    {
     "data": {
      "text/plain": [
       "tensor(14)"
      ]
     },
     "execution_count": 36,
     "metadata": {},
     "output_type": "execute_result"
    }
   ],
   "source": [
    "#Matrix multiplication\n",
    "torch.matmul(tensor,tensor)\n",
    "#OR\n",
    "tensor @ tensor"
   ]
  },
  {
   "cell_type": "markdown",
   "id": "bf34ba28",
   "metadata": {
    "id": "tOAvWTomeMD4",
    "papermill": {
     "duration": 0.033431,
     "end_time": "2023-07-31T18:52:57.963454",
     "exception": false,
     "start_time": "2023-07-31T18:52:57.930023",
     "status": "completed"
    },
    "tags": []
   },
   "source": [
    "## One of the most common errors in deep learning: shape errors"
   ]
  },
  {
   "cell_type": "code",
   "execution_count": 37,
   "id": "7ad0ea48",
   "metadata": {
    "execution": {
     "iopub.execute_input": "2023-07-31T18:52:58.036104Z",
     "iopub.status.busy": "2023-07-31T18:52:58.035144Z",
     "iopub.status.idle": "2023-07-31T18:52:58.048851Z",
     "shell.execute_reply": "2023-07-31T18:52:58.047783Z"
    },
    "executionInfo": {
     "elapsed": 44,
     "status": "ok",
     "timestamp": 1689006384411,
     "user": {
      "displayName": "Gustavo Robl Zitta",
      "userId": "12496481005659581268"
     },
     "user_tz": 180
    },
    "id": "RQxkzAqKV0Z9",
    "outputId": "d7bdc8a4-1932-47f9-a154-e0d79bed4e38",
    "papermill": {
     "duration": 0.053624,
     "end_time": "2023-07-31T18:52:58.051052",
     "exception": false,
     "start_time": "2023-07-31T18:52:57.997428",
     "status": "completed"
    },
    "tags": []
   },
   "outputs": [
    {
     "data": {
      "text/plain": [
       "tensor([[ 27,  30,  33],\n",
       "        [ 61,  68,  75],\n",
       "        [ 95, 106, 117]])"
      ]
     },
     "execution_count": 37,
     "metadata": {},
     "output_type": "execute_result"
    }
   ],
   "source": [
    "# shapes for matrix multiplication\n",
    "tensor_A = torch.tensor([[1,2],\n",
    "                         [3,4],\n",
    "                         [5,6]])\n",
    "tensor_B = torch.tensor([[7,10],\n",
    "                         [8,11],\n",
    "                         [9,12]])\n",
    "\n",
    "torch.mm(tensor_A,tensor_B.T) #torch.mm is the same thing as torch.matmul\n"
   ]
  },
  {
   "cell_type": "markdown",
   "id": "9e8a7ceb",
   "metadata": {
    "id": "E-UVNZE_hHuM",
    "papermill": {
     "duration": 0.034626,
     "end_time": "2023-07-31T18:52:58.123555",
     "exception": false,
     "start_time": "2023-07-31T18:52:58.088929",
     "status": "completed"
    },
    "tags": []
   },
   "source": [
    "### Transpose"
   ]
  },
  {
   "cell_type": "code",
   "execution_count": 38,
   "id": "991ae035",
   "metadata": {
    "execution": {
     "iopub.execute_input": "2023-07-31T18:52:58.193376Z",
     "iopub.status.busy": "2023-07-31T18:52:58.192202Z",
     "iopub.status.idle": "2023-07-31T18:52:58.199769Z",
     "shell.execute_reply": "2023-07-31T18:52:58.198737Z"
    },
    "executionInfo": {
     "elapsed": 43,
     "status": "ok",
     "timestamp": 1689006384412,
     "user": {
      "displayName": "Gustavo Robl Zitta",
      "userId": "12496481005659581268"
     },
     "user_tz": 180
    },
    "id": "1Aw5QTwDfliD",
    "outputId": "0e3afee7-8d51-45f4-8259-27b0d48b48f6",
    "papermill": {
     "duration": 0.044666,
     "end_time": "2023-07-31T18:52:58.201845",
     "exception": false,
     "start_time": "2023-07-31T18:52:58.157179",
     "status": "completed"
    },
    "tags": []
   },
   "outputs": [
    {
     "data": {
      "text/plain": [
       "tensor([[ 7, 10],\n",
       "        [ 8, 11],\n",
       "        [ 9, 12]])"
      ]
     },
     "execution_count": 38,
     "metadata": {},
     "output_type": "execute_result"
    }
   ],
   "source": [
    "tensor_B"
   ]
  },
  {
   "cell_type": "code",
   "execution_count": 39,
   "id": "d3a39b69",
   "metadata": {
    "execution": {
     "iopub.execute_input": "2023-07-31T18:52:58.270955Z",
     "iopub.status.busy": "2023-07-31T18:52:58.269985Z",
     "iopub.status.idle": "2023-07-31T18:52:58.278196Z",
     "shell.execute_reply": "2023-07-31T18:52:58.277110Z"
    },
    "executionInfo": {
     "elapsed": 41,
     "status": "ok",
     "timestamp": 1689006384412,
     "user": {
      "displayName": "Gustavo Robl Zitta",
      "userId": "12496481005659581268"
     },
     "user_tz": 180
    },
    "id": "rFPw00eshNTj",
    "outputId": "90a503c6-41fe-45fc-c8e3-9b4a48bb8d34",
    "papermill": {
     "duration": 0.044999,
     "end_time": "2023-07-31T18:52:58.280148",
     "exception": false,
     "start_time": "2023-07-31T18:52:58.235149",
     "status": "completed"
    },
    "tags": []
   },
   "outputs": [
    {
     "data": {
      "text/plain": [
       "tensor([[ 7,  8,  9],\n",
       "        [10, 11, 12]])"
      ]
     },
     "execution_count": 39,
     "metadata": {},
     "output_type": "execute_result"
    }
   ],
   "source": [
    "tensor_B.T"
   ]
  },
  {
   "cell_type": "markdown",
   "id": "71674e3b",
   "metadata": {
    "id": "moG12CbYkKCy",
    "papermill": {
     "duration": 0.033518,
     "end_time": "2023-07-31T18:52:58.346741",
     "exception": false,
     "start_time": "2023-07-31T18:52:58.313223",
     "status": "completed"
    },
    "tags": []
   },
   "source": [
    "## Finding the min, max, mean, sum etc...**(tensor aggregation)**"
   ]
  },
  {
   "cell_type": "code",
   "execution_count": 40,
   "id": "0151d40b",
   "metadata": {
    "execution": {
     "iopub.execute_input": "2023-07-31T18:52:58.415884Z",
     "iopub.status.busy": "2023-07-31T18:52:58.414827Z",
     "iopub.status.idle": "2023-07-31T18:52:58.422719Z",
     "shell.execute_reply": "2023-07-31T18:52:58.421758Z"
    },
    "executionInfo": {
     "elapsed": 39,
     "status": "ok",
     "timestamp": 1689006384412,
     "user": {
      "displayName": "Gustavo Robl Zitta",
      "userId": "12496481005659581268"
     },
     "user_tz": 180
    },
    "id": "LJIWoB9MhaLd",
    "outputId": "3bc8ca68-9ff8-4e34-c0af-43787b441a5b",
    "papermill": {
     "duration": 0.04414,
     "end_time": "2023-07-31T18:52:58.424687",
     "exception": false,
     "start_time": "2023-07-31T18:52:58.380547",
     "status": "completed"
    },
    "tags": []
   },
   "outputs": [
    {
     "data": {
      "text/plain": [
       "tensor([ 0, 10, 20, 30, 40, 50, 60, 70, 80, 90])"
      ]
     },
     "execution_count": 40,
     "metadata": {},
     "output_type": "execute_result"
    }
   ],
   "source": [
    "#create tensor\n",
    "x = torch.arange(0,100,10)\n",
    "x"
   ]
  },
  {
   "cell_type": "code",
   "execution_count": 41,
   "id": "895e2e43",
   "metadata": {
    "execution": {
     "iopub.execute_input": "2023-07-31T18:52:58.494103Z",
     "iopub.status.busy": "2023-07-31T18:52:58.493450Z",
     "iopub.status.idle": "2023-07-31T18:52:58.501176Z",
     "shell.execute_reply": "2023-07-31T18:52:58.500248Z"
    },
    "executionInfo": {
     "elapsed": 37,
     "status": "ok",
     "timestamp": 1689006384412,
     "user": {
      "displayName": "Gustavo Robl Zitta",
      "userId": "12496481005659581268"
     },
     "user_tz": 180
    },
    "id": "BdpUkwqVkkyq",
    "outputId": "643037e2-ab5b-4a96-9950-d0ff3c72c05a",
    "papermill": {
     "duration": 0.044899,
     "end_time": "2023-07-31T18:52:58.503193",
     "exception": false,
     "start_time": "2023-07-31T18:52:58.458294",
     "status": "completed"
    },
    "tags": []
   },
   "outputs": [
    {
     "data": {
      "text/plain": [
       "(tensor(0), tensor(0))"
      ]
     },
     "execution_count": 41,
     "metadata": {},
     "output_type": "execute_result"
    }
   ],
   "source": [
    "#find the MIN\n",
    "torch.min(x), x.min()"
   ]
  },
  {
   "cell_type": "code",
   "execution_count": 42,
   "id": "7d1a674e",
   "metadata": {
    "execution": {
     "iopub.execute_input": "2023-07-31T18:52:58.573481Z",
     "iopub.status.busy": "2023-07-31T18:52:58.573147Z",
     "iopub.status.idle": "2023-07-31T18:52:58.580189Z",
     "shell.execute_reply": "2023-07-31T18:52:58.579243Z"
    },
    "executionInfo": {
     "elapsed": 36,
     "status": "ok",
     "timestamp": 1689006384413,
     "user": {
      "displayName": "Gustavo Robl Zitta",
      "userId": "12496481005659581268"
     },
     "user_tz": 180
    },
    "id": "oq-0bmczktaE",
    "outputId": "2b4b133c-6cd5-430b-e32a-83743dccbf02",
    "papermill": {
     "duration": 0.043551,
     "end_time": "2023-07-31T18:52:58.582146",
     "exception": false,
     "start_time": "2023-07-31T18:52:58.538595",
     "status": "completed"
    },
    "tags": []
   },
   "outputs": [
    {
     "data": {
      "text/plain": [
       "(tensor(90), tensor(90))"
      ]
     },
     "execution_count": 42,
     "metadata": {},
     "output_type": "execute_result"
    }
   ],
   "source": [
    "# find the MAX\n",
    "torch.max(x),x.max()"
   ]
  },
  {
   "cell_type": "code",
   "execution_count": 43,
   "id": "da80aaa6",
   "metadata": {
    "execution": {
     "iopub.execute_input": "2023-07-31T18:52:58.652382Z",
     "iopub.status.busy": "2023-07-31T18:52:58.651504Z",
     "iopub.status.idle": "2023-07-31T18:52:58.662374Z",
     "shell.execute_reply": "2023-07-31T18:52:58.661413Z"
    },
    "executionInfo": {
     "elapsed": 34,
     "status": "ok",
     "timestamp": 1689006384413,
     "user": {
      "displayName": "Gustavo Robl Zitta",
      "userId": "12496481005659581268"
     },
     "user_tz": 180
    },
    "id": "M-J0f0G7ky-z",
    "outputId": "b369f6b1-914b-4d53-c4f1-b587f2e573b5",
    "papermill": {
     "duration": 0.048349,
     "end_time": "2023-07-31T18:52:58.664291",
     "exception": false,
     "start_time": "2023-07-31T18:52:58.615942",
     "status": "completed"
    },
    "tags": []
   },
   "outputs": [
    {
     "data": {
      "text/plain": [
       "(tensor(45.), tensor(45.))"
      ]
     },
     "execution_count": 43,
     "metadata": {},
     "output_type": "execute_result"
    }
   ],
   "source": [
    "#find the mean\n",
    "torch.mean(x.type(torch.float32)),   x.type(torch.float32).mean()"
   ]
  },
  {
   "cell_type": "code",
   "execution_count": 44,
   "id": "0c5ff48f",
   "metadata": {
    "execution": {
     "iopub.execute_input": "2023-07-31T18:52:58.735778Z",
     "iopub.status.busy": "2023-07-31T18:52:58.734820Z",
     "iopub.status.idle": "2023-07-31T18:52:58.742037Z",
     "shell.execute_reply": "2023-07-31T18:52:58.741102Z"
    },
    "executionInfo": {
     "elapsed": 32,
     "status": "ok",
     "timestamp": 1689006384413,
     "user": {
      "displayName": "Gustavo Robl Zitta",
      "userId": "12496481005659581268"
     },
     "user_tz": 180
    },
    "id": "MQq-YYFLk190",
    "outputId": "fad3f2b6-4cb2-4460-81b6-b4b02993f82b",
    "papermill": {
     "duration": 0.045054,
     "end_time": "2023-07-31T18:52:58.744037",
     "exception": false,
     "start_time": "2023-07-31T18:52:58.698983",
     "status": "completed"
    },
    "tags": []
   },
   "outputs": [
    {
     "data": {
      "text/plain": [
       "(tensor(450), tensor(450))"
      ]
     },
     "execution_count": 44,
     "metadata": {},
     "output_type": "execute_result"
    }
   ],
   "source": [
    "#find the sum\n",
    "torch.sum(x), x.sum()"
   ]
  },
  {
   "cell_type": "code",
   "execution_count": 45,
   "id": "402a5438",
   "metadata": {
    "execution": {
     "iopub.execute_input": "2023-07-31T18:52:58.814489Z",
     "iopub.status.busy": "2023-07-31T18:52:58.814138Z",
     "iopub.status.idle": "2023-07-31T18:52:58.823318Z",
     "shell.execute_reply": "2023-07-31T18:52:58.821982Z"
    },
    "executionInfo": {
     "elapsed": 30,
     "status": "ok",
     "timestamp": 1689006384413,
     "user": {
      "displayName": "Gustavo Robl Zitta",
      "userId": "12496481005659581268"
     },
     "user_tz": 180
    },
    "id": "uP3egk2exZHf",
    "outputId": "39ca72bc-c880-4e4d-eadd-9dfc3a96cb07",
    "papermill": {
     "duration": 0.046618,
     "end_time": "2023-07-31T18:52:58.825374",
     "exception": false,
     "start_time": "2023-07-31T18:52:58.778756",
     "status": "completed"
    },
    "tags": []
   },
   "outputs": [
    {
     "name": "stdout",
     "output_type": "stream",
     "text": [
      "tensor([ 0, 10, 20, 30, 40, 50, 60, 70, 80, 90])\n",
      "min:  tensor(0)\n",
      "max:  tensor(9)\n"
     ]
    }
   ],
   "source": [
    "#finding the positional min and max(the index)\n",
    "print(x)\n",
    "print('min: ',torch.argmin(x))\n",
    "\n",
    "print('max: ',torch.argmax(x))"
   ]
  },
  {
   "cell_type": "markdown",
   "id": "1fb6d61c",
   "metadata": {
    "id": "RzwVpWm6xj--",
    "papermill": {
     "duration": 0.034696,
     "end_time": "2023-07-31T18:52:58.895362",
     "exception": false,
     "start_time": "2023-07-31T18:52:58.860666",
     "status": "completed"
    },
    "tags": []
   },
   "source": [
    "## Reshaping, stacking, squeezing and unsqueezing\n",
    "\n",
    "Often times you'll want to reshape or change the dimensions of your tensors without actually changing the values inside them.\n",
    "\n",
    "To do so, some popular methods are:\n",
    "\n",
    "| Method | One-line description |\n",
    "| ----- | ----- |\n",
    "| [`torch.reshape(input, shape)`](https://pytorch.org/docs/stable/generated/torch.reshape.html#torch.reshape) | Reshapes `input` to `shape` (if compatible), can also use `torch.Tensor.reshape()`. |\n",
    "| [`torch.Tensor.view(shape)`](https://pytorch.org/docs/stable/generated/torch.Tensor.view.html) | Returns a view of the original tensor in a different `shape` but shares the same data as the original tensor. |\n",
    "| [`torch.stack(tensors, dim=0)`](https://pytorch.org/docs/1.9.1/generated/torch.stack.html) | Concatenates a sequence of `tensors` along a new dimension (`dim`), all `tensors` must be same size. |\n",
    "| [`torch.squeeze(input)`](https://pytorch.org/docs/stable/generated/torch.squeeze.html) | Squeezes `input` to remove all the dimenions with value `1`. |\n",
    "| [`torch.unsqueeze(input, dim)`](https://pytorch.org/docs/1.9.1/generated/torch.unsqueeze.html) | Returns `input` with a dimension value of `1` added at `dim`. |\n",
    "| [`torch.permute(input, dims)`](https://pytorch.org/docs/stable/generated/torch.permute.html) | Returns a *view* of the original `input` with its dimensions permuted (rearranged) to `dims`. |\n",
    "\n",
    "Why do any of these?\n",
    "\n",
    "Because deep learning models (neural networks) are all about manipulating tensors in some way. And because of the rules of matrix multiplication, if you've got shape mismatches, you'll run into errors. These methods help you make the right elements of your tensors are mixing with the right elements of other tensors.\n",
    "\n",
    "Let's try them out.\n",
    "\n",
    "First, we'll create a tensor.\n"
   ]
  },
  {
   "cell_type": "code",
   "execution_count": 46,
   "id": "5b5f3ac2",
   "metadata": {
    "execution": {
     "iopub.execute_input": "2023-07-31T18:52:58.967407Z",
     "iopub.status.busy": "2023-07-31T18:52:58.966432Z",
     "iopub.status.idle": "2023-07-31T18:52:58.973984Z",
     "shell.execute_reply": "2023-07-31T18:52:58.973039Z"
    },
    "executionInfo": {
     "elapsed": 28,
     "status": "ok",
     "timestamp": 1689006384413,
     "user": {
      "displayName": "Gustavo Robl Zitta",
      "userId": "12496481005659581268"
     },
     "user_tz": 180
    },
    "id": "PUs1xf6TzFH8",
    "outputId": "110048d9-0571-4638-d0b5-45b66f89ae92",
    "papermill": {
     "duration": 0.045696,
     "end_time": "2023-07-31T18:52:58.975973",
     "exception": false,
     "start_time": "2023-07-31T18:52:58.930277",
     "status": "completed"
    },
    "tags": []
   },
   "outputs": [
    {
     "data": {
      "text/plain": [
       "(tensor([ 1,  2,  3,  4,  5,  6,  7,  8,  9, 10]), torch.Size([10]))"
      ]
     },
     "execution_count": 46,
     "metadata": {},
     "output_type": "execute_result"
    }
   ],
   "source": [
    "#create tensor\n",
    "import torch\n",
    "x = torch.arange(1,11)\n",
    "x,x.shape"
   ]
  },
  {
   "cell_type": "code",
   "execution_count": 47,
   "id": "53fb7f81",
   "metadata": {
    "execution": {
     "iopub.execute_input": "2023-07-31T18:52:59.049685Z",
     "iopub.status.busy": "2023-07-31T18:52:59.049037Z",
     "iopub.status.idle": "2023-07-31T18:52:59.056719Z",
     "shell.execute_reply": "2023-07-31T18:52:59.055779Z"
    },
    "executionInfo": {
     "elapsed": 25,
     "status": "ok",
     "timestamp": 1689006384413,
     "user": {
      "displayName": "Gustavo Robl Zitta",
      "userId": "12496481005659581268"
     },
     "user_tz": 180
    },
    "id": "szZDSOIS2p9K",
    "outputId": "f70b4205-0ef2-479c-f479-1d23b23111f6",
    "papermill": {
     "duration": 0.047716,
     "end_time": "2023-07-31T18:52:59.058940",
     "exception": false,
     "start_time": "2023-07-31T18:52:59.011224",
     "status": "completed"
    },
    "tags": []
   },
   "outputs": [
    {
     "data": {
      "text/plain": [
       "(tensor([[ 1,  2],\n",
       "         [ 3,  4],\n",
       "         [ 5,  6],\n",
       "         [ 7,  8],\n",
       "         [ 9, 10]]),\n",
       " torch.Size([5, 2]))"
      ]
     },
     "execution_count": 47,
     "metadata": {},
     "output_type": "execute_result"
    }
   ],
   "source": [
    "#RESHAPE -> add extra dimension\n",
    "x_reshaped = x.reshape(5,2)\n",
    "x_reshaped, x_reshaped.shape"
   ]
  },
  {
   "cell_type": "code",
   "execution_count": 48,
   "id": "7cad0dca",
   "metadata": {
    "execution": {
     "iopub.execute_input": "2023-07-31T18:52:59.134110Z",
     "iopub.status.busy": "2023-07-31T18:52:59.133754Z",
     "iopub.status.idle": "2023-07-31T18:52:59.141218Z",
     "shell.execute_reply": "2023-07-31T18:52:59.140231Z"
    },
    "executionInfo": {
     "elapsed": 24,
     "status": "ok",
     "timestamp": 1689006384414,
     "user": {
      "displayName": "Gustavo Robl Zitta",
      "userId": "12496481005659581268"
     },
     "user_tz": 180
    },
    "id": "o2x7ctDw28Ri",
    "outputId": "0216d312-0ade-4c60-be95-f1978f1dc10f",
    "papermill": {
     "duration": 0.046734,
     "end_time": "2023-07-31T18:52:59.143329",
     "exception": false,
     "start_time": "2023-07-31T18:52:59.096595",
     "status": "completed"
    },
    "tags": []
   },
   "outputs": [
    {
     "data": {
      "text/plain": [
       "(tensor([[ 1,  2,  3,  4,  5],\n",
       "         [ 6,  7,  8,  9, 10]]),\n",
       " torch.Size([2, 5]))"
      ]
     },
     "execution_count": 48,
     "metadata": {},
     "output_type": "execute_result"
    }
   ],
   "source": [
    "#VIEW  -> change the view (does NOT change the data, it's just a view)\n",
    "z = x.view(2,5)\n",
    "z, z.shape"
   ]
  },
  {
   "cell_type": "code",
   "execution_count": 49,
   "id": "ff6f2758",
   "metadata": {
    "execution": {
     "iopub.execute_input": "2023-07-31T18:52:59.217033Z",
     "iopub.status.busy": "2023-07-31T18:52:59.216394Z",
     "iopub.status.idle": "2023-07-31T18:52:59.226563Z",
     "shell.execute_reply": "2023-07-31T18:52:59.225587Z"
    },
    "executionInfo": {
     "elapsed": 22,
     "status": "ok",
     "timestamp": 1689006384414,
     "user": {
      "displayName": "Gustavo Robl Zitta",
      "userId": "12496481005659581268"
     },
     "user_tz": 180
    },
    "id": "qJ_b3Fb43iMs",
    "outputId": "7c2dc24c-662f-4884-fb42-ec5f561c8286",
    "papermill": {
     "duration": 0.048927,
     "end_time": "2023-07-31T18:52:59.228897",
     "exception": false,
     "start_time": "2023-07-31T18:52:59.179970",
     "status": "completed"
    },
    "tags": []
   },
   "outputs": [
    {
     "data": {
      "text/plain": [
       "(tensor([[ 0,  2,  3,  4,  5],\n",
       "         [ 0,  7,  8,  9, 10]]),\n",
       " tensor([ 0,  2,  3,  4,  5,  0,  7,  8,  9, 10]))"
      ]
     },
     "execution_count": 49,
     "metadata": {},
     "output_type": "execute_result"
    }
   ],
   "source": [
    "# changing z changes x (because a view of a tensor shares the same memory as the original)\n",
    "z[:,0]=00\n",
    "z,x"
   ]
  },
  {
   "cell_type": "code",
   "execution_count": 50,
   "id": "80aa6097",
   "metadata": {
    "execution": {
     "iopub.execute_input": "2023-07-31T18:52:59.301747Z",
     "iopub.status.busy": "2023-07-31T18:52:59.301446Z",
     "iopub.status.idle": "2023-07-31T18:52:59.309474Z",
     "shell.execute_reply": "2023-07-31T18:52:59.308512Z"
    },
    "executionInfo": {
     "elapsed": 20,
     "status": "ok",
     "timestamp": 1689006384414,
     "user": {
      "displayName": "Gustavo Robl Zitta",
      "userId": "12496481005659581268"
     },
     "user_tz": 180
    },
    "id": "Gv1-jIxw6Vra",
    "outputId": "db47fccf-5fca-4488-cdc3-cddb3cb1de87",
    "papermill": {
     "duration": 0.046957,
     "end_time": "2023-07-31T18:52:59.311494",
     "exception": false,
     "start_time": "2023-07-31T18:52:59.264537",
     "status": "completed"
    },
    "tags": []
   },
   "outputs": [
    {
     "data": {
      "text/plain": [
       "tensor([[ 0,  2,  3,  4,  5,  0,  7,  8,  9, 10],\n",
       "        [ 0,  2,  3,  4,  5,  0,  7,  8,  9, 10],\n",
       "        [ 0,  2,  3,  4,  5,  0,  7,  8,  9, 10],\n",
       "        [ 0,  2,  3,  4,  5,  0,  7,  8,  9, 10]])"
      ]
     },
     "execution_count": 50,
     "metadata": {},
     "output_type": "execute_result"
    }
   ],
   "source": [
    "#STACK  -> stack tensors on top of each other\n",
    "x_stacked = torch.stack([x,x,x,x],dim=0)\n",
    "x_stacked"
   ]
  },
  {
   "cell_type": "code",
   "execution_count": 51,
   "id": "c10abf92",
   "metadata": {
    "execution": {
     "iopub.execute_input": "2023-07-31T18:52:59.385885Z",
     "iopub.status.busy": "2023-07-31T18:52:59.384976Z",
     "iopub.status.idle": "2023-07-31T18:52:59.392396Z",
     "shell.execute_reply": "2023-07-31T18:52:59.391440Z"
    },
    "executionInfo": {
     "elapsed": 18,
     "status": "ok",
     "timestamp": 1689006384414,
     "user": {
      "displayName": "Gustavo Robl Zitta",
      "userId": "12496481005659581268"
     },
     "user_tz": 180
    },
    "id": "1pLAADnw9S4S",
    "outputId": "295f80c2-e515-4f84-9d1d-5e7e93de1e89",
    "papermill": {
     "duration": 0.047046,
     "end_time": "2023-07-31T18:52:59.394703",
     "exception": false,
     "start_time": "2023-07-31T18:52:59.347657",
     "status": "completed"
    },
    "tags": []
   },
   "outputs": [
    {
     "data": {
      "text/plain": [
       "tensor([[ 0,  0,  0,  0],\n",
       "        [ 2,  2,  2,  2],\n",
       "        [ 3,  3,  3,  3],\n",
       "        [ 4,  4,  4,  4],\n",
       "        [ 5,  5,  5,  5],\n",
       "        [ 0,  0,  0,  0],\n",
       "        [ 7,  7,  7,  7],\n",
       "        [ 8,  8,  8,  8],\n",
       "        [ 9,  9,  9,  9],\n",
       "        [10, 10, 10, 10]])"
      ]
     },
     "execution_count": 51,
     "metadata": {},
     "output_type": "execute_result"
    }
   ],
   "source": [
    "#STACK  -> stack tensors side to side of each other\n",
    "y_stacked = torch.stack([x,x,x,x],dim=1)\n",
    "y_stacked"
   ]
  },
  {
   "cell_type": "code",
   "execution_count": 52,
   "id": "43ed9db8",
   "metadata": {
    "execution": {
     "iopub.execute_input": "2023-07-31T18:52:59.469888Z",
     "iopub.status.busy": "2023-07-31T18:52:59.469048Z",
     "iopub.status.idle": "2023-07-31T18:52:59.476655Z",
     "shell.execute_reply": "2023-07-31T18:52:59.475269Z"
    },
    "executionInfo": {
     "elapsed": 370,
     "status": "ok",
     "timestamp": 1689006384770,
     "user": {
      "displayName": "Gustavo Robl Zitta",
      "userId": "12496481005659581268"
     },
     "user_tz": 180
    },
    "id": "YorgCjGl9edd",
    "outputId": "65037809-b257-4fe2-d6de-03b4b0056d52",
    "papermill": {
     "duration": 0.046889,
     "end_time": "2023-07-31T18:52:59.478855",
     "exception": false,
     "start_time": "2023-07-31T18:52:59.431966",
     "status": "completed"
    },
    "tags": []
   },
   "outputs": [
    {
     "name": "stdout",
     "output_type": "stream",
     "text": [
      "tensor([[0, 1, 2, 3, 4, 5, 6, 7, 8, 9]]) torch.Size([1, 10])\n",
      "\n",
      "squezed tensor:  tensor([0, 1, 2, 3, 4, 5, 6, 7, 8, 9]) \n",
      " shape:  torch.Size([10])\n"
     ]
    }
   ],
   "source": [
    "#SQUEEZE -> remove a dimension\n",
    "s =torch.arange(0,10).reshape(1,10)\n",
    "print(s, s.shape)\n",
    "s = s.squeeze()\n",
    "#remove the dimensions that have only 1     shape = ([1,10])->([10])\n",
    "print('\\nsquezed tensor: ',s,'\\n shape: ',s.shape)\n",
    "\n"
   ]
  },
  {
   "cell_type": "code",
   "execution_count": 53,
   "id": "91c256d8",
   "metadata": {
    "execution": {
     "iopub.execute_input": "2023-07-31T18:52:59.555067Z",
     "iopub.status.busy": "2023-07-31T18:52:59.554136Z",
     "iopub.status.idle": "2023-07-31T18:52:59.563296Z",
     "shell.execute_reply": "2023-07-31T18:52:59.561962Z"
    },
    "executionInfo": {
     "elapsed": 34,
     "status": "ok",
     "timestamp": 1689006384771,
     "user": {
      "displayName": "Gustavo Robl Zitta",
      "userId": "12496481005659581268"
     },
     "user_tz": 180
    },
    "id": "5vj4ow-q-KAY",
    "outputId": "c8a6fb65-4010-45f4-aaa3-aa93f05b205e",
    "papermill": {
     "duration": 0.050062,
     "end_time": "2023-07-31T18:52:59.565249",
     "exception": false,
     "start_time": "2023-07-31T18:52:59.515187",
     "status": "completed"
    },
    "tags": []
   },
   "outputs": [
    {
     "name": "stdout",
     "output_type": "stream",
     "text": [
      "horizontal:  tensor([[0, 1, 2, 3, 4, 5, 6, 7, 8, 9]]) torch.Size([1, 10])\n",
      "vertical: \n",
      " tensor([[0],\n",
      "        [1],\n",
      "        [2],\n",
      "        [3],\n",
      "        [4],\n",
      "        [5],\n",
      "        [6],\n",
      "        [7],\n",
      "        [8],\n",
      "        [9]]) torch.Size([10, 1])\n"
     ]
    }
   ],
   "source": [
    "#UNSQUEEZE -> add a dimension\n",
    "u =torch.arange(0,10)\n",
    "print('horizontal: ',u.unsqueeze(0),u.unsqueeze(0).shape)\n",
    "print('vertical: \\n', u.unsqueeze(1),u.unsqueeze(1).shape)"
   ]
  },
  {
   "cell_type": "code",
   "execution_count": 54,
   "id": "b8ff28a1",
   "metadata": {
    "execution": {
     "iopub.execute_input": "2023-07-31T18:52:59.639116Z",
     "iopub.status.busy": "2023-07-31T18:52:59.638355Z",
     "iopub.status.idle": "2023-07-31T18:52:59.646102Z",
     "shell.execute_reply": "2023-07-31T18:52:59.644943Z"
    },
    "executionInfo": {
     "elapsed": 31,
     "status": "ok",
     "timestamp": 1689006384771,
     "user": {
      "displayName": "Gustavo Robl Zitta",
      "userId": "12496481005659581268"
     },
     "user_tz": 180
    },
    "id": "PWWLDNpkAZ2a",
    "outputId": "1ec4b2d5-64f8-41a5-f272-a6d4153ec73d",
    "papermill": {
     "duration": 0.047074,
     "end_time": "2023-07-31T18:52:59.648146",
     "exception": false,
     "start_time": "2023-07-31T18:52:59.601072",
     "status": "completed"
    },
    "tags": []
   },
   "outputs": [
    {
     "name": "stdout",
     "output_type": "stream",
     "text": [
      "before:  torch.Size([224, 224, 3]) \n",
      "after:   torch.Size([3, 224, 224])\n"
     ]
    }
   ],
   "source": [
    "#PERMUTE -> rearranges the dimensions of a target tensor in a specified order\n",
    "\n",
    "x_original = torch.rand(size=(224,224,3))                                   #[height, width, color channels]\n",
    "x_permuted=x_original.permute(2,0,1)  # -> put the color channel to be the first dim -> [color channels, height, width]\n",
    "print('before: ',x_original.shape,'\\nafter:  ',x_permuted.shape)"
   ]
  },
  {
   "cell_type": "markdown",
   "id": "45ea1a30",
   "metadata": {
    "id": "TAYFmx4PErp9",
    "papermill": {
     "duration": 0.036372,
     "end_time": "2023-07-31T18:52:59.720533",
     "exception": false,
     "start_time": "2023-07-31T18:52:59.684161",
     "status": "completed"
    },
    "tags": []
   },
   "source": [
    "## Indexing (selecting data from tensors)"
   ]
  },
  {
   "cell_type": "code",
   "execution_count": 55,
   "id": "5e1fbf83",
   "metadata": {
    "execution": {
     "iopub.execute_input": "2023-07-31T18:52:59.795766Z",
     "iopub.status.busy": "2023-07-31T18:52:59.794868Z",
     "iopub.status.idle": "2023-07-31T18:52:59.802763Z",
     "shell.execute_reply": "2023-07-31T18:52:59.801720Z"
    },
    "executionInfo": {
     "elapsed": 30,
     "status": "ok",
     "timestamp": 1689006384772,
     "user": {
      "displayName": "Gustavo Robl Zitta",
      "userId": "12496481005659581268"
     },
     "user_tz": 180
    },
    "id": "La-ygcw71dPT",
    "outputId": "8dc8b5df-555b-440e-a762-51925ef5180a",
    "papermill": {
     "duration": 0.048103,
     "end_time": "2023-07-31T18:52:59.804776",
     "exception": false,
     "start_time": "2023-07-31T18:52:59.756673",
     "status": "completed"
    },
    "tags": []
   },
   "outputs": [
    {
     "data": {
      "text/plain": [
       "tensor([[1, 2, 3],\n",
       "        [4, 5, 6],\n",
       "        [7, 8, 9]])"
      ]
     },
     "execution_count": 55,
     "metadata": {},
     "output_type": "execute_result"
    }
   ],
   "source": [
    "#create tensor\n",
    "import torch\n",
    "x = torch.arange(1,10).reshape(1,3,3)\n",
    "x[0]"
   ]
  },
  {
   "cell_type": "code",
   "execution_count": 56,
   "id": "bc7c3266",
   "metadata": {
    "execution": {
     "iopub.execute_input": "2023-07-31T18:52:59.879746Z",
     "iopub.status.busy": "2023-07-31T18:52:59.879414Z",
     "iopub.status.idle": "2023-07-31T18:52:59.887170Z",
     "shell.execute_reply": "2023-07-31T18:52:59.886242Z"
    },
    "executionInfo": {
     "elapsed": 28,
     "status": "ok",
     "timestamp": 1689006384772,
     "user": {
      "displayName": "Gustavo Robl Zitta",
      "userId": "12496481005659581268"
     },
     "user_tz": 180
    },
    "id": "TiVKTJGP15fn",
    "outputId": "18a5595e-2fca-41fd-abba-cde418493ca7",
    "papermill": {
     "duration": 0.047626,
     "end_time": "2023-07-31T18:52:59.889155",
     "exception": false,
     "start_time": "2023-07-31T18:52:59.841529",
     "status": "completed"
    },
    "tags": []
   },
   "outputs": [
    {
     "data": {
      "text/plain": [
       "tensor([[[[ 1,  2,  3],\n",
       "          [ 4,  5,  6],\n",
       "          [ 7,  8,  9]]],\n",
       "\n",
       "\n",
       "        [[[ 2,  4,  6],\n",
       "          [ 8, 10, 12],\n",
       "          [14, 16, 18]]],\n",
       "\n",
       "\n",
       "        [[[ 1,  4,  9],\n",
       "          [16, 25, 36],\n",
       "          [49, 64, 81]]]])"
      ]
     },
     "execution_count": 56,
     "metadata": {},
     "output_type": "execute_result"
    }
   ],
   "source": [
    "tensor=torch.stack([x,x*2,x**2])\n",
    "tensor"
   ]
  },
  {
   "cell_type": "code",
   "execution_count": 57,
   "id": "4c93eb94",
   "metadata": {
    "execution": {
     "iopub.execute_input": "2023-07-31T18:52:59.964580Z",
     "iopub.status.busy": "2023-07-31T18:52:59.963904Z",
     "iopub.status.idle": "2023-07-31T18:52:59.970238Z",
     "shell.execute_reply": "2023-07-31T18:52:59.969351Z"
    },
    "executionInfo": {
     "elapsed": 26,
     "status": "ok",
     "timestamp": 1689006384772,
     "user": {
      "displayName": "Gustavo Robl Zitta",
      "userId": "12496481005659581268"
     },
     "user_tz": 180
    },
    "id": "vzfYyhR82W7D",
    "outputId": "36abe78e-3179-4f44-c9d3-bc8925eab76d",
    "papermill": {
     "duration": 0.046409,
     "end_time": "2023-07-31T18:52:59.972174",
     "exception": false,
     "start_time": "2023-07-31T18:52:59.925765",
     "status": "completed"
    },
    "tags": []
   },
   "outputs": [
    {
     "data": {
      "text/plain": [
       "6"
      ]
     },
     "execution_count": 57,
     "metadata": {},
     "output_type": "execute_result"
    }
   ],
   "source": [
    "tensor[0,0,1,2].item()"
   ]
  },
  {
   "cell_type": "markdown",
   "id": "0f8b1119",
   "metadata": {
    "id": "6HjMbQqM2hrL",
    "papermill": {
     "duration": 0.039044,
     "end_time": "2023-07-31T18:53:00.048360",
     "exception": false,
     "start_time": "2023-07-31T18:53:00.009316",
     "status": "completed"
    },
    "tags": []
   },
   "source": [
    "## PyTorch tensors and NumPy"
   ]
  },
  {
   "cell_type": "code",
   "execution_count": 58,
   "id": "8d7482cf",
   "metadata": {
    "execution": {
     "iopub.execute_input": "2023-07-31T18:53:00.126798Z",
     "iopub.status.busy": "2023-07-31T18:53:00.125776Z",
     "iopub.status.idle": "2023-07-31T18:53:00.134258Z",
     "shell.execute_reply": "2023-07-31T18:53:00.133189Z"
    },
    "executionInfo": {
     "elapsed": 24,
     "status": "ok",
     "timestamp": 1689006384772,
     "user": {
      "displayName": "Gustavo Robl Zitta",
      "userId": "12496481005659581268"
     },
     "user_tz": 180
    },
    "id": "NOV_e20vFi4L",
    "outputId": "f4e56a8b-225e-4dc5-c10e-dbf85ecad5d0",
    "papermill": {
     "duration": 0.050683,
     "end_time": "2023-07-31T18:53:00.136577",
     "exception": false,
     "start_time": "2023-07-31T18:53:00.085894",
     "status": "completed"
    },
    "tags": []
   },
   "outputs": [
    {
     "data": {
      "text/plain": [
       "(array([1, 2, 3, 4, 5, 6, 7]), tensor([1, 2, 3, 4, 5, 6, 7]))"
      ]
     },
     "execution_count": 58,
     "metadata": {},
     "output_type": "execute_result"
    }
   ],
   "source": [
    "# Numpy array to tensor\n",
    "import torch\n",
    "import numpy as np\n",
    "array = np.arange(1,8)\n",
    "tensor = torch.from_numpy(array)\n",
    "array,tensor"
   ]
  },
  {
   "cell_type": "code",
   "execution_count": 59,
   "id": "7515edb3",
   "metadata": {
    "execution": {
     "iopub.execute_input": "2023-07-31T18:53:00.216567Z",
     "iopub.status.busy": "2023-07-31T18:53:00.215648Z",
     "iopub.status.idle": "2023-07-31T18:53:00.224930Z",
     "shell.execute_reply": "2023-07-31T18:53:00.223906Z"
    },
    "executionInfo": {
     "elapsed": 23,
     "status": "ok",
     "timestamp": 1689006384773,
     "user": {
      "displayName": "Gustavo Robl Zitta",
      "userId": "12496481005659581268"
     },
     "user_tz": 180
    },
    "id": "dL1mwbBVGJq4",
    "outputId": "6010ab05-985d-4f64-9a99-c4dc1b72c2fb",
    "papermill": {
     "duration": 0.05049,
     "end_time": "2023-07-31T18:53:00.227157",
     "exception": false,
     "start_time": "2023-07-31T18:53:00.176667",
     "status": "completed"
    },
    "tags": []
   },
   "outputs": [
    {
     "data": {
      "text/plain": [
       "(array([1., 1., 1., 1., 1., 1., 1.], dtype=float32),\n",
       " tensor([1., 1., 1., 1., 1., 1., 1.]))"
      ]
     },
     "execution_count": 59,
     "metadata": {},
     "output_type": "execute_result"
    }
   ],
   "source": [
    "#Tensor to numpy\n",
    "tensor = torch.ones(7)\n",
    "numpy_tensor = tensor.numpy()\n",
    "numpy_tensor,tensor"
   ]
  },
  {
   "cell_type": "markdown",
   "id": "d4d3b3c7",
   "metadata": {
    "id": "BrMO0N3DJ16i",
    "papermill": {
     "duration": 0.037745,
     "end_time": "2023-07-31T18:53:00.302294",
     "exception": false,
     "start_time": "2023-07-31T18:53:00.264549",
     "status": "completed"
    },
    "tags": []
   },
   "source": [
    "## Reproducibility (trying to take random out of random)"
   ]
  },
  {
   "cell_type": "code",
   "execution_count": 60,
   "id": "ac952ac6",
   "metadata": {
    "execution": {
     "iopub.execute_input": "2023-07-31T18:53:00.378290Z",
     "iopub.status.busy": "2023-07-31T18:53:00.377883Z",
     "iopub.status.idle": "2023-07-31T18:53:00.388572Z",
     "shell.execute_reply": "2023-07-31T18:53:00.387276Z"
    },
    "executionInfo": {
     "elapsed": 21,
     "status": "ok",
     "timestamp": 1689006384773,
     "user": {
      "displayName": "Gustavo Robl Zitta",
      "userId": "12496481005659581268"
     },
     "user_tz": 180
    },
    "id": "weRBIzczKTW0",
    "outputId": "1b4a197d-a125-4c91-9fc9-b0ea9af505e6",
    "papermill": {
     "duration": 0.051078,
     "end_time": "2023-07-31T18:53:00.390581",
     "exception": false,
     "start_time": "2023-07-31T18:53:00.339503",
     "status": "completed"
    },
    "tags": []
   },
   "outputs": [
    {
     "name": "stdout",
     "output_type": "stream",
     "text": [
      "tensor([[True, True, True, True],\n",
      "        [True, True, True, True],\n",
      "        [True, True, True, True]]) \n",
      " so the tensors are equals\n"
     ]
    }
   ],
   "source": [
    "#MANUAL SEED\n",
    "torch.manual_seed(seed=42)\n",
    "random_tensor = torch.rand(3,4)\n",
    "torch.manual_seed(seed=42)\n",
    "random_tensor2 = torch.rand(3,4)\n",
    "print(random_tensor==random_tensor2,'\\n so the tensors are equals')\n"
   ]
  },
  {
   "cell_type": "markdown",
   "id": "cf4012d7",
   "metadata": {
    "id": "hdmcHpxdLm6k",
    "papermill": {
     "duration": 0.037636,
     "end_time": "2023-07-31T18:53:00.465788",
     "exception": false,
     "start_time": "2023-07-31T18:53:00.428152",
     "status": "completed"
    },
    "tags": []
   },
   "source": [
    "## Running tensors on GPUs (and making faster computations)"
   ]
  },
  {
   "cell_type": "code",
   "execution_count": 61,
   "id": "b4be479e",
   "metadata": {
    "execution": {
     "iopub.execute_input": "2023-07-31T18:53:00.543551Z",
     "iopub.status.busy": "2023-07-31T18:53:00.542591Z",
     "iopub.status.idle": "2023-07-31T18:53:01.603672Z",
     "shell.execute_reply": "2023-07-31T18:53:01.602495Z"
    },
    "executionInfo": {
     "elapsed": 19,
     "status": "ok",
     "timestamp": 1689006384773,
     "user": {
      "displayName": "Gustavo Robl Zitta",
      "userId": "12496481005659581268"
     },
     "user_tz": 180
    },
    "id": "aikNG1fIUeH_",
    "outputId": "48d8b858-4186-4b7a-b62e-cfe061064ec7",
    "papermill": {
     "duration": 1.103391,
     "end_time": "2023-07-31T18:53:01.606134",
     "exception": false,
     "start_time": "2023-07-31T18:53:00.502743",
     "status": "completed"
    },
    "tags": []
   },
   "outputs": [
    {
     "name": "stdout",
     "output_type": "stream",
     "text": [
      "Mon Jul 31 18:53:01 2023       \r\n",
      "+-----------------------------------------------------------------------------+\r\n",
      "| NVIDIA-SMI 470.161.03   Driver Version: 470.161.03   CUDA Version: 11.4     |\r\n",
      "|-------------------------------+----------------------+----------------------+\r\n",
      "| GPU  Name        Persistence-M| Bus-Id        Disp.A | Volatile Uncorr. ECC |\r\n",
      "| Fan  Temp  Perf  Pwr:Usage/Cap|         Memory-Usage | GPU-Util  Compute M. |\r\n",
      "|                               |                      |               MIG M. |\r\n",
      "|===============================+======================+======================|\r\n",
      "|   0  Tesla P100-PCIE...  Off  | 00000000:00:04.0 Off |                    0 |\r\n",
      "| N/A   30C    P0    25W / 250W |      0MiB / 16280MiB |      0%      Default |\r\n",
      "|                               |                      |                  N/A |\r\n",
      "+-------------------------------+----------------------+----------------------+\r\n",
      "                                                                               \r\n",
      "+-----------------------------------------------------------------------------+\r\n",
      "| Processes:                                                                  |\r\n",
      "|  GPU   GI   CI        PID   Type   Process name                  GPU Memory |\r\n",
      "|        ID   ID                                                   Usage      |\r\n",
      "|=============================================================================|\r\n",
      "|  No running processes found                                                 |\r\n",
      "+-----------------------------------------------------------------------------+\r\n"
     ]
    }
   ],
   "source": [
    "!nvidia-smi"
   ]
  },
  {
   "cell_type": "code",
   "execution_count": 62,
   "id": "f6c33727",
   "metadata": {
    "execution": {
     "iopub.execute_input": "2023-07-31T18:53:01.683639Z",
     "iopub.status.busy": "2023-07-31T18:53:01.682639Z",
     "iopub.status.idle": "2023-07-31T18:53:01.742192Z",
     "shell.execute_reply": "2023-07-31T18:53:01.741277Z"
    },
    "executionInfo": {
     "elapsed": 15,
     "status": "ok",
     "timestamp": 1689006384773,
     "user": {
      "displayName": "Gustavo Robl Zitta",
      "userId": "12496481005659581268"
     },
     "user_tz": 180
    },
    "id": "7PiDMdVOVtNV",
    "outputId": "1a66b258-feb9-4271-d8ef-58ce861f3f67",
    "papermill": {
     "duration": 0.100218,
     "end_time": "2023-07-31T18:53:01.744266",
     "exception": false,
     "start_time": "2023-07-31T18:53:01.644048",
     "status": "completed"
    },
    "tags": []
   },
   "outputs": [
    {
     "data": {
      "text/plain": [
       "True"
      ]
     },
     "execution_count": 62,
     "metadata": {},
     "output_type": "execute_result"
    }
   ],
   "source": [
    "# Check for GPU\n",
    "torch.cuda.is_available()"
   ]
  },
  {
   "cell_type": "markdown",
   "id": "87ece4d1",
   "metadata": {
    "id": "R29hZBqpVyaT",
    "papermill": {
     "duration": 0.037724,
     "end_time": "2023-07-31T18:53:01.820168",
     "exception": false,
     "start_time": "2023-07-31T18:53:01.782444",
     "status": "completed"
    },
    "tags": []
   },
   "source": [
    "### set the device automatic"
   ]
  },
  {
   "cell_type": "code",
   "execution_count": 63,
   "id": "7b60711b",
   "metadata": {
    "execution": {
     "iopub.execute_input": "2023-07-31T18:53:01.897769Z",
     "iopub.status.busy": "2023-07-31T18:53:01.896684Z",
     "iopub.status.idle": "2023-07-31T18:53:01.903877Z",
     "shell.execute_reply": "2023-07-31T18:53:01.902875Z"
    },
    "executionInfo": {
     "elapsed": 13,
     "status": "ok",
     "timestamp": 1689006384773,
     "user": {
      "displayName": "Gustavo Robl Zitta",
      "userId": "12496481005659581268"
     },
     "user_tz": 180
    },
    "id": "5Uh2maBpVwH-",
    "outputId": "4aa91bfb-8a8a-4d85-f3fe-d288f6ba9e0c",
    "papermill": {
     "duration": 0.048089,
     "end_time": "2023-07-31T18:53:01.905884",
     "exception": false,
     "start_time": "2023-07-31T18:53:01.857795",
     "status": "completed"
    },
    "tags": []
   },
   "outputs": [
    {
     "data": {
      "text/plain": [
       "'cuda'"
      ]
     },
     "execution_count": 63,
     "metadata": {},
     "output_type": "execute_result"
    }
   ],
   "source": [
    "# Set device type\n",
    "device = \"cuda\" if torch.cuda.is_available() else \"cpu\"\n",
    "device"
   ]
  },
  {
   "cell_type": "code",
   "execution_count": 64,
   "id": "5171973e",
   "metadata": {
    "execution": {
     "iopub.execute_input": "2023-07-31T18:53:01.986305Z",
     "iopub.status.busy": "2023-07-31T18:53:01.985352Z",
     "iopub.status.idle": "2023-07-31T18:53:02.006663Z",
     "shell.execute_reply": "2023-07-31T18:53:02.005703Z"
    },
    "executionInfo": {
     "elapsed": 13,
     "status": "ok",
     "timestamp": 1689006384774,
     "user": {
      "displayName": "Gustavo Robl Zitta",
      "userId": "12496481005659581268"
     },
     "user_tz": 180
    },
    "id": "tdvaHoFzV4XN",
    "outputId": "7fea66fa-d89a-424e-eae5-a75550998720",
    "papermill": {
     "duration": 0.064506,
     "end_time": "2023-07-31T18:53:02.008626",
     "exception": false,
     "start_time": "2023-07-31T18:53:01.944120",
     "status": "completed"
    },
    "tags": []
   },
   "outputs": [
    {
     "data": {
      "text/plain": [
       "1"
      ]
     },
     "execution_count": 64,
     "metadata": {},
     "output_type": "execute_result"
    }
   ],
   "source": [
    "# Count number of devices\n",
    "torch.cuda.device_count()"
   ]
  },
  {
   "cell_type": "markdown",
   "id": "cb341e72",
   "metadata": {
    "id": "IQTGv6dqV58z",
    "papermill": {
     "duration": 0.038411,
     "end_time": "2023-07-31T18:53:02.088511",
     "exception": false,
     "start_time": "2023-07-31T18:53:02.050100",
     "status": "completed"
    },
    "tags": []
   },
   "source": [
    "### Putting tensors (and models) on the GPU\n"
   ]
  },
  {
   "cell_type": "code",
   "execution_count": 65,
   "id": "f81dcdd3",
   "metadata": {
    "execution": {
     "iopub.execute_input": "2023-07-31T18:53:02.168931Z",
     "iopub.status.busy": "2023-07-31T18:53:02.168570Z",
     "iopub.status.idle": "2023-07-31T18:53:04.772040Z",
     "shell.execute_reply": "2023-07-31T18:53:04.771131Z"
    },
    "executionInfo": {
     "elapsed": 6529,
     "status": "ok",
     "timestamp": 1689006391292,
     "user": {
      "displayName": "Gustavo Robl Zitta",
      "userId": "12496481005659581268"
     },
     "user_tz": 180
    },
    "id": "typsCAsOWAQK",
    "outputId": "a2374e52-1834-458f-9fb2-cc5f55d505a4",
    "papermill": {
     "duration": 2.645953,
     "end_time": "2023-07-31T18:53:04.774312",
     "exception": false,
     "start_time": "2023-07-31T18:53:02.128359",
     "status": "completed"
    },
    "tags": []
   },
   "outputs": [
    {
     "name": "stdout",
     "output_type": "stream",
     "text": [
      "tensor([1, 2, 3]) cpu\n"
     ]
    },
    {
     "data": {
      "text/plain": [
       "tensor([1, 2, 3], device='cuda:0')"
      ]
     },
     "execution_count": 65,
     "metadata": {},
     "output_type": "execute_result"
    }
   ],
   "source": [
    "# Create tensor (default on CPU)\n",
    "tensor = torch.tensor([1, 2, 3])\n",
    "\n",
    "# Tensor not on GPU\n",
    "print(tensor, tensor.device)\n",
    "\n",
    "# Move tensor to GPU (if available)\n",
    "tensor_on_gpu = tensor.to(device)\n",
    "tensor_on_gpu"
   ]
  },
  {
   "cell_type": "markdown",
   "id": "6158350b",
   "metadata": {
    "id": "w5T0VgPnWCMF",
    "papermill": {
     "duration": 0.038015,
     "end_time": "2023-07-31T18:53:04.850997",
     "exception": false,
     "start_time": "2023-07-31T18:53:04.812982",
     "status": "completed"
    },
    "tags": []
   },
   "source": [
    "###  Moving tensors back to the CPU"
   ]
  },
  {
   "cell_type": "code",
   "execution_count": 66,
   "id": "4d2f2209",
   "metadata": {
    "execution": {
     "iopub.execute_input": "2023-07-31T18:53:04.928492Z",
     "iopub.status.busy": "2023-07-31T18:53:04.928144Z",
     "iopub.status.idle": "2023-07-31T18:53:04.935530Z",
     "shell.execute_reply": "2023-07-31T18:53:04.934446Z"
    },
    "executionInfo": {
     "elapsed": 7,
     "status": "ok",
     "timestamp": 1689006391292,
     "user": {
      "displayName": "Gustavo Robl Zitta",
      "userId": "12496481005659581268"
     },
     "user_tz": 180
    },
    "id": "uqxtScNdWGtl",
    "outputId": "91a08100-7aae-46b0-ec88-9ce4c314494b",
    "papermill": {
     "duration": 0.048858,
     "end_time": "2023-07-31T18:53:04.937947",
     "exception": false,
     "start_time": "2023-07-31T18:53:04.889089",
     "status": "completed"
    },
    "tags": []
   },
   "outputs": [
    {
     "data": {
      "text/plain": [
       "array([1, 2, 3])"
      ]
     },
     "execution_count": 66,
     "metadata": {},
     "output_type": "execute_result"
    }
   ],
   "source": [
    "# Instead, copy the tensor back to cpu\n",
    "tensor_back_on_cpu = tensor_on_gpu.cpu().numpy()\n",
    "tensor_back_on_cpu"
   ]
  },
  {
   "cell_type": "markdown",
   "id": "8f63a434",
   "metadata": {
    "id": "rhj-BrSIWH0s",
    "papermill": {
     "duration": 0.038265,
     "end_time": "2023-07-31T18:53:05.016945",
     "exception": false,
     "start_time": "2023-07-31T18:53:04.978680",
     "status": "completed"
    },
    "tags": []
   },
   "source": [
    "## Exercises"
   ]
  },
  {
   "cell_type": "code",
   "execution_count": 67,
   "id": "bcb6e653",
   "metadata": {
    "execution": {
     "iopub.execute_input": "2023-07-31T18:53:05.098594Z",
     "iopub.status.busy": "2023-07-31T18:53:05.097577Z",
     "iopub.status.idle": "2023-07-31T18:53:05.103459Z",
     "shell.execute_reply": "2023-07-31T18:53:05.102589Z"
    },
    "executionInfo": {
     "elapsed": 3,
     "status": "ok",
     "timestamp": 1689007286225,
     "user": {
      "displayName": "Gustavo Robl Zitta",
      "userId": "12496481005659581268"
     },
     "user_tz": 180
    },
    "id": "GsGTKCpWqUtB",
    "papermill": {
     "duration": 0.049365,
     "end_time": "2023-07-31T18:53:05.105418",
     "exception": false,
     "start_time": "2023-07-31T18:53:05.056053",
     "status": "completed"
    },
    "tags": []
   },
   "outputs": [],
   "source": [
    "a=torch.tensor([1,2,4,5,6,7,7])\n",
    "b=torch.randint(0,8,(1,7))"
   ]
  },
  {
   "cell_type": "code",
   "execution_count": 68,
   "id": "659d5dd1",
   "metadata": {
    "execution": {
     "iopub.execute_input": "2023-07-31T18:53:05.186297Z",
     "iopub.status.busy": "2023-07-31T18:53:05.185301Z",
     "iopub.status.idle": "2023-07-31T18:53:05.192802Z",
     "shell.execute_reply": "2023-07-31T18:53:05.191833Z"
    },
    "executionInfo": {
     "elapsed": 2,
     "status": "ok",
     "timestamp": 1689007355040,
     "user": {
      "displayName": "Gustavo Robl Zitta",
      "userId": "12496481005659581268"
     },
     "user_tz": 180
    },
    "id": "GSeWYI2iqatK",
    "outputId": "db179058-9a5e-4045-a723-01cb48475cbb",
    "papermill": {
     "duration": 0.049439,
     "end_time": "2023-07-31T18:53:05.194790",
     "exception": false,
     "start_time": "2023-07-31T18:53:05.145351",
     "status": "completed"
    },
    "tags": []
   },
   "outputs": [
    {
     "data": {
      "text/plain": [
       "tensor([170])"
      ]
     },
     "execution_count": 68,
     "metadata": {},
     "output_type": "execute_result"
    }
   ],
   "source": [
    "torch.matmul(a,b.T)"
   ]
  },
  {
   "cell_type": "code",
   "execution_count": 69,
   "id": "24f87f1d",
   "metadata": {
    "execution": {
     "iopub.execute_input": "2023-07-31T18:53:05.276563Z",
     "iopub.status.busy": "2023-07-31T18:53:05.276170Z",
     "iopub.status.idle": "2023-07-31T18:53:05.283552Z",
     "shell.execute_reply": "2023-07-31T18:53:05.282521Z"
    },
    "executionInfo": {
     "elapsed": 2,
     "status": "ok",
     "timestamp": 1689007364691,
     "user": {
      "displayName": "Gustavo Robl Zitta",
      "userId": "12496481005659581268"
     },
     "user_tz": 180
    },
    "id": "EqDO5D4AqvUW",
    "outputId": "452c0d79-221e-4ef0-f923-bb20725a351a",
    "papermill": {
     "duration": 0.04997,
     "end_time": "2023-07-31T18:53:05.285712",
     "exception": false,
     "start_time": "2023-07-31T18:53:05.235742",
     "status": "completed"
    },
    "tags": []
   },
   "outputs": [
    {
     "data": {
      "text/plain": [
       "tensor([170])"
      ]
     },
     "execution_count": 69,
     "metadata": {},
     "output_type": "execute_result"
    }
   ],
   "source": [
    "a@b.T"
   ]
  },
  {
   "cell_type": "code",
   "execution_count": 70,
   "id": "65a0cef4",
   "metadata": {
    "execution": {
     "iopub.execute_input": "2023-07-31T18:53:05.366958Z",
     "iopub.status.busy": "2023-07-31T18:53:05.366117Z",
     "iopub.status.idle": "2023-07-31T18:53:05.372623Z",
     "shell.execute_reply": "2023-07-31T18:53:05.371720Z"
    },
    "executionInfo": {
     "elapsed": 2,
     "status": "ok",
     "timestamp": 1689007135071,
     "user": {
      "displayName": "Gustavo Robl Zitta",
      "userId": "12496481005659581268"
     },
     "user_tz": 180
    },
    "id": "X059Pjeoq37-",
    "outputId": "543211bd-f651-44a5-a030-8e556f9b50b8",
    "papermill": {
     "duration": 0.048619,
     "end_time": "2023-07-31T18:53:05.374604",
     "exception": false,
     "start_time": "2023-07-31T18:53:05.325985",
     "status": "completed"
    },
    "tags": []
   },
   "outputs": [
    {
     "data": {
      "text/plain": [
       "tensor([1, 2, 4, 5, 6, 7, 7])"
      ]
     },
     "execution_count": 70,
     "metadata": {},
     "output_type": "execute_result"
    }
   ],
   "source": [
    "a"
   ]
  },
  {
   "cell_type": "code",
   "execution_count": 71,
   "id": "2e4c1c03",
   "metadata": {
    "execution": {
     "iopub.execute_input": "2023-07-31T18:53:05.455970Z",
     "iopub.status.busy": "2023-07-31T18:53:05.454978Z",
     "iopub.status.idle": "2023-07-31T18:53:05.462932Z",
     "shell.execute_reply": "2023-07-31T18:53:05.461964Z"
    },
    "executionInfo": {
     "elapsed": 2,
     "status": "ok",
     "timestamp": 1689007502996,
     "user": {
      "displayName": "Gustavo Robl Zitta",
      "userId": "12496481005659581268"
     },
     "user_tz": 180
    },
    "id": "T2qlQqBSq5PV",
    "outputId": "45fc3926-e5bd-4c3b-b217-2acb4295fa07",
    "papermill": {
     "duration": 0.050702,
     "end_time": "2023-07-31T18:53:05.464989",
     "exception": false,
     "start_time": "2023-07-31T18:53:05.414287",
     "status": "completed"
    },
    "tags": []
   },
   "outputs": [
    {
     "data": {
      "text/plain": [
       "tensor([1, 2, 4, 5, 6, 7, 7], device='cuda:0')"
      ]
     },
     "execution_count": 71,
     "metadata": {},
     "output_type": "execute_result"
    }
   ],
   "source": [
    "a=a.to(device)\n",
    "a"
   ]
  },
  {
   "cell_type": "code",
   "execution_count": 72,
   "id": "3ac01f9c",
   "metadata": {
    "execution": {
     "iopub.execute_input": "2023-07-31T18:53:05.548150Z",
     "iopub.status.busy": "2023-07-31T18:53:05.547807Z",
     "iopub.status.idle": "2023-07-31T18:53:05.554724Z",
     "shell.execute_reply": "2023-07-31T18:53:05.553693Z"
    },
    "executionInfo": {
     "elapsed": 2,
     "status": "ok",
     "timestamp": 1689007505164,
     "user": {
      "displayName": "Gustavo Robl Zitta",
      "userId": "12496481005659581268"
     },
     "user_tz": 180
    },
    "id": "3mu57TTEr70T",
    "outputId": "202edbfe-a28a-495a-90a3-ba81017bd51d",
    "papermill": {
     "duration": 0.051935,
     "end_time": "2023-07-31T18:53:05.556787",
     "exception": false,
     "start_time": "2023-07-31T18:53:05.504852",
     "status": "completed"
    },
    "tags": []
   },
   "outputs": [
    {
     "data": {
      "text/plain": [
       "array([1, 2, 4, 5, 6, 7, 7])"
      ]
     },
     "execution_count": 72,
     "metadata": {},
     "output_type": "execute_result"
    }
   ],
   "source": [
    "a.cpu().numpy()"
   ]
  },
  {
   "cell_type": "code",
   "execution_count": 73,
   "id": "33aad645",
   "metadata": {
    "execution": {
     "iopub.execute_input": "2023-07-31T18:53:05.640640Z",
     "iopub.status.busy": "2023-07-31T18:53:05.639755Z",
     "iopub.status.idle": "2023-07-31T18:53:05.652258Z",
     "shell.execute_reply": "2023-07-31T18:53:05.651271Z"
    },
    "executionInfo": {
     "elapsed": 2,
     "status": "ok",
     "timestamp": 1689007656613,
     "user": {
      "displayName": "Gustavo Robl Zitta",
      "userId": "12496481005659581268"
     },
     "user_tz": 180
    },
    "id": "HBYv6qqUr_dq",
    "outputId": "f5bb60da-0536-4ffb-a942-218afb12ce96",
    "papermill": {
     "duration": 0.055165,
     "end_time": "2023-07-31T18:53:05.654249",
     "exception": false,
     "start_time": "2023-07-31T18:53:05.599084",
     "status": "completed"
    },
    "tags": []
   },
   "outputs": [
    {
     "data": {
      "text/plain": [
       "tensor(5, device='cuda:0')"
      ]
     },
     "execution_count": 73,
     "metadata": {},
     "output_type": "execute_result"
    }
   ],
   "source": [
    "(a+(b.to(device))).argmax()"
   ]
  },
  {
   "cell_type": "code",
   "execution_count": 74,
   "id": "e2dc99cf",
   "metadata": {
    "execution": {
     "iopub.execute_input": "2023-07-31T18:53:05.736075Z",
     "iopub.status.busy": "2023-07-31T18:53:05.735190Z",
     "iopub.status.idle": "2023-07-31T18:53:05.742051Z",
     "shell.execute_reply": "2023-07-31T18:53:05.741058Z"
    },
    "executionInfo": {
     "elapsed": 4,
     "status": "ok",
     "timestamp": 1689007604411,
     "user": {
      "displayName": "Gustavo Robl Zitta",
      "userId": "12496481005659581268"
     },
     "user_tz": 180
    },
    "id": "Gu2eEVhisOpH",
    "outputId": "a12e45ec-4d23-49cd-9b73-5d382c664cf9",
    "papermill": {
     "duration": 0.049998,
     "end_time": "2023-07-31T18:53:05.744030",
     "exception": false,
     "start_time": "2023-07-31T18:53:05.694032",
     "status": "completed"
    },
    "tags": []
   },
   "outputs": [
    {
     "data": {
      "text/plain": [
       "tensor([[2, 2, 7, 4, 3, 7, 7]])"
      ]
     },
     "execution_count": 74,
     "metadata": {},
     "output_type": "execute_result"
    }
   ],
   "source": [
    "b"
   ]
  },
  {
   "cell_type": "code",
   "execution_count": 75,
   "id": "7bac11b0",
   "metadata": {
    "execution": {
     "iopub.execute_input": "2023-07-31T18:53:05.825439Z",
     "iopub.status.busy": "2023-07-31T18:53:05.824548Z",
     "iopub.status.idle": "2023-07-31T18:53:05.829494Z",
     "shell.execute_reply": "2023-07-31T18:53:05.828660Z"
    },
    "executionInfo": {
     "elapsed": 401,
     "status": "ok",
     "timestamp": 1689007803612,
     "user": {
      "displayName": "Gustavo Robl Zitta",
      "userId": "12496481005659581268"
     },
     "user_tz": 180
    },
    "id": "1JVZbjhzsr20",
    "papermill": {
     "duration": 0.047662,
     "end_time": "2023-07-31T18:53:05.831495",
     "exception": false,
     "start_time": "2023-07-31T18:53:05.783833",
     "status": "completed"
    },
    "tags": []
   },
   "outputs": [],
   "source": [
    "tensor=torch.rand(size=(1,1,1,1,1,10))"
   ]
  },
  {
   "cell_type": "code",
   "execution_count": 76,
   "id": "744c134b",
   "metadata": {
    "execution": {
     "iopub.execute_input": "2023-07-31T18:53:05.912920Z",
     "iopub.status.busy": "2023-07-31T18:53:05.912296Z",
     "iopub.status.idle": "2023-07-31T18:53:05.918263Z",
     "shell.execute_reply": "2023-07-31T18:53:05.917279Z"
    },
    "executionInfo": {
     "elapsed": 374,
     "status": "ok",
     "timestamp": 1689007724378,
     "user": {
      "displayName": "Gustavo Robl Zitta",
      "userId": "12496481005659581268"
     },
     "user_tz": 180
    },
    "id": "bX4BhMPJtAIj",
    "outputId": "3f210473-610b-4de1-906b-3c8f73a98650",
    "papermill": {
     "duration": 0.048735,
     "end_time": "2023-07-31T18:53:05.920287",
     "exception": false,
     "start_time": "2023-07-31T18:53:05.871552",
     "status": "completed"
    },
    "tags": []
   },
   "outputs": [
    {
     "data": {
      "text/plain": [
       "torch.Size([1, 1, 1, 1, 1, 10])"
      ]
     },
     "execution_count": 76,
     "metadata": {},
     "output_type": "execute_result"
    }
   ],
   "source": [
    "tensor.size()"
   ]
  },
  {
   "cell_type": "code",
   "execution_count": 77,
   "id": "08fdc328",
   "metadata": {
    "execution": {
     "iopub.execute_input": "2023-07-31T18:53:06.001389Z",
     "iopub.status.busy": "2023-07-31T18:53:06.000679Z",
     "iopub.status.idle": "2023-07-31T18:53:06.007745Z",
     "shell.execute_reply": "2023-07-31T18:53:06.006844Z"
    },
    "executionInfo": {
     "elapsed": 396,
     "status": "ok",
     "timestamp": 1689007782189,
     "user": {
      "displayName": "Gustavo Robl Zitta",
      "userId": "12496481005659581268"
     },
     "user_tz": 180
    },
    "id": "sB-5vplgtL4w",
    "outputId": "b53f30b9-b4fc-41b2-c611-6b34defc80a5",
    "papermill": {
     "duration": 0.049866,
     "end_time": "2023-07-31T18:53:06.009723",
     "exception": false,
     "start_time": "2023-07-31T18:53:05.959857",
     "status": "completed"
    },
    "tags": []
   },
   "outputs": [
    {
     "data": {
      "text/plain": [
       "torch.Size([1, 1, 1, 1, 1, 10])"
      ]
     },
     "execution_count": 77,
     "metadata": {},
     "output_type": "execute_result"
    }
   ],
   "source": [
    "tensor.size()"
   ]
  },
  {
   "cell_type": "code",
   "execution_count": 78,
   "id": "66b6ad14",
   "metadata": {
    "execution": {
     "iopub.execute_input": "2023-07-31T18:53:06.093988Z",
     "iopub.status.busy": "2023-07-31T18:53:06.093697Z",
     "iopub.status.idle": "2023-07-31T18:53:06.102046Z",
     "shell.execute_reply": "2023-07-31T18:53:06.100786Z"
    },
    "executionInfo": {
     "elapsed": 2,
     "status": "ok",
     "timestamp": 1689009139901,
     "user": {
      "displayName": "Gustavo Robl Zitta",
      "userId": "12496481005659581268"
     },
     "user_tz": 180
    },
    "id": "HMNCqfMotDRm",
    "outputId": "89ac25a0-376c-458f-ccde-2e2caf5dd251",
    "papermill": {
     "duration": 0.054148,
     "end_time": "2023-07-31T18:53:06.103965",
     "exception": false,
     "start_time": "2023-07-31T18:53:06.049817",
     "status": "completed"
    },
    "tags": []
   },
   "outputs": [
    {
     "data": {
      "text/plain": [
       "tensor([[[0.6274, 0.2696, 0.4414, 0.2969, 0.8317, 0.1053, 0.2695, 0.3588,\n",
       "          0.1994, 0.5472]]])"
      ]
     },
     "execution_count": 78,
     "metadata": {},
     "output_type": "execute_result"
    }
   ],
   "source": [
    "tensor.squeeze().unsqueeze(0).unsqueeze(0).cpu()"
   ]
  },
  {
   "cell_type": "code",
   "execution_count": null,
   "id": "be880b72",
   "metadata": {
    "executionInfo": {
     "elapsed": 2,
     "status": "ok",
     "timestamp": 1689007749133,
     "user": {
      "displayName": "Gustavo Robl Zitta",
      "userId": "12496481005659581268"
     },
     "user_tz": 180
    },
    "id": "bK02GWUktIIm",
    "papermill": {
     "duration": 0.04143,
     "end_time": "2023-07-31T18:53:06.186091",
     "exception": false,
     "start_time": "2023-07-31T18:53:06.144661",
     "status": "completed"
    },
    "tags": []
   },
   "outputs": [],
   "source": []
  }
 ],
 "metadata": {
  "kernelspec": {
   "display_name": "Python 3",
   "language": "python",
   "name": "python3"
  },
  "language_info": {
   "codemirror_mode": {
    "name": "ipython",
    "version": 3
   },
   "file_extension": ".py",
   "mimetype": "text/x-python",
   "name": "python",
   "nbconvert_exporter": "python",
   "pygments_lexer": "ipython3",
   "version": "3.10.12"
  },
  "papermill": {
   "default_parameters": {},
   "duration": 26.444401,
   "end_time": "2023-07-31T18:53:07.849797",
   "environment_variables": {},
   "exception": null,
   "input_path": "__notebook__.ipynb",
   "output_path": "__notebook__.ipynb",
   "parameters": {},
   "start_time": "2023-07-31T18:52:41.405396",
   "version": "2.4.0"
  }
 },
 "nbformat": 4,
 "nbformat_minor": 5
}
